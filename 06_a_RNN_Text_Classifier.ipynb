{
 "cells": [
  {
   "cell_type": "markdown",
   "metadata": {},
   "source": [
    "<img align=\"right\" width=\"400\" src=\"https://www.fhnw.ch/de/++theme++web16theme/assets/media/img/fachhochschule-nordwestschweiz-fhnw-logo.svg\" alt=\"FHNW Logo\">\n",
    "\n",
    "\n",
    "# RNN Text Classifier\n",
    "\n",
    "by Fabian Märki\n",
    "\n",
    "## Summary\n",
    "The aim of this notebook is to program a RNN text classifier. Additionally, it sets the stage for a later hyperparameter tuning also allowing for model design optimization.\n",
    "\n",
    "<a href=\"https://colab.research.google.com/github/markif/2021_HS_DAS_NLP_Notebooks/blob/master/06_a_RNN_Text_Classifier.ipynb\">\n",
    "  <img align=\"left\" src=\"https://colab.research.google.com/assets/colab-badge.svg\" alt=\"Open In Colab\"/>\n",
    "</a>"
   ]
  },
  {
   "cell_type": "code",
   "execution_count": 1,
   "metadata": {},
   "outputs": [
    {
     "name": "stdout",
     "output_type": "stream",
     "text": [
      "Requirement already satisfied: fhnw-nlp-utils>=0.1.3 in /usr/local/lib/python3.6/dist-packages (0.1.3)\n",
      "Requirement already satisfied: wget in /usr/local/lib/python3.6/dist-packages (from fhnw-nlp-utils>=0.1.3) (3.2)\n",
      "Requirement already satisfied: pandas in /usr/local/lib/python3.6/dist-packages (from fhnw-nlp-utils>=0.1.3) (1.1.5)\n",
      "Requirement already satisfied: numpy in /usr/local/lib/python3.6/dist-packages (from fhnw-nlp-utils>=0.1.3) (1.19.5)\n",
      "Requirement already satisfied: psutil in /usr/local/lib/python3.6/dist-packages (from fhnw-nlp-utils>=0.1.3) (5.8.0)\n",
      "Requirement already satisfied: gdown in /usr/local/lib/python3.6/dist-packages (from fhnw-nlp-utils>=0.1.3) (3.13.1)\n",
      "Requirement already satisfied: nltk in /usr/local/lib/python3.6/dist-packages (from fhnw-nlp-utils>=0.1.3) (3.6.2)\n",
      "Requirement already satisfied: multiprocess in /usr/local/lib/python3.6/dist-packages (from fhnw-nlp-utils>=0.1.3) (0.70.12.2)\n",
      "Requirement already satisfied: wordcloud in /usr/local/lib/python3.6/dist-packages (from fhnw-nlp-utils>=0.1.3) (1.8.1)\n",
      "Requirement already satisfied: matplotlib in /usr/local/lib/python3.6/dist-packages (from fhnw-nlp-utils>=0.1.3) (3.3.4)\n",
      "Requirement already satisfied: scikit-learn in /usr/local/lib/python3.6/dist-packages (from fhnw-nlp-utils>=0.1.3) (0.24.2)\n",
      "Requirement already satisfied: pytz>=2017.2 in /usr/local/lib/python3.6/dist-packages (from pandas->fhnw-nlp-utils>=0.1.3) (2021.1)\n",
      "Requirement already satisfied: python-dateutil>=2.7.3 in /usr/local/lib/python3.6/dist-packages (from pandas->fhnw-nlp-utils>=0.1.3) (2.8.2)\n",
      "Requirement already satisfied: requests[socks]>=2.12.0 in /usr/local/lib/python3.6/dist-packages (from gdown->fhnw-nlp-utils>=0.1.3) (2.26.0)\n",
      "Requirement already satisfied: six in /usr/local/lib/python3.6/dist-packages (from gdown->fhnw-nlp-utils>=0.1.3) (1.15.0)\n",
      "Requirement already satisfied: filelock in /usr/local/lib/python3.6/dist-packages (from gdown->fhnw-nlp-utils>=0.1.3) (3.0.12)\n",
      "Requirement already satisfied: tqdm in /usr/local/lib/python3.6/dist-packages (from gdown->fhnw-nlp-utils>=0.1.3) (4.62.2)\n",
      "Requirement already satisfied: regex in /usr/local/lib/python3.6/dist-packages (from nltk->fhnw-nlp-utils>=0.1.3) (2021.8.28)\n",
      "Requirement already satisfied: joblib in /usr/local/lib/python3.6/dist-packages (from nltk->fhnw-nlp-utils>=0.1.3) (1.0.1)\n",
      "Requirement already satisfied: click in /usr/local/lib/python3.6/dist-packages (from nltk->fhnw-nlp-utils>=0.1.3) (8.0.1)\n",
      "Requirement already satisfied: dill>=0.3.4 in /usr/local/lib/python3.6/dist-packages (from multiprocess->fhnw-nlp-utils>=0.1.3) (0.3.4)\n",
      "Requirement already satisfied: pillow in /usr/local/lib/python3.6/dist-packages (from wordcloud->fhnw-nlp-utils>=0.1.3) (8.3.1)\n",
      "Requirement already satisfied: kiwisolver>=1.0.1 in /usr/local/lib/python3.6/dist-packages (from matplotlib->fhnw-nlp-utils>=0.1.3) (1.3.1)\n",
      "Requirement already satisfied: cycler>=0.10 in /usr/local/lib/python3.6/dist-packages (from matplotlib->fhnw-nlp-utils>=0.1.3) (0.10.0)\n",
      "Requirement already satisfied: pyparsing!=2.0.4,!=2.1.2,!=2.1.6,>=2.0.3 in /usr/local/lib/python3.6/dist-packages (from matplotlib->fhnw-nlp-utils>=0.1.3) (2.4.7)\n",
      "Requirement already satisfied: threadpoolctl>=2.0.0 in /usr/local/lib/python3.6/dist-packages (from scikit-learn->fhnw-nlp-utils>=0.1.3) (2.2.0)\n",
      "Requirement already satisfied: scipy>=0.19.1 in /usr/local/lib/python3.6/dist-packages (from scikit-learn->fhnw-nlp-utils>=0.1.3) (1.5.4)\n",
      "Requirement already satisfied: charset-normalizer~=2.0.0; python_version >= \"3\" in /usr/local/lib/python3.6/dist-packages (from requests[socks]>=2.12.0->gdown->fhnw-nlp-utils>=0.1.3) (2.0.4)\n",
      "Requirement already satisfied: idna<4,>=2.5; python_version >= \"3\" in /usr/lib/python3/dist-packages (from requests[socks]>=2.12.0->gdown->fhnw-nlp-utils>=0.1.3) (2.6)\n",
      "Requirement already satisfied: urllib3<1.27,>=1.21.1 in /usr/local/lib/python3.6/dist-packages (from requests[socks]>=2.12.0->gdown->fhnw-nlp-utils>=0.1.3) (1.26.6)\n",
      "Requirement already satisfied: certifi>=2017.4.17 in /usr/local/lib/python3.6/dist-packages (from requests[socks]>=2.12.0->gdown->fhnw-nlp-utils>=0.1.3) (2021.5.30)\n",
      "Requirement already satisfied: PySocks!=1.5.7,>=1.5.6; extra == \"socks\" in /usr/local/lib/python3.6/dist-packages (from requests[socks]>=2.12.0->gdown->fhnw-nlp-utils>=0.1.3) (1.7.1)\n",
      "Requirement already satisfied: importlib-metadata; python_version < \"3.8\" in /usr/local/lib/python3.6/dist-packages (from click->nltk->fhnw-nlp-utils>=0.1.3) (4.6.3)\n",
      "Requirement already satisfied: typing-extensions>=3.6.4; python_version < \"3.8\" in /usr/local/lib/python3.6/dist-packages (from importlib-metadata; python_version < \"3.8\"->click->nltk->fhnw-nlp-utils>=0.1.3) (3.7.4.3)\n",
      "Requirement already satisfied: zipp>=0.5 in /usr/local/lib/python3.6/dist-packages (from importlib-metadata; python_version < \"3.8\"->click->nltk->fhnw-nlp-utils>=0.1.3) (3.5.0)\n",
      "\u001b[33mWARNING: You are using pip version 20.2.4; however, version 21.2.4 is available.\n",
      "You should consider upgrading via the '/usr/bin/python3 -m pip install --upgrade pip' command.\u001b[0m\n",
      "Tensorflow version: 2.5.1\n",
      "GPU is available\n"
     ]
    }
   ],
   "source": [
    "!pip install 'fhnw-nlp-utils>=0.1.6,<0.2'\n",
    "\n",
    "from fhnw.nlp.utils.storage import load_dataframe\n",
    "from fhnw.nlp.utils.storage import download\n",
    "from fhnw.nlp.utils.colab import runs_on_colab\n",
    "\n",
    "import numpy as np\n",
    "import pandas as pd\n",
    "\n",
    "import tensorflow as tf\n",
    "\n",
    "print(\"Tensorflow version:\", tf.__version__)\n",
    "\n",
    "#physical_devices = tf.config.list_physical_devices('GPU') \n",
    "#tf.config.experimental.set_memory_growth(physical_devices[0], True)\n",
    "gpu_devices = tf.config.experimental.list_physical_devices('GPU')\n",
    "for device in gpu_devices:\n",
    "    tf.config.experimental.set_memory_growth(device, True)\n",
    "\n",
    "print(\"GPU is\", \"available\" if tf.config.list_physical_devices(\"GPU\") else \"NOT AVAILABLE\")"
   ]
  },
  {
   "cell_type": "code",
   "execution_count": 2,
   "metadata": {},
   "outputs": [
    {
     "name": "stdout",
     "output_type": "stream",
     "text": [
      "CPU times: user 14.7 s, sys: 2.32 s, total: 17 s\n",
      "Wall time: 8.99 s\n"
     ]
    }
   ],
   "source": [
    "%%time\n",
    "download(\"https://drive.google.com/uc?id=19AFeVnOfX8WXU4_3rM7OFoNTWWog_sb_\", \"data/german_doctor_reviews_tokenized.parq\")\n",
    "data = load_dataframe(\"data/german_doctor_reviews_tokenized.parq\")\n",
    "\n",
    "download(\"https://drive.google.com/uc?id=1tT2dj70GLi2bJYg4j3g1MIglGXTDAugI\", \"data/german_doctor_reviews_augmented_tokenized.parq\")\n",
    "data_aug = load_dataframe(\"data/german_doctor_reviews_augmented_tokenized.parq\")"
   ]
  },
  {
   "cell_type": "code",
   "execution_count": 3,
   "metadata": {},
   "outputs": [
    {
     "data": {
      "text/plain": [
       "(331187, 10)"
      ]
     },
     "execution_count": 3,
     "metadata": {},
     "output_type": "execute_result"
    }
   ],
   "source": [
    "# remove all neutral sentimens\n",
    "data = data.loc[(data[\"label\"] != \"neutral\")]\n",
    "data.shape"
   ]
  },
  {
   "cell_type": "code",
   "execution_count": 4,
   "metadata": {},
   "outputs": [
    {
     "data": {
      "text/html": [
       "<div>\n",
       "<style scoped>\n",
       "    .dataframe tbody tr th:only-of-type {\n",
       "        vertical-align: middle;\n",
       "    }\n",
       "\n",
       "    .dataframe tbody tr th {\n",
       "        vertical-align: top;\n",
       "    }\n",
       "\n",
       "    .dataframe thead th {\n",
       "        text-align: right;\n",
       "    }\n",
       "</style>\n",
       "<table border=\"1\" class=\"dataframe\">\n",
       "  <thead>\n",
       "    <tr style=\"text-align: right;\">\n",
       "      <th></th>\n",
       "      <th>text_original</th>\n",
       "      <th>rating</th>\n",
       "      <th>text</th>\n",
       "      <th>label</th>\n",
       "      <th>sentiment</th>\n",
       "      <th>token_clean</th>\n",
       "      <th>text_clean</th>\n",
       "      <th>token_lemma</th>\n",
       "      <th>token_stem</th>\n",
       "      <th>token_clean_stopwords</th>\n",
       "    </tr>\n",
       "  </thead>\n",
       "  <tbody>\n",
       "    <tr>\n",
       "      <th>0</th>\n",
       "      <td>Ich bin franzose und bin seit ein paar Wochen ...</td>\n",
       "      <td>2.0</td>\n",
       "      <td>Ich bin franzose und bin seit ein paar Wochen ...</td>\n",
       "      <td>positive</td>\n",
       "      <td>1</td>\n",
       "      <td>[ich, bin, franzose, und, bin, seit, ein, paar...</td>\n",
       "      <td>ich bin franzose und bin seit ein paar wochen ...</td>\n",
       "      <td>[franzose, seit, paar, wochen, muenchen, zahn,...</td>\n",
       "      <td>[franzos, seit, paar, woch, muench, ., zahn, s...</td>\n",
       "      <td>[franzose, seit, paar, wochen, muenchen, ., za...</td>\n",
       "    </tr>\n",
       "    <tr>\n",
       "      <th>1</th>\n",
       "      <td>Dieser Arzt ist das unmöglichste was mir in me...</td>\n",
       "      <td>6.0</td>\n",
       "      <td>Dieser Arzt ist das unmöglichste was mir in me...</td>\n",
       "      <td>negative</td>\n",
       "      <td>-1</td>\n",
       "      <td>[dieser, arzt, ist, das, unmöglichste, was, mi...</td>\n",
       "      <td>dieser arzt ist das unmöglichste was mir in me...</td>\n",
       "      <td>[arzt, unmöglichste, leben, je, begegnen, unfr...</td>\n",
       "      <td>[arzt, unmog, leb, je, begegnet, unfreund, ,, ...</td>\n",
       "      <td>[arzt, unmöglichste, leben, je, begegnet, unfr...</td>\n",
       "    </tr>\n",
       "    <tr>\n",
       "      <th>2</th>\n",
       "      <td>Hatte akute Beschwerden am Rücken. Herr Magura...</td>\n",
       "      <td>1.0</td>\n",
       "      <td>Hatte akute Beschwerden am Rücken. Herr Magura...</td>\n",
       "      <td>positive</td>\n",
       "      <td>1</td>\n",
       "      <td>[hatte, akute, beschwerden, am, rücken, ., her...</td>\n",
       "      <td>hatte akute beschwerden am rücken . herr magur...</td>\n",
       "      <td>[akut, beschwerden, rücken, magura, erste, arz...</td>\n",
       "      <td>[akut, beschwerd, ruck, ., magura, erst, arzt,...</td>\n",
       "      <td>[akute, beschwerden, rücken, ., magura, erste,...</td>\n",
       "    </tr>\n",
       "  </tbody>\n",
       "</table>\n",
       "</div>"
      ],
      "text/plain": [
       "                                       text_original  rating  \\\n",
       "0  Ich bin franzose und bin seit ein paar Wochen ...     2.0   \n",
       "1  Dieser Arzt ist das unmöglichste was mir in me...     6.0   \n",
       "2  Hatte akute Beschwerden am Rücken. Herr Magura...     1.0   \n",
       "\n",
       "                                                text     label  sentiment  \\\n",
       "0  Ich bin franzose und bin seit ein paar Wochen ...  positive          1   \n",
       "1  Dieser Arzt ist das unmöglichste was mir in me...  negative         -1   \n",
       "2  Hatte akute Beschwerden am Rücken. Herr Magura...  positive          1   \n",
       "\n",
       "                                         token_clean  \\\n",
       "0  [ich, bin, franzose, und, bin, seit, ein, paar...   \n",
       "1  [dieser, arzt, ist, das, unmöglichste, was, mi...   \n",
       "2  [hatte, akute, beschwerden, am, rücken, ., her...   \n",
       "\n",
       "                                          text_clean  \\\n",
       "0  ich bin franzose und bin seit ein paar wochen ...   \n",
       "1  dieser arzt ist das unmöglichste was mir in me...   \n",
       "2  hatte akute beschwerden am rücken . herr magur...   \n",
       "\n",
       "                                         token_lemma  \\\n",
       "0  [franzose, seit, paar, wochen, muenchen, zahn,...   \n",
       "1  [arzt, unmöglichste, leben, je, begegnen, unfr...   \n",
       "2  [akut, beschwerden, rücken, magura, erste, arz...   \n",
       "\n",
       "                                          token_stem  \\\n",
       "0  [franzos, seit, paar, woch, muench, ., zahn, s...   \n",
       "1  [arzt, unmog, leb, je, begegnet, unfreund, ,, ...   \n",
       "2  [akut, beschwerd, ruck, ., magura, erst, arzt,...   \n",
       "\n",
       "                               token_clean_stopwords  \n",
       "0  [franzose, seit, paar, wochen, muenchen, ., za...  \n",
       "1  [arzt, unmöglichste, leben, je, begegnet, unfr...  \n",
       "2  [akute, beschwerden, rücken, ., magura, erste,...  "
      ]
     },
     "execution_count": 4,
     "metadata": {},
     "output_type": "execute_result"
    }
   ],
   "source": [
    "data.head(3)"
   ]
  },
  {
   "cell_type": "code",
   "execution_count": 5,
   "metadata": {},
   "outputs": [
    {
     "data": {
      "text/html": [
       "<div>\n",
       "<style scoped>\n",
       "    .dataframe tbody tr th:only-of-type {\n",
       "        vertical-align: middle;\n",
       "    }\n",
       "\n",
       "    .dataframe tbody tr th {\n",
       "        vertical-align: top;\n",
       "    }\n",
       "\n",
       "    .dataframe thead th {\n",
       "        text-align: right;\n",
       "    }\n",
       "</style>\n",
       "<table border=\"1\" class=\"dataframe\">\n",
       "  <thead>\n",
       "    <tr style=\"text-align: right;\">\n",
       "      <th></th>\n",
       "      <th>text_original</th>\n",
       "      <th>rating</th>\n",
       "      <th>sentiment</th>\n",
       "      <th>text</th>\n",
       "      <th>label</th>\n",
       "      <th>token_clean</th>\n",
       "      <th>text_clean</th>\n",
       "      <th>token_lemma</th>\n",
       "      <th>token_stem</th>\n",
       "      <th>token_clean_stopwords</th>\n",
       "    </tr>\n",
       "  </thead>\n",
       "  <tbody>\n",
       "    <tr>\n",
       "      <th>1</th>\n",
       "      <td>Dieser Arzt ist das unmöglichste was mir in me...</td>\n",
       "      <td>6.0</td>\n",
       "      <td>-1</td>\n",
       "      <td>Dieser Arzt ist das unmöglichste was mir in me...</td>\n",
       "      <td>negative</td>\n",
       "      <td>[dieser, arzt, ist, das, unmöglichste, was, mi...</td>\n",
       "      <td>dieser arzt ist das unmöglichste was mir in me...</td>\n",
       "      <td>[arzt, unmöglichste, leben, je, begegnen, unfr...</td>\n",
       "      <td>[arzt, unmog, leb, je, begegnet, unfreund, ,, ...</td>\n",
       "      <td>[arzt, unmöglichste, leben, je, begegnet, unfr...</td>\n",
       "    </tr>\n",
       "    <tr>\n",
       "      <th>1</th>\n",
       "      <td>Dieser Arzt ist das unmöglichste was mir in me...</td>\n",
       "      <td>6.0</td>\n",
       "      <td>-1</td>\n",
       "      <td>Dieser Arzt ist das unmöglichste was mir in me...</td>\n",
       "      <td>negative</td>\n",
       "      <td>[dieser, arzt, ist, das, unmöglichste, was, mi...</td>\n",
       "      <td>dieser arzt ist das unmöglichste was mir in me...</td>\n",
       "      <td>[arzt, unmöglichste, leben, je, begegnen, unfr...</td>\n",
       "      <td>[arzt, unmog, leb, je, begegnet, unfreund, ,, ...</td>\n",
       "      <td>[arzt, unmöglichste, leben, je, begegnet, unfr...</td>\n",
       "    </tr>\n",
       "    <tr>\n",
       "      <th>1</th>\n",
       "      <td>Dieser Arzt ist das unmöglichste was mir in me...</td>\n",
       "      <td>6.0</td>\n",
       "      <td>-1</td>\n",
       "      <td>Dieser Arzt ist das unmöglichste was mir in me...</td>\n",
       "      <td>negative</td>\n",
       "      <td>[dieser, arzt, ist, das, unmöglichste, was, mi...</td>\n",
       "      <td>dieser arzt ist das unmöglichste was mir in me...</td>\n",
       "      <td>[arzt, unmöglichste, leben, je, begegnen, unfr...</td>\n",
       "      <td>[arzt, unmog, leb, je, begegnet, unfreund, ,, ...</td>\n",
       "      <td>[arzt, unmöglichste, leben, je, begegnet, unfr...</td>\n",
       "    </tr>\n",
       "  </tbody>\n",
       "</table>\n",
       "</div>"
      ],
      "text/plain": [
       "                                       text_original  rating  sentiment  \\\n",
       "1  Dieser Arzt ist das unmöglichste was mir in me...     6.0         -1   \n",
       "1  Dieser Arzt ist das unmöglichste was mir in me...     6.0         -1   \n",
       "1  Dieser Arzt ist das unmöglichste was mir in me...     6.0         -1   \n",
       "\n",
       "                                                text     label  \\\n",
       "1  Dieser Arzt ist das unmöglichste was mir in me...  negative   \n",
       "1  Dieser Arzt ist das unmöglichste was mir in me...  negative   \n",
       "1  Dieser Arzt ist das unmöglichste was mir in me...  negative   \n",
       "\n",
       "                                         token_clean  \\\n",
       "1  [dieser, arzt, ist, das, unmöglichste, was, mi...   \n",
       "1  [dieser, arzt, ist, das, unmöglichste, was, mi...   \n",
       "1  [dieser, arzt, ist, das, unmöglichste, was, mi...   \n",
       "\n",
       "                                          text_clean  \\\n",
       "1  dieser arzt ist das unmöglichste was mir in me...   \n",
       "1  dieser arzt ist das unmöglichste was mir in me...   \n",
       "1  dieser arzt ist das unmöglichste was mir in me...   \n",
       "\n",
       "                                         token_lemma  \\\n",
       "1  [arzt, unmöglichste, leben, je, begegnen, unfr...   \n",
       "1  [arzt, unmöglichste, leben, je, begegnen, unfr...   \n",
       "1  [arzt, unmöglichste, leben, je, begegnen, unfr...   \n",
       "\n",
       "                                          token_stem  \\\n",
       "1  [arzt, unmog, leb, je, begegnet, unfreund, ,, ...   \n",
       "1  [arzt, unmog, leb, je, begegnet, unfreund, ,, ...   \n",
       "1  [arzt, unmog, leb, je, begegnet, unfreund, ,, ...   \n",
       "\n",
       "                               token_clean_stopwords  \n",
       "1  [arzt, unmöglichste, leben, je, begegnet, unfr...  \n",
       "1  [arzt, unmöglichste, leben, je, begegnet, unfr...  \n",
       "1  [arzt, unmöglichste, leben, je, begegnet, unfr...  "
      ]
     },
     "execution_count": 5,
     "metadata": {},
     "output_type": "execute_result"
    }
   ],
   "source": [
    "data_aug.head(3)"
   ]
  },
  {
   "cell_type": "code",
   "execution_count": null,
   "metadata": {},
   "outputs": [],
   "source": []
  },
  {
   "cell_type": "code",
   "execution_count": 6,
   "metadata": {},
   "outputs": [],
   "source": [
    "from fhnw.nlp.utils.ploting import plot_history\n",
    "\n",
    "from fhnw.nlp.utils.params import build_model_cnn\n",
    "from fhnw.nlp.utils.params import build_model_rnn\n",
    "from fhnw.nlp.utils.params import compile_model\n",
    "from fhnw.nlp.utils.params import create_label_binarizer_and_set\n",
    "from fhnw.nlp.utils.params import dataframe_to_dataset\n",
    "from fhnw.nlp.utils.params import extract_embedding_layer_and_set\n",
    "from fhnw.nlp.utils.params import extract_text_vectorization_and_set\n",
    "from fhnw.nlp.utils.params import extract_vocabulary_and_set\n",
    "from fhnw.nlp.utils.params import get_train_test_split\n",
    "from fhnw.nlp.utils.params import re_compile_model\n",
    "from fhnw.nlp.utils.params import save_model\n",
    "from fhnw.nlp.utils.params import train_model"
   ]
  },
  {
   "cell_type": "code",
   "execution_count": 7,
   "metadata": {},
   "outputs": [],
   "source": [
    "params = {\n",
    "    \"verbose\": True,\n",
    "    \"shuffle\": True,\n",
    "    \"batch_size\": 128,\n",
    "    \"X_column_name\": \"text_clean\",\n",
    "    \"y_column_name\": \"label\",\n",
    "    \"embedding_type\": \"fasttext\",\n",
    "    #\"embedding_type\": \"bytepair\",\n",
    "    \"embedding_dim\": 300,\n",
    "    \"embedding_mask_zero\": True,\n",
    "    \"embedding_trainable\": False,\n",
    "    #\"embedding_input_sequence_length\": output_sequence_length if 'output_sequence_length' in locals() or 'output_sequence_length' in globals() else None,\n",
    "    \"embedding_fasttext_model\": \"cc.de.300.bin\",\n",
    "    \"embedding_word2vec_model_url\": \"https://cloud.devmount.de/d2bc5672c523b086/german.model\",\n",
    "    \"embedding_spacy_model\": \"de_core_news_md\",\n",
    "    \"embedding_tensorflow_hub_url\": \"https://tfhub.dev/google/nnlm-de-dim128-with-normalization/2\",\n",
    "    \"model_type\": \"rnn\",\n",
    "}\n",
    "\n",
    "if runs_on_colab() and params[\"embedding_type\"] == \"fasttext\":\n",
    "    # colab as problems handling such large files\n",
    "    model_name = \"cc.de.50.bin\"\n",
    "    download(\"https://drive.google.com/uc?id=1iqw8UPEEVmzQQGmI5FkRJH8B5SkZCgXG\", model_name)\n",
    "    params[\"embedding_dim\"] = 50\n",
    "    params[\"embedding_fasttext_model\"] = model_name\n",
    "    "
   ]
  },
  {
   "cell_type": "code",
   "execution_count": 8,
   "metadata": {},
   "outputs": [],
   "source": [
    "all_data = pd.concat([data, data_aug])\n",
    "#all_data = data"
   ]
  },
  {
   "cell_type": "code",
   "execution_count": 9,
   "metadata": {},
   "outputs": [
    {
     "name": "stdout",
     "output_type": "stream",
     "text": [
      "Inferred classification type: binary\n",
      "Median sequence length: 58\n",
      "Percentil (0.98) cutoff sequence length: 301\n",
      "Max sequence length: 408\n",
      "Used embedding sequence length: 301\n"
     ]
    }
   ],
   "source": [
    "create_label_binarizer_and_set(params, all_data)\n",
    "extract_vocabulary_and_set(params, all_data)"
   ]
  },
  {
   "cell_type": "code",
   "execution_count": 10,
   "metadata": {},
   "outputs": [
    {
     "name": "stdout",
     "output_type": "stream",
     "text": [
      "Vocabulary length: 205493\n"
     ]
    }
   ],
   "source": [
    "extract_text_vectorization_and_set(params)"
   ]
  },
  {
   "cell_type": "code",
   "execution_count": 11,
   "metadata": {},
   "outputs": [
    {
     "name": "stderr",
     "output_type": "stream",
     "text": [
      "Warning : `load_model` does not return WordVectorModel or SupervisedModel any more, but a `FastText` object which is very similar.\n"
     ]
    },
    {
     "name": "stdout",
     "output_type": "stream",
     "text": [
      "Number of null word embeddings:  14\n",
      "Words not found in total:  14\n",
      "Words without embedding (14/14): [\"'t\", 'wã', '', '``', 'èn', 'úm', 'jé', \"''\", 'öä', 'üw', \"'s\", 'ìn', 'äk', 'öz']\n",
      "CPU times: user 6.42 s, sys: 4.64 s, total: 11.1 s\n",
      "Wall time: 13.8 s\n"
     ]
    }
   ],
   "source": [
    "%%time\n",
    "\n",
    "extract_embedding_layer_and_set(params)"
   ]
  },
  {
   "cell_type": "markdown",
   "metadata": {},
   "source": [
    "Prepare the training/test/validation data"
   ]
  },
  {
   "cell_type": "code",
   "execution_count": 12,
   "metadata": {},
   "outputs": [
    {
     "name": "stdout",
     "output_type": "stream",
     "text": [
      "264949 train examples\n",
      "66238 test examples\n",
      "449506 train examples\n",
      "112377 test examples\n"
     ]
    }
   ],
   "source": [
    "data_train, data_test = get_train_test_split(params, data)\n",
    "data_train = pd.concat([data_train, data_aug])\n",
    "data_train, data_val = get_train_test_split(params, data_train)\n",
    "\n",
    "dataset_train = dataframe_to_dataset(params, data_train)\n",
    "dataset_test = dataframe_to_dataset(params, data_test)\n",
    "dataset_val = dataframe_to_dataset(params, data_val)"
   ]
  },
  {
   "cell_type": "code",
   "execution_count": 13,
   "metadata": {},
   "outputs": [
    {
     "name": "stdout",
     "output_type": "stream",
     "text": [
      "{'text_clean': <tf.Tensor: shape=(128,), dtype=string, numpy=\n",
      "array([b'leider keine gute erfahrungen mit dr. feilscher . obwohl das praxisteam sehr engagiert erscheint , hat der doktor keine minuten zeit , um sich genauer seine patienten anzusehen . nach pr\\xc3\\xbcfung externer dritter wurde bei mir regelm\\xc3\\xa4\\xc3\\x9fig medizinische probleme \\xc3\\xbcbersehen und letzen endes eine vermeidbare op fehlerhaft durchgef\\xc3\\xbchrt . definitiv nicht zu empfehlen !',\n",
      "       b'ich bin seit vielen jahren patient bei dr. b\\xc3\\xb6hm und bin immer noch bei ihm , das sagt im grunde alles aus . seine art mit menschen umzugehen ist einfach hervorragend . seine praxismitarbeiterin sind ebenfalls schon seit jahren bei ihm , was auch hier zeigt , das das innenverh\\xc3\\xa4ltnis in der praxis top ist .',\n",
      "       b'ich habe schon einige zahn\\xc3\\xa4rzte besucht und wurde nie zufrieden gestellt ! bei diesem zahnarzt war das anders . er nahm sich zeit , hat sich f\\xc3\\xb6rmlich verbogen um mir eine angenehme behandlung zu erm\\xc3\\xb6glichen , hat mir alles erkl\\xc3\\xa4rt und mir auch dieses unangenehme gef\\xc3\\xbchl das man oft hat genommen ! ich kann ihn nur weiterempfehlen die jenigen unter uns die kompetenz und genauigkeit bei der arbeit suchen und mit einem l\\xc3\\xa4cheln den stuhl verlassen ! immer wieder gerne !',\n",
      "       b'ich bin seit patientin bei herrn dr. scholz und er hat mich neben schwangerschaft in allen belangen und gut beraten und behandelt . ausserdem ist die praxis mit sehr modernen ger\\xc3\\xa4ten ausgestattet und herr dr. scholz ist entsprechend meines empfindens immer auf dem aktuellen wissensstand , dank entsprechender fortbildungen und kongresse . er hat immer ein offenes ohr f\\xc3\\xbcr den patienten . das team der praxis ist immer freundlich , hilfsbereit und sehr kompetent .',\n",
      "       b'er will gar nicht helfen sehr abweisend schiebt seine eigenen aufgaben auf andere \\xc3\\xa4rzte und freundlich und kompetent',\n",
      "       b'herr janssen ist ein guter augenarzt . leider nimmt er sich nicht so viel zeit f\\xc3\\xbcr erkl\\xc3\\xa4rungen und hat einen sehr rauen unh\\xc3\\xb6flichen ton . daher f\\xc3\\xbchlte ich mich trotz seiner fachkompetenz dort nicht gut aufgehoben .',\n",
      "       b'hier habe ich mich von anfang an gut aufgehoben bzw . gut behandelt gef\\xc3\\xbchlt . ein sehr netter und kompetenter arzt auch auch eine sehr nette sprechstundenhilfe . absolut empfehlenswert ! danke !',\n",
      "       b'ich war heute beim dr. jan\\xc3\\x9fen das erste mal und hoffe das lezte .... er hat mich gefragt ob ich grippe habe ... keine untersuchung ? ! ... keine medikamenten ? ! ... nie wieder ! ich kann es nicht weiter empfehlen !',\n",
      "       b'super nett , kompetent , und ein klasse team !',\n",
      "       b'war jahrelang mit meinem sohn dort .... er war das einzige kind , sonst nur \\xc3\\xa4ltere damen und herren , wir mussten stundenlang warten , anstatt lieber ja , aber nee kinder haben dult ja es gibt nicht einmal b\\xc3\\xbccher f\\xc3\\xbcr kinder geschweige denn spielzeug dort oder was zu malen und am ende sa\\xc3\\x9fen wir min im behandlungszimmer und wissen immer noch nicht , was er eine salbe bekam frauen waren im zimmer nicht einmal wissen , welcher von ihnen der arzt dort war , hatten wahrscheinlich alle etwas zu sagen . nie wieder !',\n",
      "       b'ich kam als neupatient mit akuten neurodermitisschub in die paxis . die telefonische erreichbarkeit war f\\xc3\\xbcr mich absolut kein problem und ich konnte auch w\\xc3\\xa4hrend meines aufenthaltes im wartebereich keinerlei unerreichbarkeiten zur kentniss nehmen . das team war zu jedem patienten unabh\\xc3\\xa4ngig seiner herkunft gleich freundlich und zuvorkommend . dr. tourbier nahm sich ausreichend zeit meine probleme zu begutachten und verschrieb mir die notwendigen medikamente . es wurde in keinster weise versucht irgendwelche igel leistungen im beratungsgespr\\xc3\\xa4ch mit unter zu bringen . alles top !',\n",
      "       b'herr dr. wilde erkl\\xc3\\xa4rt sehr gut den ablauf der behandlung , erkennt wann der patient schmerzen hat und reagiert ad\\xc3\\xa4quat . er hat ideen zur l\\xc3\\xb6sung von problemen .',\n",
      "       b'ich kam in die praxis und wurde sehr freundlich von der arzthelferin begr\\xc3\\xbc\\xc3\\x9ft . im wartezimmer war auch eine sehr entspannten atmosph\\xc3\\xa4re . nach minuten wartezeit wurde ich schon aufgerufen . beim doktor setzte sich mein positiv gewonnener eindruck fort . ich wurde sehr gut aufgekl\\xc3\\xa4rt \\xc3\\xbcber meine erkrankung . das weitere prozedure wurde besprochen und ein sehr gut gelaunter arzt und seine schwester w\\xc3\\xbcnschten mir einen angenehmen nachmittag . parkpl\\xc3\\xa4tze im haus und fahrstuhl einfach super . jederzeit gerne wieder . bin im \\xc3\\xbcbrigen auch wieder schmerzfrei !',\n",
      "       b'dank dr. wiemer und seinem team wird mein leiden amd ertr\\xc3\\xa4glich . von der anmeldung , zur voruntersuchung , dem doktor und den netten damen oben ein sehr nettes team . auch wenn ich mal stunden warten muss nehme ich das gerne in kauf . woanders warte ich monate auf einen termin .',\n",
      "       b'also wer unn\\xc3\\xb6tig geld ausgeben m\\xc3\\xb6chtet gehe dort hin , hat viel ahnung von keine ahnung ! ! dagegen kollegin in der gem . praxis sehr freundlich und kompetent , das ist doch krass',\n",
      "       b'da mein enkel starke ohrenschmerzen hatte , und er , die std wartezeit immer noch nicht kam , gingen wir ohne \\xc3\\xa4rztliche behandlung nach hause . unversch\\xc3\\xa4mtheit , ein kind jahrelang so lange warten zu lassen , nie gegen',\n",
      "       b'mein mann und ich waren langj\\xc3\\xa4hrige patienten bei der vorg\\xc3\\xa4ngerin , frau dr. bastert , einer mehr als kompetenten und freundlichen \\xc3\\xa4rztin . nun haben wir bei ihrer nachfolgerin einen termin ausgemacht . kurz gesagt die erfolgreiche vorbehandlung meines einj\\xc3\\xa4hrigen sohnes durch frau dr. bastert wurde als falsch dargestellt und die weiterverfolgung der therapie als falsch abgelehnt . ein kassenrezept wurde auf einmal ein privatrezept . eine medizinische behandlung meines mannes , die in absprache mit ihr auf den herbst verschoben werden musste , wurde von frau dr. stachowitz auf einmal als kosmetisch dargestellt . nach der behandlung meines sohnes wurden wir beide des zimmers verwiesen , da er die behandlung meines mannes st\\xc3\\xb6re , obwhohl er bis auf ein paar mal dada absolut ruhig war . wir hatten das gef\\xc3\\xbchl als kassenpatienten und noch mit kind absolut nicht erw\\xc3\\xbcnscht zu sein .',\n",
      "       b'ich bin jetzt seit jahren dort in behandlung . der herr und seine sprechstundenhilfe sind schon echt eine nummer f\\xc3\\xbcr sich . freundlichkeit und h\\xc3\\xb6fflichkeit sucht man dort vergebens , der ton ist harsch , unpers\\xc3\\xb6nlich und gerne auch sehr anklagend wurde auch schon angebr\\xc3\\xbcllt . wer da kein dickes fell hat , sollte wo anders hingehen . f\\xc3\\xbcr kinder keinesfalls zu empfehlen . ich halte ihn denoch f\\xc3\\xbcr kompetent , er wei\\xc3\\x9f schon was er tut , wenn er sich unsicher ist \\xc3\\xbcberweist er an kollegen . erkl\\xc3\\xa4rungen sind knapp und wortkarg . man kann sich da schon etwas unverstanden und allein gelassen f\\xc3\\xbchlen . wenn man allerdings nicht all zu viele fragen stellt und sich selbst beliest , ist es ausreichend um die n\\xc3\\xb6tige grundversorgung abzudecken . manchmal muss man auch auf dingen beharren und termine f\\xc3\\xbcr die gleiche sache in kauf nehmen um zu einer antwort zu gelangen . in wiefern die zufriedenstellend ausf\\xc3\\xa4llt halte ich mal offen . verordnungsm\\xc3\\xa4ssig h\\xc3\\xa4lt der herr viel an seinem budget fest , man sollte also nicht zu viel verlangen . sonderleistungen und andere anspr\\xc3\\xbcche werden ignoriert sofern man nicht das n\\xc3\\xb6tige kleingeld besitzt . privatsph\\xc3\\xa4re w\\xc3\\xa4hrend der behandlung sollte man nicht erwarten . diskussionen \\xc3\\xbcber einen selbst oder andere , so dass das ganze wartezimmer mith\\xc3\\xb6rt sind eher die regel als eine ausnahme .',\n",
      "       b'die dame hat bei meinem zahn gepfuscht ! ! ! ich habe immer noch schmerzen und muss ein implantat bekommen , f\\xc3\\xbcr das noch bezahlt werden muss . r\\xc3\\xb6ntgenbilder wurden nur auf anfrage gemacht und mir nicht mal gezeigt . stattdessen kam sie rein und wollte mir den besagten zahn ziehen , damit sie alle beweise vernichtet . bin unglaublich unzufrieden . aber die zahnarzthelferinnen sind immer sehr nett und kompetent gewesen .',\n",
      "       b'inkompetenter arzt zus\\xc3\\xa4tzlich empfiehlt sie falsche medikamente als behandlung',\n",
      "       b'zwar grunds\\xc3\\xa4tzlich eine nette \\xc3\\xa4rztin , jaaa ... ... aber , tiefgehende weiter untersuchungen wo die indikation f\\xc3\\xbcr gegeben w\\xc3\\xa4re zieht sie bei jungen frauen scheinbar nicht in betracht ... nicht im sinne von schwangeren ! ! ! ! diskretion vom praxisteam ? fehlanzeige ! befunde die in der praxis gestellt wurden , kamen incl . einer empfehlung und einem rezept per post . keinerlei aufkl\\xc3\\xa4rung was wieso warum etc . sorgfaltspflicht nicht wirklich eingehalten meiner meinung nach ! ein kurzer anruf sowie vereinbarung eines besprechungstermin ist scheinbar zuviel verlangt . wartezeiten achjaa .. nehmen sie zeit mit ! ! ich finde ein gyn . sollte vertrauensw\\xc3\\xbcrdig sein so das man sich in der doch recht unangenehmen situ . doch etwas willkommen und wohl f\\xc3\\xbchlt .',\n",
      "       b'die praxis verschiedene anmeldungsschalter ! f\\xc3\\xbcr gesetzlich und privat krankenversicherte zwei klasen medizin pur . die \\xc3\\xa4rztin v\\xc3\\xb6llig desinteressiert und extrem unfreundlich . ich abgefertigt in ! minuten , ohne die m\\xc3\\xb6glichkeit , das problem vollst\\xc3\\xa4ndig schildern zu k\\xc3\\xb6nnen . behandlung unter aller w\\xc3\\xbcrde . so einen arztbesuch kann sich wirklich jeder sparen . mein rat an alle sucht euch einen anderen arzt eine andere praxis !',\n",
      "       b'diesen urologen kann ich \\xc3\\xbcberhaupt nicht weiterempfehlen . ich war eigentlich wegen einer zystitis dort , w\\xc3\\xa4hrend des behandlungsgespr\\xc3\\xa4chs hatte ich eher das gef\\xc3\\xbchl , in einem verkaufsgespr\\xc3\\xa4ch f\\xc3\\xbcr eine igelleistung zu sitzen . statt meiner blasenentz\\xc3\\xbcndung ging es um eine so genannte intestinale rehabilitation , die ich unbedingt durchf\\xc3\\xbchren musste . die konsultation dazu kostet bereits euro . schlie\\xc3\\x9flich wurde mir ohne warnung oder kl\\xc3\\xa4rung mit dem katheter urin entnommen , was den ganzen tag wahnsinnige schmerzen zur folge hatte . eine kultur wurde nicht geschaffen , sondern einfach der standard-knocker verschrieben .',\n",
      "       b'ich bin patientin der praxis in frankfurt . als neue patientin f\\xc3\\xbchlte ich mich sofort willkommen . herr dr. spielberger nahm sich sehr viel zeit f\\xc3\\xbcr das beratungsgespr\\xc3\\xa4ch und erkl\\xc3\\xa4rte alle arbeitsschritte . auch w\\xc3\\xa4hrend der behandlung wird immer wieder erkl\\xc3\\xa4rt , was gerade gemacht wird . das beruhigt sehr . die zahnreinigung wurde von herrn richter durchgef\\xc3\\xbchrt das ergebnis war super ! herr richter ist ebenfalls sehr freundlich , f\\xc3\\xbcrsorglich und geduldig . ich gehe immer angstfrei zu den behandlungen das ist ein tolles gef\\xc3\\xbchl ! danke herr dr spielberger , danke herr richter !',\n",
      "       b'dr d\\xc3\\xb6rh\\xc3\\xb6fer behandelt seine patienten sehr gr\\xc3\\xbcndlich und versucht den patienten als im sinne der gesamtmedizin zu verstehen . seine umgangsart ist sehr nett und zuvorkommend . f\\xc3\\xbcr akute f\\xc3\\xa4lle \\xc3\\xbcbeweist er an kompetente fach\\xc3\\xa4rzte .',\n",
      "       b'herr omari ist ein zahnarzt , bei dem ich mich , als angstpatient gut aufgehoben f\\xc3\\xbchle . er hat mir die angst genommen vor untersuchungen . er ist sehr freundlich .',\n",
      "       b'nein ! dann lieber jeden anderen arzt ! ...................................................................................................................................',\n",
      "       b'ich bin schon l\\xc3\\xa4nger auf der suche nach einem gutem arzt jetzt habe ich ihn gefunden . nicht nur das er sehr kompetent ist , sondern auch sein ganzes team .',\n",
      "       b'bestand darin das ich gefragt wurde ob das kind ausreichend trinkt messen und wiegen der arzt schaute einmal in den mund das wars . impfen war eine katastrophe mein kind hatte danach ein abzess . ich bin selber vom fach und bin \\xc3\\xbcber diesen arzt entsetzt . keine meiner fragen und bedenken wurden beantwortet oder drauf eingegangen . ich bin wirklich fassungslos',\n",
      "       b'ich kenne den arzt seit ca . jahren . um einen r\\xc3\\xb6ntgenbild habe ich halbes jahr gebettelt . bei frage um rehasport gehen sie doch tanzen bei frage nach eine reha das machen wir wenn sie alt sind . notwendige termin zu therapie anfang nach ca . monate der zust\\xc3\\xa4ndige arzt macht eine weltreise arzt wechsel reha steht bei meine diagnose mir jahrlich zu . medikament ver\\xc3\\xa4ndert . notwendige termin zu therapie in krankenhaus sofort gemacht .',\n",
      "       b'ich bin sehr zufrieden mit dem arzt er nimmt sich zeit f\\xc3\\xbcr mich und kl\\xc3\\xa4rt mich gut auf die theraphie hilft mir sehr gut und habe auch nicht mehr so starke schmerzen wie vorher',\n",
      "       b'nach dem die akupunktur gegen schmerzen erfolglos war , bekam ich die antwort , die schmerzen k\\xc3\\xb6nne sie mir nicht nehmen , damit m\\xc3\\xbcsse ich leben .',\n",
      "       b'ich kann diesen arzt nicht weiterempfehlen . er hat eine unm\\xc3\\xb6gliche art gegen\\xc3\\xbcber unserem \\xc3\\xa4ngstlichen kind an den tag gelegt , sowas hab ich noch nie erlebt . eine vertrauensbasis ist \\xc3\\xbcberhaupt nicht m\\xc3\\xb6glich . \\xc3\\xa4rzten , die kleine kinder anbr\\xc3\\xbcllen , sollte man die lizenz entziehen .',\n",
      "       b'sehr guter arzt , super preis leistung , sehr nettes personal .',\n",
      "       b'ich hatte eine netzhautabl\\xc3\\xb6sung , die von der \\xc3\\xa4rztin festgestellt wurde . ich war so schockiert und verzweifelt , dass es mir ausrutschte , ob sie sicher ist . die \\xc3\\xa4rztin ist ausgeflippt !',\n",
      "       b'herr puchta redet nicht um den hei\\xc3\\x9fen brei herum sondern handelt . er ist sehr kompetent . wir w\\xc3\\xbcrden immer wieder zu ihm gehen . wurden nach der ersten behandlung mit zwillingen schwanger . die sind nun monate alt !',\n",
      "       b'sehr h\\xc3\\xb6flich arzt . ich bin schon ohne termin im praxis gekommen und er hat mir bedient und geholfen . er ist immer f\\xc3\\xbcr die patienten da .',\n",
      "       b'ich hatte kein problem im gesicht , wollte nur die mitesser entfernen , daf\\xc3\\xbcr hat er mir vitamin s\\xc3\\xa4ure und andere fl\\xc3\\xbcssigkeit wie aride verschrieben , die mein haut kaputt gemacht haben , und jz entsteht bei mir akne und r\\xc3\\xb6tungen , die ich davor nicht gehabt habe , ich rate ihm ab , geh bitte nicht zu ihm',\n",
      "       b'eine statt nur wegen der arzthelferinnen . diese sind sehr nett und kompetent . der arzt ist eine zumutung . habe noch nie so etwas erlebt . \\xc3\\xa4ltere dame wurde angemotzt weil sie nicht schnell genug aus dem warebereich rausgekommen ist , wobei der arzt auch aus seinem behandlungszimmer \\xc3\\xbcber den flur nach ihr gerufen hat statt sie im wartebereich abzuholen . extrem motzig und arrogant . vermittelt dem patienten das gef\\xc3\\xbchl unerw\\xc3\\xbcnscht zu sein und schuld an einer angeborenen seeschw\\xc3\\xa4che . er ist nur am meckern . rei\\xc3\\x9ft sich nicht mal bei kindern zusammen und provoziert sogar die ganz kleinen . von einf\\xc3\\xbchlverm\\xc3\\xb6gen wohl noch nie etwas geh\\xc3\\xb6rt . anfragen werden ignoriert und wehe man nutzt als laie keinen fachbegriff . da ist er so dreist sich dar\\xc3\\xbcber lustig zu machen , obwohl er genau verstanden hat worum es geht .',\n",
      "       b'ich war nun mit einer unfallverletzung in der praxis und f\\xc3\\xbchlte mich bei keinem der besuche wahrgenommen . es schien dr. freund wenig zu interessieren . gerne h\\xc3\\xa4tte er mich nach ein paar tagen wieder arbeiten geschickt , obwohl es absolut nicht ging . er vermittelte mir das gef\\xc3\\xbchl , ich sei ein simulant . gestern sagte er mir , ich sei empfindlich . sowas kann er sich denken und sp\\xc3\\xa4ter mit den augen rollen mir gegen\\xc3\\xbcber aber nicht erw\\xc3\\xa4hnen . ich hatte nicht das gef\\xc3\\xbchl , dass er sich mit meiner unfallverletzung wirklich auseinander gesetzt hat habe jetzt nach wochen immer noch dolle probleme , die ihn nicht interessieren .',\n",
      "       b'das bet\\xc3\\xa4ubungsmittel hat bei mir blaue flecken , schwellungen , schmerzen und schwierigkeiten im mund . unprofessionelles personal . unfreundlich und sicher nicht kritisch . ich habe nur eine behandlung mit ihr gemacht und sie sowohl medizinisch als auch pers\\xc3\\xb6nlich sehr schlecht behandelt . sie akzeptiert das nicht und ich auch nicht . ich w\\xc3\\xbcrde die genannte person \\xc3\\xbcberhaupt nicht weiterempfehlen . ich habe sehr schlechte erfahrungen mit ihrer praxis gemacht .',\n",
      "       b'eine praxis mit einem sehr aufmerksamen und zuvorkommenden team . jeder versucht dem patienten behilflich zu sein . hier ist anzumerken , so wie es in den wald rein ruft ! wie \\xc3\\xbcberall ist geduld ein thema und jeder m\\xc3\\xb6chte die optimale medizinische betreuung . wartezeiten k\\xc3\\xb6nnen von zeit zu zeit durch unfallpatienten auftreten , sofern aber ein termin vorliegt , habe ich noch nie l\\xc3\\xa4nger als min . warten m\\xc3\\xbcssen .',\n",
      "       b'nimmt die patiente nicht ernst und steckt die schnell in schublade',\n",
      "       b'trotz akuter zahnschmerzen und r\\xc3\\xb6ntgenbild welches defekt des zahnes best\\xc3\\xa4tigte , erfolgte keine schmerzbehandlung sondern lukrative professionelle zahnreinigung alles wurde madig gemacht zahntaschenreinigung empfohlen schmerzen wurden nicht f\\xc3\\xbcr voll genommen .termin zur schmerzbehandlung tage sp\\xc3\\xa4ter nur bei ihm und nicht dem erw\\xc3\\xbcnschten dr grafe nach tagen schmerzen stellte er ausma\\xc3\\x9f des zahnschadens fest auf intervention \\xc3\\xbcbernahm dr grafe empathisch professionell . toll danke drgrafe',\n",
      "       b'meiner meinung nach ein unkompetenter arzt , jedoch schnelle terminvereinbarung . zeit wird f\\xc3\\xbcr den patienten nicht genommen , parkm\\xc3\\xb6glichkeiten sind katastrophal .',\n",
      "       b'diese praxis kann man mit bestem gewissen weiterempfehlen !',\n",
      "       b'unm\\xc3\\xb6glich die \\xc3\\xa4rztin ! respektlos und will einen als mama was schlechtes einreden ! wie kann man nur so falsch sein und dazu \\xc3\\xa4rztin sein .. zu meinen kindern grob und sehr launisch . sie hatten angst und f\\xc3\\xbcr mich als mama der gr\\xc3\\xb6\\xc3\\x9fte kinderschreck ! ! richtig alles primitiv und nichts wird genau genommen . dazu sehr klein und unorganisiert . wartezeit zu ewig . kein r\\xc3\\xbcckzugsort f\\xc3\\xbcr die kinder denen es schlecht geht sowie babys die in der wartezeit gestillt und frisch gemacht werden m\\xc3\\xbcssen ! ! ich rate nur ab ! !',\n",
      "       b'frau lenzenhuber und ihr team sind klasse man f\\xc3\\xbchlt sich dort gut aufgehoben .',\n",
      "       b'sehr kompetente , freundliche \\xc3\\xa4rztin mit gutem diagnostischem gesp\\xc3\\xbcr',\n",
      "       b'es war unglaublich unfreundlich , war wegen einer abtreibung da und er hat mir sehr deutlich gezeigt , wie er so etwas wegwirft . noch schlimmer wurde es , als er euro in bar wollte , obwohl ich die kosten von der krankenkasse bezahlte . ich habe mich informiert , dass es absolut nicht erlaubt ist , trotz kosten\\xc3\\xbcbernahme einen zus\\xc3\\xa4tzlichen euro in bar zu verlangen . ich habe mich bei der \\xc3\\xa4rztekammer beschwert . das war eine sehr schmerzhafte erfahrung .',\n",
      "       b'seit jahren nicht mehr dort gewesen ich wollte ein termin haben weil sich meine sehkraft verschlechtert hat , durfte mir von der sprechstundenhilfe anh\\xc3\\xb6ren sie nehmen keine neuen patienten auf erkl\\xc3\\xa4rte ihr nochmals das ich kein neuer patient und man ja auch nur zum augenarzt geht wenn man ihn ben\\xc3\\xb6tigt .',\n",
      "       b'es hat sich auf jeden fall bei mir gelohnt , nur hatte ich probleme mit fleisch alles andere an essen ging echt gut und war auch immer gleich richtig voll . also ich w\\xc3\\xbcrde das auf jeden fall immer wieder machen . ps alle sind hammer lieb hier .',\n",
      "       b'ich war ja schon bei vielen \\xc3\\xa4rzten , aber die hat den vogel abgeschossen . sowas kaltes und unfreundliches habe ich bisher noch nicht erlebt . und die notwendige zeit f\\xc3\\xbcr ein aufkl\\xc3\\xa4rendes gespr\\xc3\\xa4ch gab es auch nicht so richtig . das wird der letzte besuch bei der dame gewesen sein !',\n",
      "       b'ich kann frau dr heinrich nur empfehlen und verstehe die vorherige bewertung leider nicht . die \\xc3\\xa4rztin ist sensibel und jede problematik h\\xc3\\xb6rt sie sich ruhig und gelassen an . sie hat mir schon mehrmals , auch bei sensiblen themen mit ihrem med . rat sehr geholfen . auch ihre angestellten sind freundlich und nett und die praxis ist sehr modern und einladend . man frau f\\xc3\\xbchlt sich wohl und gut aufgehoben . das ist meine pers\\xc3\\xb6nliche meinung .',\n",
      "       b'wer akut erkrankt und keine m\\xc3\\xb6glichkeit hat , morgens um die praxis aufzusuchen , sondern w\\xc3\\xa4hrend der normalen sprechzeiten um behandlung bittet , wird absolut unfreundlich , herablassend und als st\\xc3\\xb6renfried behandelt . da hilft es auch nichts , dass man schon mehrere jahre patient dieser praxis ist . zu den netten belehrungen im eingansbereich , bekommt man durch die sprechstundenhilfe auch gleich eine vordiagnose , ob die erkrankung akut genug ist , um in das wartezimmer vorgelassen zu werden unglaublich , was man sich dort gefallen lassen muss .',\n",
      "       b'so ein unfreundlicher , arroganter arzt ! ! schade das solche leute \\xc3\\xa4rzte werden ! wenn man ihn was fragt , wird er auch gleich ganz frech . mann sollte sich anderen hno arzt lieber aufsuchen .',\n",
      "       b'extrem fl\\xc3\\xbcchtige beguchatung einer geschwulst unter der haut .. .schnell raus , ich muss umsatz machen schien das motto zu sein . dazu ein lappriger h\\xc3\\xa4ndedruck und dann dr\\xc3\\xbcckte er auf frage zu meiner rosacea erkrankung ein prospekt in die hand zur farblaser therapie .... ohen weitere beratung . allerdings ... der termin wurde z\\xc3\\xbcgig vergeben ... wems hilft .',\n",
      "       b'eines vorweg ich bewerte erstmalig einen arzt , bzw . meine erfahrungen mit diesem arzt . das \\xc3\\xa4rzte aufgrund von zeitmangel auch mal einen schlechten tag haben k\\xc3\\xb6nnen , ist sicher menschlich . was ich jedoch mit dr. schank erlebt habe , ist das letzte anders kann ich es nicht ausdr\\xc3\\xbccken . aufgrund einiger nachfragen meinerseits , warum mir . meine auff\\xc3\\xa4lligen blutwerte nicht mitgeteilt worden sind reagierte er derma\\xc3\\x9fen unwirsch , arogant und h\\xc3\\xb6chst respektlos . zitat ich behandel sie nicht weiter sie sind er nervigste patient der letzten zwei wochen mit diesen worten schob er mich aus seinem behandlungszimmer . ich war und bin fassungslos und werde beschwerde bei der hamburger \\xc3\\xa4rztekammer einreichen . so etwas muss ich mir als patient , der sich ordentlich benommen hat , nicht gefallen lassen . unglaublich , aber leider wahr . im \\xc3\\xbcbrigen konnte er mir meine schmerzhaften gelenkbeschwerden nicht erkl\\xc3\\xa4ren .',\n",
      "       b'der beste zahnarzt , den ich bisher hatte . sehr kompetent und angenehm im umgang . alles hat hervorragend funktioniert .',\n",
      "       b'... kurz war angenehmerweise die wartezeit ca . min . leider allerdings auch die zeit mit dr. scharmann ich sch\\xc3\\xa4tze ca sekunden . so schnell er den raum betrat , so schnell hatte er auch nach einem kurzen blick auf mein auge das rezept ausgestellt und war bereits wieder am gehen . nachfragen waren offensichtlich l\\xc3\\xa4stig und woher kommt das ? mei , das haben sie halt ! . \\xc3\\xbcber das verordnete medikament wurde ich nicht aufgekl\\xc3\\xa4rt immerhin enthielt es ein antibiotikum und kortison das w\\xc3\\xbcsste ich allerdings bis heute nicht , wenn ich nicht in der apotheke nachgefragt h\\xc3\\xa4tte . beim rausgehen traute ich mich noch , nach dem ergebnis der zuvor erfolgten und vermutlich auch abgerechneten voruntersuchungen sehtest vermessung der brille zu fragen da gehen sie bitte zum optiker damit hab ich nichts zu tun . positiv die beiden praxiskr\\xc3\\xa4fte waren sehr freundlich und entspannt .',\n",
      "       b'nimmt sich keine zeit f\\xc3\\xbcr zus\\xc3\\xa4tzliche kurze fragen , er ist zwar freundlich aber ich f\\xc3\\xbchle mich als patient nicht gut aufgehoben !',\n",
      "       b'ich bin schon mehrere jahre bei frau dr. korsukewitz und bin die letzten male \\xc3\\xbcberhaupt nicht mehr zufrieden gewesen . erstens wartet man sehr lange im wartezimmer , anschlie\\xc3\\x9fend geht man in den behandlungsraum und wartet da wieder ziemlich lange . das war allerdings schon immer so . was mich in letzter zeit st\\xc3\\xb6rt , ist das sie sich keine zeit mehr f\\xc3\\xbcr die patienten nimmt . man hat den eindruck sie ist furchtbar in eile . meine letzten beiden untersuchungen haben nicht mal minuten gedauert . ich glaube auch nicht , dass sekunden ! ! brustabtasten ausreichend sind . aber sie kann dann abhaken , das sie es gemacht hat . fr\\xc3\\xbcher war sie sehr viel gr\\xc3\\xbcndlicher . auf meine nachfragen geht sie nicht ein . wenn ich mir \\xc3\\xbcber etwas sorgen mache , habe ich den eindruck sie nimmt mich nicht ernst . fazit ich werde mir jetzt nach vielen jahren eine andere frauen\\xc3\\xa4rztin suchen .',\n",
      "       b'.. ich stellte geschockt fest , dass ich schwanger bin . ungeplant , ungewollt und ich konnt mir nicht erkl\\xc3\\xa4ren , wie ! ! verh\\xc3\\xbctungsmittel zeitgleich so derart versagen konnten . ich war mitten in der ausbildung und ich entschloss mich schweren herzens und mit vielen tr\\xc3\\xa4nen zum abbruch . der erste termin platzte , weil mir die arzthelferin eine falsche zeit genannt hatte und mir noch unterstellte , ich w\\xc3\\xbcrde ja vielleicht doch garnicht abbrechen wollen ! ! ein paar tage sp\\xc3\\xa4ter war ich endlich da . die us untersuchung ergab , wie vermutet , eine schwangerschaft . ich bat darum , den monitor wegzudrehen . ich wusste , ich werds nicht k\\xc3\\xb6nnen , wenn ich das baby sehe ! ! doch sie druckte sp\\xc3\\xa4ter die bilder aus und sie lagen , f\\xc3\\xbcr mich auf dem kopf , gut sichtbar auf dem tisch ! ! auch die beratung war von k\\xc3\\xa4lte gepr\\xc3\\xa4gt , ihr gesamtes auftreten mir gegen\\xc3\\xbcber war schlichtweg kalt und abwertend . aber was sollte ich machen ? ich hatte bereits ein kind und war mit der ausbildung \\xc3\\xbcberfordert . ein zweites h\\xc3\\xa4tte mich die lehre gekostet . ich hab mir diese entscheidung nicht leicht gemacht , aber das verhalten der \\xc3\\xa4rztin hat sehr dazu beigetragen , dass ich bis heute damit nicht zurecht komme , was ich getan habe ! !',\n",
      "       b'ich bin seit jahren patient bei dr. groebe . ich wurde immer sehr gut behandelt . herr dr. groebe nimmt sich ausreichend zeit f\\xc3\\xbcr jeden patienten . das praxisteam ist manchmal sehr chaotisch , ausnahme ist die f\\xc3\\xbchrende kraft . sie wei\\xc3\\x9f immer bescheid und ist sehr freundlich zu jedem patienten . das team arbeitet aber nicht ganz als team , da die f\\xc3\\xbchrende kraft sehr viel arbeit \\xc3\\xbcbernimmt . trotzdem ist die praxis zu empfehlen . in letzter zeit ist es sehr chaotisch , seit dem es eine zweigpraxis ist',\n",
      "       b'anfangs als kassenpatient , sp\\xc3\\xa4ter als privatpatient waren doch deutlich unterschiede in der behandlung zu merken . ich entschied mich jedoch bei ihm als privatpatient w\\xc3\\xa4hrend meiner schwangerschaft zu bleiben leider mit sehr schlechten erfahrungen . um nicht alle negativen erfahrungen an dieser stelle darstellen zu m\\xc3\\xbcssen , in k\\xc3\\xbcrze obwohl ich schon recht fr\\xc3\\xbch beschwerden und wehen in meiner schwangerschaft hatte , weigerte er sich mich krank zu schreiben und mich aus dem verkehr zu ziehen . stattdessen riet er mir die wehen zu ignorieren . in der . woche ging ich auf eigene initiative ins krankenhaus , wo man mich sofort auf grund der akuten lage f\\xc3\\xbcr wochen an eine tokolyse anschloss , um eine fr\\xc3\\xbchgeburt zu vermeiden . in der ganzen zeit im krankenhaus habe ich von herrn dr. sauter keine einzige nachricht erhalten , es wurde sich nicht nach dem fernbleiben und befinden seiner langj\\xc3\\xa4hrigen patientin erkundigt lediglich seine rechnungen habe ich p\\xc3\\xbcnktlich erhalten ! nie wieder dr. sauter !',\n",
      "       b'hilft bei allem sehr viel weiter , erkl\\xc3\\xa4rkt immer nat\\xc3\\xbcrliche heilmethoden . nimmt sich sehr viel zeit f\\xc3\\xbcr die patienten .',\n",
      "       b'man hat am tresen noch nicht guten tag gesagt , da spricht das praxispersonal schon davon , dass das mrt frei w\\xc3\\xa4re . da hatte ich herrn str\\xc3\\xbcmper noch nicht gesprochen . leider muss ich mich anschlie\\xc3\\x9fen , was bereits viele andere hier ver\\xc3\\xb6ffentlicht haben es geht um abrechnung auf h\\xc3\\xb6chstem niveau , was allerdings mit behandlungsqualit\\xc3\\xa4t nichts zu tun hat . in der praxis herrscht eine unangenehme und k\\xc3\\xbchle atmosph\\xc3\\xa4re . res\\xc3\\xbcmee ersparen sie sich das , und dem gesundheitssystem horrende rechnungen f\\xc3\\xbcr eine schlappe qualit\\xc3\\xa4t . mies !',\n",
      "       b'also zufriedenheit sieht andester aus und \\xc3\\xa4rztin unh\\xc3\\xb6flich nicht zu empfehlen',\n",
      "       b'bin schon seit mehreren jahren bei ihr in behandlung . bisher konnte sie mir immer helfen sie nimmt sich sehr viel zeit bei den untersuchungen und kl\\xc3\\xa4rte mich \\xc3\\xbcber die zusammenh\\xc3\\xa4nge auf . hoffentlich bleibt sie lange f\\xc3\\xbcr uns patienten gesund .',\n",
      "       b'wartenzeit ist zu lang ! egal auf einen termin oder dort in wartezimmer',\n",
      "       b'meinen muskelfaserriss in der wade hat der arzt nicht mal mit einem ultraschall verifiziert',\n",
      "       b'bin vollkommen zufrieden . gut erreichbar mit \\xc3\\xb6ffentlichen verkehrsmitteln .',\n",
      "       b'ich bin extra fr\\xc3\\xbcher von der arbeit , da es mir nicht gut ging ! ! konnte kaum noch stehen und hatte sch\\xc3\\xbcttelfrost . herr eckert aber sagte nur ich w\\xc3\\xa4re \\xc3\\xbcberfordert leichte erk\\xc3\\xa4ltung also wenn ihr wirklich krank seid geht bitte zu einem richtigen arzt der sich auch die zeit nimmt von seinem stuhl aufzustehen um euch abzuh\\xc3\\xb6ren und fieber zu messen . herr eckert schickte mich n\\xc3\\xa4mlich ohne medikamente nachhause . zuhause habe ich dann selbst mein fieber gemessen mit grad ! ! ! leichte erk\\xc3\\xa4ltung',\n",
      "       b'schon bei der begr\\xc3\\xbc\\xc3\\x9fung in der praxis f\\xc3\\xbchlt man sich gut aufgehoben und so behandelt wie man es sich als kunde patient nicht besser w\\xc3\\xbcnschen kann . man merkt direkt bei der pers\\xc3\\xb6nlichen begr\\xc3\\xbc\\xc3\\x9fung und beratung durch dr butz , dass es hier nicht darum geht m\\xc3\\xb6glichst viele patienten in kurzer zeit irgendwie zu versorgen , sondern die beste nur m\\xc3\\xb6gliche behandlung zu bieten und dies so patientenschonend wie m\\xc3\\xb6glich vorzunehmen . durch einige probleme mit meinen z\\xc3\\xa4hnen und vielen wohnortwechseln in den letzten jahren , habe ich einige z\\xc3\\xa4hn\\xc3\\xa4rzte und ihre behandlung kennengelernt . ich muss sagen , die wurzelkanalbehandlung durch dr. butz und seine assistentin war die f\\xc3\\xbcr mich entspannteste und schonendste behandlung die ich bis jetzt bekommen habe . wenn alle zahn\\xc3\\xa4rzte so arbeiten w\\xc3\\xbcrden , h\\xc3\\xa4tte niemand mehr angst vor einer behandlung bei ihnen . ich bin sehr kritisch im bezug auf beratung , behandlungsqualit\\xc3\\xa4t und behandler , da ich aus der zahnmedizinbranche komme . dr butz hat mich mehr als \\xc3\\xbcberzeugt und ich werde keinen anderen zahnarzt mehr aufsuchen .',\n",
      "       b'musste ich auf frau dr. willenberg ausweichen , weil die behandelnde kinder\\xc3\\xa4rztin nicht da war . mein sohn , fieber trotz fiebersenkende mittel , und ich warteten geduldig zwei stunden . schlie\\xc3\\x9flich ist gerade grippezeit , da muss man eben mit l\\xc3\\xa4ngeren wartezeiten rechnen . nach \\xc3\\xbcber zwei stunden waren wir immer noch nicht dran , aber frau dr. willenberg kam aus ihrem sprechzimmer und sperrte die t\\xc3\\xbcr ab . das wartezimmer war noch voller kranker kinder . auf meinem fragenden blick hin erwiderte sie , dass sie eine langj\\xc3\\xa4hrige kollegin verabschieden muss , und dass macht sie jetzt auch . ich wandte ein , dass ich schon sehr lange warte und mein sohn fieber hat , darauf meinte sie nur sehr unfreundlich , dass f\\xc3\\xbcr gebe es ja schlie\\xc3\\x9flich fiebersenkende mittel und verschwand . nat\\xc3\\xbcrlich sollte man langj\\xc3\\xa4hrige kollegen verabschieden k\\xc3\\xb6nnne , aber man sollte schon wissen , wo die priorit\\xc3\\xa4ten sind und eventuell sollte man solch verabschiedungen nicht w\\xc3\\xa4hrend der sprechzeiten legen . des weiteren h\\xc3\\xa4tte ich vielleicht sogar noch l\\xc3\\xa4nger gewartet , wenn frau dr. willenberg das ganze freundlich r\\xc3\\xbcbergebracht h\\xc3\\xa4tte . aber nachdem sie einen so anschnauzt , hatt man ja gar kein bock mehr , ihr das eigene kind anzuvertrauen . die schwestern und empfangsmitarbeiterinnen sind sehr lieb , die anderen \\xc3\\xa4rzte auch , aber um frau dr. willenberg mache ich in zukunft einen bogen . da bekommt man ja schon als erwachsene frau angst , wie soll es da erst kindern gehen .',\n",
      "       b'die praxis ist zu klein , schlecht aufgeteilt behandlungsbereich nur durch vorhang vom tresen bzw empfang abgetrennt , organisation nicht wirklich vorhanden . man wird von allen dort einfach gedutzt , die \\xc3\\xa4rztin selbst ist nicht sehr gepflegt , die beratung ist karg und die behandlung auch nicht \\xc3\\xbcberzeugend . mir wurde einfach eine ganz andere schiene gegens knirschen vorgesetzt als es besprochen war , die \\xc3\\xa4rztin setzt sich also einfach \\xc3\\xbcber den wunsch und absprachen hinweg ohne einen zu informieren und eine meiner f\\xc3\\xbcllungen wurde bereits das . mal von ihr neu gemacht , ein . zahnarzt war jetzt mal so ehrlich mir zu sagen , dass eine f\\xc3\\xbcllung da gar nicht halten kann und man eine krone einsetzen muss . ich war bin dort nicht zufrieden , die \\xc3\\xa4rztin , sowie ihre mitarbeiter scheinen sich mehr aufs unprofessionelle schwatzen als auf ihre arbeit zu konzentrieren , teilweise liegt man mehr als minuten mit irgendwelchen tupfern etc . und ge\\xc3\\xb6ffnetem mund da und wartet , weil alle damit besch\\xc3\\xa4ftigt sind nebenan smalltalk am telefon und oder mit anderen patienten zu betreiben . keine glanzleistung !',\n",
      "       b'ich lasse mich seit bald jahren von herrn ferreira und seinen praxiskollegen behandeln . mein feedback gilt f\\xc3\\xbcr seine kollegen gleicherma\\xc3\\x9fen . herr ferreira ist au\\xc3\\x9ferordentlich kompetent , aufmerksam und erkl\\xc3\\xa4rt ausf\\xc3\\xbchrlich , warum und was er macht . es kommt mir entgegen , dass er mit gr\\xc3\\xb6\\xc3\\x9feren eingriffen behandlungen eher zur\\xc3\\xbcckhaltend ist . andere zahn\\xc3\\xa4rzte neigen schnell dazu , einem was kostspieliges anzudrehen in dieser praxis ist das nicht der fall ! die praxisorganisation ist sehr gut keine langen wartezeiten bei der terminvergabe und beim termin selbst . sehr gut gefallen hat mir auch die zahnreinigung , die sehr gr\\xc3\\xbcndlich und hingebungsvoll gereinigt hat .',\n",
      "       b'trotz \\xc3\\xbcber einst\\xc3\\xbcndigem wartetermin war dies der letzte besuch in dieser praxis . dr. gabriel nahm sich w\\xc3\\xa4hrend der diagnose kaum zeit , h\\xc3\\xb6rte nicht zu und nahm die beschwerden nicht ernst . leider best\\xc3\\xa4tigte sich der schlechte eindruck vom letzten besuch in der magen-koloskopie . schade f\\xc3\\xbcr diesen beruf .',\n",
      "       b'nimmt sich immer sehr viel zeit , auch wenn man einmal ohne termin dort ist , bei akuten beschwerden .',\n",
      "       b'meine erwartungen , haben sich voll und ganz erf\\xc3\\xbcllt . ich bin mit diesem op ergebnis , was meine nase betrifft voll zufrieden . ich sch\\xc3\\xa4tze seine arbeit und w\\xc3\\xbcrde jederzeit denn herrn dr barthold weiter empfhelen .',\n",
      "       b'mir sind nach dem besuch bei ihr die tr\\xc3\\xa4nen gerollt , da ich angst hatte evl . eine herzerkrankung zu haben oder sonst was und sie einfach nix gesagt hat , au\\xc3\\x9fer , dass wir schauen m\\xc3\\xbcssten und ich mal einen termin f\\xc3\\xbcr weitere fragen machen solle . ich habe ihr das in einem brief mitgeteilt und m\\xc3\\xb6chte nicht weiter patientin bei ihr sein , da ich mich nicht ernst genommen f\\xc3\\xbchle und denke , dass man so nicht mit menschen umgehen kann , die angst haben und hilfe oder kompetentes wissen suchen .',\n",
      "       b'fu\\xc3\\x9f nach der operation extrem verschlechtert',\n",
      "       b'der zahn muss raus ! , ein schockmoment f\\xc3\\xbcr jeden ! da das mein erster zahn war , der gezogen werden musste , bin ich nat\\xc3\\xbcrlich mit einem sehr mulmigen gef\\xc3\\xbchl zu meiner vorbesprechung . hinzu kommt noch bei mir , dass bet\\xc3\\xa4ubungen generell nicht gut wirken und schnell wieder nachlassen . hr . zollfrank beriet mich kompetent und beantwortete alle meine fragen . am tag des eingriffs ging dann alles sehr schnell . selbst die bet\\xc3\\xa4ubung wirkte sehr effizient und ich hatte w\\xc3\\xa4hrend dessen \\xc3\\xbcberhaupt keine schmerzen . auch am folgetag war weder mein gesicht geschwollen , noch gab es sichtbare blaue flecken . fazit herr zollfrank ist ein wirklich sympathischer , fachlich sehr kompetenter arzt , der auf seine patienten eingeht und man sich in den aller besten h\\xc3\\xa4nden f\\xc3\\xbchlt , denn meiner meinung nach , \\xc3\\xbcbt er seinen beruf wirklich mit herz aus . danke , dass es solche menschen gibt , die anderen menschen helfen k\\xc3\\xb6nnen !',\n",
      "       b'nicht nur dr. hintz , sondern auch alle anderen \\xc3\\xa4rzte die dort arbeiten sind total unfreundlich ! man muss trotz termin von monaten in der praxis mindestens stunden warten ! die praxis macht eindeutig den eindruck als ob sie personalmangel , schlechte kommunikation unter einander , keine einarbeitung neuer kollegen , hat . es l\\xc3\\xa4uft einfach \\xc3\\xbcberhaupt nicht gut ab . die praxis ist \\xc3\\xbcberf\\xc3\\xbcllt , verstehe gar nicht wie man hier noch patient seien kann . st\\xc3\\xa4ndig neues personal spricht halt einfach nicht f\\xc3\\xbcr gutes ! nie wieder !',\n",
      "       b'schlimmer ging es kaum . dieser arzt hat mich wie einen hund behandelt . ich wurde quasi abgefertigt . er nimmt sich wenig zeit , er konnte mir zwar gl\\xc3\\xbccklicherweise meine diagnose stellen und hat mich auch untersucht aber vom menschlichen her ... katastrophe . beispiel ich wollte ihm etwas erkl\\xc3\\xa4ren .. dazu kam ich gar nicht .. er unterbrach mich und sagte laut ruhe ! sehr pampige antworten und benutzt als arzt keine gew\\xc3\\xa4hlte sprache . sagt statt po , ar ! traurig . nie wieder jedenfalls .',\n",
      "       b'in der praxis kann mann sich nicht wohlf\\xc3\\xbchlen die arzthelferin total lustlos ihren job zu machen , mann muss jedesmal sie an die rezepte errinern und die ganze praxis ist einfach zu \\xc3\\xbcberfordert denke ich ich suche mir eine neue frauenarztpraxis allein wegen der zunehmender unfreundlichkeit der mitarbeiter und die atmosph\\xc3\\xa4re ist einfach nicht mehr herzlich !',\n",
      "       b'man wird nicht angeschaut , man bekommt keine hand . wenn man spricht , ohne aufgefordert zu werden , verbietet er einem laut das wort . die \\xc3\\xa4u\\xc3\\x9ferung wochenlanger schmerzen werden mit einem l\\xc3\\xa4cheln abgetan . er hat eine \\xc3\\xbcberhebliche art , die darauf schlie\\xc3\\x9fen l\\xc3\\xa4\\xc3\\x9ft , da\\xc3\\x9f er dem mythos engel in wei\\xc3\\x9f gerecht wird',\n",
      "       b'auf symptome wird nicht eingegangen , man wird auf sein erscheinungsbild reduziert . nie wieder ! !',\n",
      "       b'den negativen bewertungen mu\\xc3\\x9f ich mich anschlie\\xc3\\x9fen . w\\xc3\\xa4hrend das team der schwestern freundlich ist , wirkt die \\xc3\\xa4rztin reserviert und abweisend . fragen beantwortet sie nur widerwillig oder verweist darauf , da\\xc3\\x9f sie keine zeit habe . ein vertrauensverh\\xc3\\xa4ltnis , welches zwischen arzt und patient bestehen sollte , l\\xc3\\xa4\\xc3\\x9ft sich so nicht herstellen .',\n",
      "       b'ich bin total unzufrieden . seit ich die f\\xc3\\xbcllung bekommen habe , kleben mir st\\xc3\\xa4ndig nahrungsreste an . die zahnreinigung hatte ein sehr h\\xc3\\xa4ssliches fleckiges resultat . als ich darauf hinwies , dass ich mit dem ergebnis der behandlung unzufrieden bin , antwortete er sehr arrogant und ignorant . unfreundlich unpassend , l\\xc3\\xbcckenhaft , unangenehm . ich kann den arzt unter keinen umst\\xc3\\xa4nden weiterempfehlen . die beratungsassistenten waren freundlich .',\n",
      "       b'sehr menschlich , freundlich , zuvorkommend , empathisch , ruhige praxis , liebe arzt helferinnen , gutm\\xc3\\xbctiger umgangen probleme werden ernst genommen , kompetent und man nimmt sich einfach zeit nach dem was ich f\\xc3\\xbcr negative gyn\\xc3\\xa4kologen in k\\xc3\\xb6ln erlebt habe ist f\\xc3\\xbcr mich eine anfahrt von , stunden es wert um bei frau dreja behandelt zu werden . auch vor komplizierten themen besch\\xc3\\xa4ftigt sie sich mit einem um l\\xc3\\xb6sungen zu finden',\n",
      "       b'hab kurzfristig einen termin bekommen und musste auch nicht l\\xc3\\xa4nger als min im wartezimmer warten . untersuchungen und medikamente und zack war ich eine woche sp\\xc3\\xa4ter wieder fit .',\n",
      "       b'das humanistische weltbld , das einen guten arzt ausmacht , fehlt bei herr conradi vollkommen . herr conradi schickt patienten weg , ohne zu untersuchen , zeigt sich uninteressiert und wenig bei der sache . die tatsache , dass es sich um eine ausbildungspraxis handelt , bringt etliche fehldiagnosen mit sich . besser finger von der praxis lassen sonst kann das b\\xc3\\xb6se folgen f\\xc3\\xbcr die gesundheit haben .',\n",
      "       b'bei uns ist die halbe weibliche familie bei dr. hein und wir sind alle seit jahren super zufrieden mit ihm und empfehlen ihn auch immer gerne weiter !',\n",
      "       b'ich bin aufgrund meiner knieschmerzen in die praxis gekommen . nach angeordneten mrt war der termin zur besprechung sehr ern\\xc3\\xbcchternd . er sah sich nicht die bilder des mrts an , sondern las lediglich in meinem beisein den befund ohne vorher hallo zu sagen oder zu verbalisieren , was er vorhat ... . anschlie\\xc3\\x9fend sagte er , dass ich meine knie operieren lassen solle . er gab mir die visitenkarte eines kollegen und verlie\\xc3\\x9f das zimmer . f\\xc3\\xbcr fragen zur prognose und op alternativen hatte er offensichtlich keine zeit . ich f\\xc3\\xbchle mich mit der diagnosestellung arthrose in beiden knien , jahre alt verunsichert und alleingelassen . das praxispersonal hingegen ist sehr freundlich und zugewandt .',\n",
      "       b'das einzige , was in dieser praxis positiv ist , sind die helfer . musste sich von der \\xc3\\xa4rztin anschreien lassen . sehr schlechte stimmung . die \\xc3\\xa4rztin geht sehr schlecht mit ihren mitarbeitern und patienten um . das kann ich auf keinen fall empfehlen .',\n",
      "       b'sehr empfehlenswert . da lohnt sich selbst eine l\\xc3\\xa4ngere anfahrt .',\n",
      "       b'man f\\xc3\\xbchlt sich ernst genommen und sehr gut betreut . mitunter ist der wunsch der schwester am empfang , immer nur mit termin zu erscheinen , etwas kontraproduktiv . gelegentlich wird man auch ohne termin krank ....',\n",
      "       b'die \\xc3\\xa4rztin und das mfa team ist freundlich , gut und kompetent . gute behandlung und auch richtige entscheidungen . arbeiten mit vielen anderen \\xc3\\xa4rzten zusammen . aber frau tyroff hat ein sehr hohes und breites wissen \\xc3\\xbcber die jeweilige erkrankung .',\n",
      "       b'bin vor jahren aus der not auf diesen zahnexperten gesto\\xc3\\x9fen und bin sehr zufrieden schon seit \\xc3\\xbcber jahren . ich hatte wie viele andere auch sehr gro\\xc3\\x9fe angst vor dem zahnarzt und bei dr brussig f\\xc3\\xbcllte mich gleich bei der ersten behandlung sicher und fair beraten . alles wurde super und fachgerecht erledigt , seit dem bin gerne bei ihm als patient . die dame an der rezeption ist super nett und hat den vollen \\xc3\\xbcberblick \\xc3\\xbcber termine und die kunden . wie kann sie sich so viele namen merken ? man geht in die praxis rein und wird mit namen begr\\xc3\\xbc\\xc3\\x9ft . echt angenehm . die ambiente ist toll , die musik im hintergrund beruhigt ein weinig . die zahnartzhelferinen sind super nett und wiessen was sie tun . man wird sehr fair beraten . die wartezeiten sind akzeptabel . kann nur weiterempfehlen . danke herr dr brussig .',\n",
      "       b'frau dankelmann ist schon seit langer zeit meine frauen\\xc3\\xa4rztin . sie hat mich immer \\xc3\\xbcber alles aufgekl\\xc3\\xa4rt und hat sich immer zeit f\\xc3\\xbcr ihre patienten genommen . ich hatte nie etwas an ihr auszusetzen und habe mich immer extrem wohl gef\\xc3\\xbchlt .',\n",
      "       b'herr dr. albrecht steht mir mit seiner fachlichen und menschlichen kompetenz in jeder situation zur seite . ich kann den arzt aufgrund meiner erfahrung und aus \\xc3\\xbcberzeugung witerempfehlen .',\n",
      "       b'nimmt sich zeit . h\\xc3\\xb6rt zu und fragt nach ob alles verstanden wurde',\n",
      "       b'bin durch eine weiterempfehlung gekommen und kann nur das beste berichten . top service , moderne praxis , sehr gute techn . ausstattung und das wichtigste freundliche und kompetente mitarbeiter . f\\xc3\\xbchle mich sehr gut betreut und aufgehoben . werde auch an freunde und bekannte eine empfehlung aussprechen !',\n",
      "       b'ungepflegte au\\xc3\\x9fenanlagen und auch die praxis hat schon bessere tage gesehen und der erste eindruck t\\xc3\\xa4uscht leider nicht . zuerst erfolgt eine belehrung wann man denn ein notfall ist . xrettungsstelle reicht nicht daf\\xc3\\xbcr .nach sehr kurzer anh\\xc3\\xb6rung war der fall f\\xc3\\xbcr hr doktor klar ich habe bisher noch nie einen arzt erlebt der keine fragen stellt wenn man noch etwas sagen wollte , wurde man oberlehrerhaft ruhiggestellt . die diagnose und die ratschl\\xc3\\xa4ge erwiesen sich als falsch und f\\xc3\\xbchrten fast wieder zur rettungsstelle dies grenzt fast an k\\xc3\\xb6rperverletzung in jeder apotheke wird man besser beraten . wenn man ein schwerwiegendes problem hat allergie , ist ein besuch bei diesem arzt zeitverschwendung man mu\\xc3\\x9f eben ein viertel jahr f\\xc3\\xbcr einen termin in einer klinik in kauf nehmen .',\n",
      "       b'ich hatte einen kleinen knochenauswuchs am zahnfleisch , der operativ entfernt wurde nicht von dr. noe . nach dem abheilen sollte meine prothese von dr. noe an der operierten stelle angepasst werden . die ganze prothese wurde jedoch komplett unterf\\xc3\\xbcttert , was nicht notwendig war und passte danach \\xc3\\xbcberhaupt nicht mehr . auch nach einigen nachbesserungen von dr. noe wurde es nicht besser . stattdessen wurden die z\\xc3\\xa4hne and der prothese immer k\\xc3\\xbcrzer und der biss passte \\xc3\\xbcberhaupt nicht mehr . dr. noe schlug mir dann vor eine neue prothese mit l\\xc3\\xa4ngeren z\\xc3\\xa4hnen machen zu lassen , damit mein gesicht optisch nicht so breit wirken w\\xc3\\xbcrde . er war ja derjenige , der die z\\xc3\\xa4hne erst mal abgeschliffen hatte anstelle die anpassung and der rosafarbenen platte vorzunehmen . einer anderer zahnarzt hat versucht die prothese noch zu retten . jetzt habe ich zumindest keine druckstellen und schmerzen mehr , auch wenn die prothese immer noch nicht richtig passt . vor der anpassung der prothese durch dr. noe passte die prothese wie eigene z\\xc3\\xa4hne . es h\\xc3\\xa4tte nicht besser sein k\\xc3\\xb6nnen . ich bin sehr unzufrieden und entt\\xc3\\xa4uscht , auch dar\\xc3\\xbcber , dass herr dr. noe am schluss auch nicht mehr erreichbar war .',\n",
      "       b'teste ab und zu mal einen neuen arzt . beim zahnarzt mache ich das nicht mehr . besser geht es nicht , von der terminvergabe \\xc3\\xbcber das nette personal bis hin zum kompetenten und einf\\xc3\\xbchlsamen arzt . dr. liermann ist astrein .',\n",
      "       b'keine wartezeiten alle freundlich und gratis kakao',\n",
      "       b'dr. hertel musste bei mir einen komplizierten chirurgischen eingriff vornehmen . alle behandlungsschritte \\xc3\\xbcber einen zeitraum von gut sechs monaten verliefen absolut komplikationsfrei . ich habe dr. hertel schon mehrmals weiterempfohlen .',\n",
      "       b'ich wollte heute bei meinem termin zuerst m\\xc3\\xb6gliche behandlungsalternativen erkl\\xc3\\xa4rt haben . nach einem kurzen gespr\\xc3\\xa4ch habe ich die behandlung abgebrochen . nach meinem rein subjektiven empfinden erscheint mir dr. anvari nicht kompetent . details kann ich hier nicht schreiben , da ich tatsachenbehauptungen nat\\xc3\\xbcrlich nicht zweifelsfrei belegen kann . ich w\\xc3\\xbcrde die praxis nicht empfehlen .',\n",
      "       b'ich war jetzt ca . mal dort um mir die besenreiser wegspritzen zu lassen . die ersten male war ich schon nicht so begeistert , da ich immer lange warten musste . es wirkt unorganisiert und die \\xc3\\xa4rztin hetzt von einem raum in den n\\xc3\\xa4chsten . das letze mal war ich richtig entt\\xc3\\xa4uscht , da ich wieder lange warten musste von voruntersuchungen bis zur eigentlichen behandlung , dort musste ich dann \\xc3\\xbcber ne halbe std . mit freien beinen warten , weil die \\xc3\\xa4rztin selber gar nicht da war und die arzthelferinnen auch nicht wussten wo sie ist und wann sie kommt . als sie dann endlich da war , hat sie ohne eine entschuldigung oder \\xc3\\xa4hnliches mich einfach in min . abgefertigt und sich meine beine auch gar nicht komplett angeschaut . daf\\xc3\\xbcr musste ich dann \\xc3\\xbcber euro zahlen ! nein danke , bin das letzte mal dort gewesen !',\n",
      "       b'der erste termin ist ganz schnell gelaufen und der behandlung war mangelhaft , ich hab einen zweiten termin vereinbart aber an dem tag war der paxis geschlossen ! unglaublich ! ich habe an dem tag urlaub geschrieben und bin nach praxis gefahren aber niemand war da !',\n",
      "       b'wir sind mehr als zufrieden und nehmen die km anfahrt gerne in kauf . dr. senol und sein team sind sehr freundlich , kompetent und besonders liebevoll zu kindern . die betreuung und aufkl\\xc3\\xa4rung vor , w\\xc3\\xa4hrend und nach der hno op ist einfach hervorragend .',\n",
      "       b'ein prima arzt sympathisch , motiviert , nimmt sich zeit auch f\\xc3\\xbcr verzwicktere f\\xc3\\xa4lle . obwohl der arzt relativ jung zu sein scheint , wirkt er sehr erfahren . die praxis ist modernisiert samt vieler neuer ger\\xc3\\xa4te und nett eingerichtet . f\\xc3\\xbcr kinder ist im wartezimmer ein spieltisch vorhanden . das gesamte praxisteam ist freundlich und scheint gut organisiert .',\n",
      "       b'wegen einer schilddr\\xc3\\xbcsenunterfunktion und h\\xc3\\xa4ufigem eisenmangel gehe ich regelm\\xc3\\xa4\\xc3\\x9fig zum arzt und war ein paar monate bei frau dr. wegner in behandlung . beim ersten termin war sie freundlich und empfahl mir den gro\\xc3\\x9fen check up , den ich jedoch nicht machen lassen wollte . beim zweiten termin empfahl sie mir den gro\\xc3\\x9fen check up sehr nachdr\\xc3\\xbccklich und wies darauf hin , dass man sie zur rechenschaft ziehen w\\xc3\\xbcrde , wenn ich etwas schlimmes habe und sie mich nicht gr\\xc3\\xbcndlich untersucht h\\xc3\\xa4tte . ich war erstaunt zu h\\xc3\\xb6ren , dass \\xc3\\xa4rzte in solchen f\\xc3\\xa4llen zur rechenschaft gezogen werden . beim dritten termin war frau doktor ungehalten und schimpfte laut und autorit\\xc3\\xa4r , dass ich noch keinen termin f\\xc3\\xbcr den gro\\xc3\\x9fen check up habe . ich bat darum , meine blutwerte nochmal zu untersuchen wegen der schilddr\\xc3\\xbcse und m\\xc3\\xb6glichem eisenmangel diagnose alles in ordnung . ein paar wochen sp\\xc3\\xa4ter habe ich einen anderen arzt aufgesucht , mit dem gleichen anliegen . diagnose erheblicher eisenmangel , blutarmut . ob frau wegner dass beim gro\\xc3\\x9fen check up auch festgestellt h\\xc3\\xa4tte ?',\n",
      "       b'ich bin schon seit vielen jahren patientin bei dr. hein und f\\xc3\\xbchle mich rundum gut aufgehoben . die routinekontrollen sind kurz und schmerzlos , ohne dass man das gef\\xc3\\xbchl h\\xc3\\xa4tte , durchgeschleust zu werden . die begleitung durch meine schwangerschaft war super . herr dr. hein hat immer ein nettes wort , zeit f\\xc3\\xbcr einen kurzen ratsch und viel humor . gott sei dank hab ich seine betreuung noch nie wegen einer erkrankung ben\\xc3\\xb6tigt , bin aber sicher , dass er auch dann mein volles vertrauen h\\xc3\\xa4tte . auch das praxisteam ist ausgesprochen nett und trotz vieler patienten hat man das gef\\xc3\\xbchl , arzt und sprechstundenhilfen wissen genau , wer man ist wenn man anruft oder einen termin hat .',\n",
      "       b'frustrierter kinderarzt , der keine kinder mag , und der durch arroganz und \\xc3\\xbcberheblichkeit versucht , seine fragw\\xc3\\xbcrdige kompetenz zu verbergen . sehr entt\\xc3\\xa4uschende erfahrung in jeder hinsicht auch bez\\xc3\\xbcglich diagnose , medikamente , beratung , verantwortung f\\xc3\\xbcr seine fehler . wir werden nie wieder dahin gehen .',\n",
      "       b'nicht zu empfehlen ! ! . es wird sich nicht zeit genommen f\\xc3\\xbcr den patieten . . zus\\xc3\\xa4tzliche leistungen total \\xc3\\xbcberteuert . aber jetzt kommt das dreisteste ! ich habe einen termin versehentlich verpasst , wo ich bereit war eur zu zahlen . ich musste krankheitsbedingt einen termin absagen habe eine mail geschrieben und abgesagt . wochen sp\\xc3\\xa4ter bekomme ich die rechnung wieder euro ! ! ! die mail mit der absage kam anscheinend nie an obwohl mein freund neben mir',\n",
      "       b'ich bin seit mittlerweile jahren bei frau dr. freitag inklusive zweier schwangerschaften und bin nach wie vor sehr zufrieden . vorallem auch sch\\xc3\\xa4tze ich , dass ich das gef\\xc3\\xbchl habe , dass sie sich auch tats\\xc3\\xa4chlich an mich erinnert zu erkennen an kleinigkeiten , die sicherlich nicht in meiner akte stehen . ich f\\xc3\\xbchle mich ernstgenommen und mir werden sachverhalte auf wunsch auch laienunfreundlich erkl\\xc3\\xa4rt als informierter , interessierter patient stellt sie einem . auch die hintergr\\xc3\\xbcnde ihrer meinungen zu themen dar und best\\xc3\\xa4tigt oder berichtigt theorien , die man sich selbst erarbeitet hat . die recht eingeschr\\xc3\\xa4nkten wartezeiten kann ich nachvollziehen , da sie selbst mutter ist . einzig die wartezeiten in der praxis sind durchaus verbesserungsw\\xc3\\xbcrdig , man wartet auch mit termin in der regel minuten , was sich nur schlecht in den eigenen arbeitstag integrieren l\\xc3\\xa4sst .',\n",
      "       b'ist nicht gerade freundlich und schnell \\xc3\\xbcberfordert wenn sie mit ihrem latein am ende ist , wird einem gesagt , dass man sich die schmerzen nur einbildet vielleicht sollte sie nur als allgemein \\xc3\\xa4rztin t\\xc3\\xa4tig sein , aber nicht im bereich wirbels\\xc3\\xa4ulenerkrankung f\\xc3\\xbchlte mich dort nicht gut aufgehoben und verstanden',\n",
      "       b'ich war nur ein mal bei ihn , werde nie wieder hingehen . er war unh\\xc3\\xb6flich , wollte nicht mal h\\xc3\\xb6ren wo genau die schmerzen habe und wann ich sie habe . er hat mich st\\xc3\\xa4ndig unterbrochen . das ist das erste mal , dass ich so von einem arzt in deutschland behandelt wurde .',\n",
      "       b'finger weg von k\\xc3\\xbcnstlichen hormonen ! seit der hormonspirale habe ich panikatacken , schwindel und benommenheit ich w\\xc3\\xbcrde kaum bzw falsch beraten . ich habe privat einen speicheltest gemacht und siehe da starker progesteron mangel und wechseljahre mit ! ich bin gesch\\xc3\\xa4digte und nicht mehr arbeitsf\\xc3\\xa4hig . habe hunderte euro ausgegeben . nie wieder k\\xc3\\xbcnstliche hormone . ich wurde als psychisch krank hingestellt ! dabei waren es die k\\xc3\\xbcnstliche hormone die mich kaputt gemacht haben !',\n",
      "       b'frau doktor nimmt sich zeit bei jede besuch um dem patienten gute paar minuten um die pr\\xc3\\xa4vention und medikation zu erkl\\xc3\\xa4ren .',\n",
      "       b'die \\xc3\\xa4rztin nimmt sich kaum zeit f\\xc3\\xbcr ihre behandlung . sie konnte mir nichts genau erkl\\xc3\\xa4ren , sondern immer eher abweichend , kurz und pr\\xc3\\xa4gnant . wenn du wissen willst , was mit dir los ist oder ob alles in ordnung ist , wird sie aggressiv und schreit dich an . die patienten fragen sie nicht , sie sagt nichts und schickt dich weg . daher empfehle ich die praxis niemandem .',\n",
      "       b'desinteressierter arzt , der auf kosten der kunden auf sein budget achtet . die empfangsdame ist leider auch etwas pampig .',\n",
      "       b'war vorher bei frau dr. herzog gewesen und anschlie\\xc3\\x9fend war frau dr. starke als nachfolgerin . und war ein mal bei ihr und habe sofort gewechselt ! habe schon vorher viel negatives von ihr geh\\xc3\\xb6rt und habe es selber durchlebt ! !',\n",
      "       b'habe den eindruck nicht ernst genommen zu werden , so wie auch mein \\xc3\\xbcberweisenden arzt . befund sehr abwertend schriftlich formuliert . nicht auf meine erkrankungen eingegangen . vorgefertigte meinung .',\n",
      "       b'untersuchung nicht sehr sorgf\\xc3\\xa4ltig , ist nicht zu empfehlen , wenig vertrauenerweckend .'],\n",
      "      dtype=object)>}\n",
      "tf.Tensor(\n",
      "[0 1 1 1 0 0 1 0 1 0 1 1 1 1 0 0 0 0 0 0 0 0 0 1 1 1 0 1 0 0 1 0 0 1 0 1 1\n",
      " 0 0 0 0 1 0 0 0 1 0 1 1 0 0 1 0 1 0 0 0 0 1 0 0 0 0 1 0 1 0 0 0 0 0 1 0 1\n",
      " 0 0 1 0 1 1 0 0 1 0 0 0 0 0 0 0 0 1 0 1 0 0 1 1 1 1 1 1 1 1 0 0 1 1 1 0 0\n",
      " 0 1 1 0 1 0 0 1 0 0 0 1 0 0 0 0 0], shape=(128,), dtype=int64)\n"
     ]
    }
   ],
   "source": [
    "for text, labels in dataset_train.take(1):\n",
    "    print(text)\n",
    "    print(labels)"
   ]
  },
  {
   "cell_type": "code",
   "execution_count": 15,
   "metadata": {},
   "outputs": [],
   "source": [
    "def build_model_rnn_simple(params):\n",
    "    \"\"\"Builds a rnn classifier (only partially) based on the provided params \n",
    "\n",
    "    Parameters\n",
    "    ----------\n",
    "    params: dict\n",
    "        The dictionary containing the parameters\n",
    "    \"\"\"\n",
    "    \n",
    "    from tensorflow import keras\n",
    "    \n",
    "    classification_type = params.get(\"classification_type\", \"binary\")\n",
    "    if classification_type == \"binary\":\n",
    "        output_activation = \"sigmoid\"\n",
    "    elif classification_type == \"multi-class\":\n",
    "        output_activation = \"softmax\"\n",
    "    elif classification_type == \"multi-label\":\n",
    "        output_activation = \"sigmoid\"\n",
    "    else:\n",
    "        raise TypeError(\"Unknown classification_type \"+classification_type)\n",
    "    \n",
    "    computed_objects_column_name = params.get(\"computed_objects_column_name\", \"computed_objects\")\n",
    "    vectorize_layer = params[computed_objects_column_name][\"vectorize_layer\"]\n",
    "    embedding_layer = params[computed_objects_column_name][\"embedding_layer\"]\n",
    "    label_binarizer = params[computed_objects_column_name][\"label_binarizer\"]\n",
    "    output_classes = len(label_binarizer.classes_)\n",
    "    output_classes = output_classes if output_classes > 2 else 1\n",
    "    \n",
    "    \n",
    "    model = keras.Sequential(name=\"rnn\")\n",
    "    # A text input\n",
    "    model.add(keras.layers.InputLayer(input_shape=(1,), dtype=tf.string, name=\"text_input\"))\n",
    "    # The first layer in our model is the vectorization layer. After this layer,\n",
    "    # we have a tensor of shape (batch_size, output_sequence_length) containing vocab indices.\n",
    "    model.add(vectorize_layer)\n",
    "    # Next, we add a layer to map those vocab indices into a space of dimensionality 'embedding_dim'. \n",
    "    model.add(embedding_layer)\n",
    "    \n",
    "    rnn_units = 32\n",
    "    model.add(keras.layers.Bidirectional(\n",
    "        # dropout (regularization) could make sense here\n",
    "        keras.layers.LSTM(\n",
    "            rnn_units, \n",
    "            return_sequences=True # needed since we do a GlobalMaxPool1D\n",
    "        )\n",
    "    ))\n",
    "    \n",
    "    model.add(keras.layers.GlobalMaxPool1D(name=\"global_max_pool\"))\n",
    "    \n",
    "    # do not forget Dropout (regularization) for a more sophisticated model\n",
    "    model.add(keras.layers.Dense(output_classes, activation=output_activation, name=\"prediction\"))\n",
    "    \n",
    "    return model\n",
    "    \n",
    "\n",
    "def build_model_rnn(params):\n",
    "    \"\"\"Builds a rnn classifier based on the provided params \n",
    "\n",
    "    Parameters\n",
    "    ----------\n",
    "    params: dict\n",
    "        The dictionary containing the parameters\n",
    "    \"\"\"\n",
    "    \n",
    "    from tensorflow import keras\n",
    "    \n",
    "    rnn_activation_function = params.get(\"rnn_activation_function\", \"relu\")\n",
    "    rnn_output_dropout = params.get(\"rnn_output_dropout\", 0.5)\n",
    "    rnn_dropout = params.get(\"rnn_dropout\", 0.2)\n",
    "    # for values > 0 it will not use cuDNN kernels\n",
    "    rnn_recurrent_dropout = params.get(\"rnn_recurrent_dropout\", 0.0)\n",
    "    rnn_units = params.get(\"rnn_units\", 32)\n",
    "    rnn_num_layers = params.get(\"rnn_num_layers\", 1)\n",
    "    rnn_bidirectional = params.get(\"rnn_bidirectional\", True)\n",
    "    rnn_type = params.get(\"rnn_type\", \"LSTM\")\n",
    "    rnn_global_max_pooling = params.get(\"rnn_global_max_pooling\", False)\n",
    "\n",
    "    classification_type = params.get(\"classification_type\", \"binary\") \n",
    "    \n",
    "    computed_objects_column_name = params.get(\"computed_objects_column_name\", \"computed_objects\")\n",
    "    vectorize_layer = params[computed_objects_column_name][\"vectorize_layer\"]\n",
    "    embedding_layer = params[computed_objects_column_name][\"embedding_layer\"]\n",
    "    label_binarizer = params[computed_objects_column_name][\"label_binarizer\"]\n",
    "    output_classes = len(label_binarizer.classes_)\n",
    "    output_classes = output_classes if output_classes > 2 else 1\n",
    "    \n",
    "    model = keras.Sequential(name=\"rnn\")\n",
    "    # A text input\n",
    "    model.add(keras.layers.InputLayer(input_shape=(1,), dtype=tf.string, name=\"text_input\"))\n",
    "    # The first layer in our model is the vectorization layer. After this layer,\n",
    "    # we have a tensor of shape (batch_size, output_sequence_length) containing vocab indices.\n",
    "    model.add(vectorize_layer)\n",
    "    # Next, we add a layer to map those vocab indices into a space of dimensionality 'embedding_dim'. \n",
    "    model.add(embedding_layer)\n",
    "    \n",
    "    for layer in range(rnn_num_layers):\n",
    "        return_sequences = layer + 1 < rnn_num_layers or rnn_global_max_pooling\n",
    "        \n",
    "        if rnn_type == \"LSTM\":\n",
    "            layer = keras.layers.LSTM(rnn_units, return_sequences=return_sequences, dropout=rnn_dropout, recurrent_dropout=rnn_recurrent_dropout)\n",
    "        elif rnn_type == \"GRU\":\n",
    "            layer = keras.layers.GRU(rnn_units, return_sequences=return_sequences, dropout=rnn_dropout, recurrent_dropout=rnn_recurrent_dropout)\n",
    "        elif rnn_type == \"RNN\":\n",
    "            layer = keras.layers.RNN(rnn_units, return_sequences=return_sequences)\n",
    "        else:\n",
    "            raise ValueError(\"Unknown rnn_type \"+rnn_type)\n",
    "        \n",
    "        \n",
    "        if rnn_bidirectional:\n",
    "            layer = keras.layers.Bidirectional(layer)\n",
    "         \n",
    "        model.add(layer)\n",
    "        \n",
    "        rnn_units = int(rnn_units / 2)\n",
    "    \n",
    "    if rnn_global_max_pooling:\n",
    "        model.add(keras.layers.GlobalMaxPool1D(name=\"global_max_pool\"))\n",
    "    \n",
    "    model.add(keras.layers.Dense(rnn_units, activation=rnn_activation_function))\n",
    "    \n",
    "    if rnn_output_dropout is not None and rnn_output_dropout > 0:\n",
    "        model.add(keras.layers.Dropout(rnn_output_dropout, name=\"dense_dropout\"))\n",
    "        \n",
    "    if classification_type == \"binary\":\n",
    "        output_activation = \"sigmoid\"\n",
    "    elif classification_type == \"multi-class\":\n",
    "        output_activation = \"softmax\"\n",
    "    elif classification_type == \"multi-label\":\n",
    "        output_activation = \"sigmoid\"\n",
    "    else:\n",
    "        raise ValueError(\"Unknown classification_type \"+classification_type)\n",
    "\n",
    "    model.add(keras.layers.Dense(output_classes, activation=output_activation, name=\"prediction\"))\n",
    "    \n",
    "    return model"
   ]
  },
  {
   "cell_type": "markdown",
   "metadata": {},
   "source": [
    "**Note: The run you see below it from a build_model_rnn_simple(...) model (i.e. your output will look different)!**"
   ]
  },
  {
   "cell_type": "code",
   "execution_count": 16,
   "metadata": {},
   "outputs": [
    {
     "name": "stdout",
     "output_type": "stream",
     "text": [
      "Model: \"rnn\"\n",
      "_________________________________________________________________\n",
      "Layer (type)                 Output Shape              Param #   \n",
      "=================================================================\n",
      "text_vectorization (TextVect (None, None)              0         \n",
      "_________________________________________________________________\n",
      "embedding (Embedding)        (None, None, 300)         61647900  \n",
      "_________________________________________________________________\n",
      "bidirectional (Bidirectional (None, None, 64)          85248     \n",
      "_________________________________________________________________\n",
      "global_max_pool (GlobalMaxPo (None, 64)                0         \n",
      "_________________________________________________________________\n",
      "prediction (Dense)           (None, 1)                 65        \n",
      "=================================================================\n",
      "Total params: 61,733,213\n",
      "Trainable params: 85,313\n",
      "Non-trainable params: 61,647,900\n",
      "_________________________________________________________________\n"
     ]
    }
   ],
   "source": [
    "model = build_model_rnn(params)\n",
    "#model = build_model_rnn_simple(params)\n",
    "model.summary()"
   ]
  },
  {
   "cell_type": "code",
   "execution_count": 17,
   "metadata": {},
   "outputs": [],
   "source": [
    "compile_model(params, model)"
   ]
  },
  {
   "cell_type": "code",
   "execution_count": 18,
   "metadata": {},
   "outputs": [
    {
     "name": "stdout",
     "output_type": "stream",
     "text": [
      "Epoch 1/10\n",
      "3512/3512 [==============================] - 138s 37ms/step - loss: 0.0937 - accuracy: 0.9676 - val_loss: 0.0666 - val_accuracy: 0.9793\n",
      "Epoch 2/10\n",
      "3512/3512 [==============================] - 132s 37ms/step - loss: 0.0542 - accuracy: 0.9832 - val_loss: 0.0507 - val_accuracy: 0.9854\n",
      "Epoch 3/10\n",
      "3512/3512 [==============================] - 130s 37ms/step - loss: 0.0405 - accuracy: 0.9879 - val_loss: 0.0506 - val_accuracy: 0.9852\n",
      "Epoch 4/10\n",
      "3512/3512 [==============================] - 129s 37ms/step - loss: 0.0322 - accuracy: 0.9904 - val_loss: 0.0447 - val_accuracy: 0.9876\n",
      "Epoch 5/10\n",
      "3512/3512 [==============================] - 129s 37ms/step - loss: 0.0262 - accuracy: 0.9923 - val_loss: 0.0472 - val_accuracy: 0.9875\n",
      "Epoch 6/10\n",
      "3512/3512 [==============================] - 130s 37ms/step - loss: 0.0234 - accuracy: 0.9928 - val_loss: 0.0473 - val_accuracy: 0.9886\n",
      "Epoch 7/10\n",
      "3512/3512 [==============================] - 129s 37ms/step - loss: 0.0206 - accuracy: 0.9938 - val_loss: 0.0432 - val_accuracy: 0.9889\n",
      "Epoch 8/10\n",
      "3512/3512 [==============================] - 129s 37ms/step - loss: 0.0185 - accuracy: 0.9944 - val_loss: 0.0449 - val_accuracy: 0.9894\n",
      "Epoch 9/10\n",
      "3512/3512 [==============================] - 129s 37ms/step - loss: 0.0168 - accuracy: 0.9947 - val_loss: 0.0471 - val_accuracy: 0.9887\n",
      "Epoch 10/10\n",
      "3512/3512 [==============================] - 128s 36ms/step - loss: 0.0155 - accuracy: 0.9951 - val_loss: 0.0512 - val_accuracy: 0.9887\n"
     ]
    }
   ],
   "source": [
    "params[\"training_epochs\"] = 10\n",
    "history = train_model(params, model, dataset_train, dataset_val)"
   ]
  },
  {
   "cell_type": "code",
   "execution_count": 19,
   "metadata": {},
   "outputs": [
    {
     "data": {
      "image/png": "[encoded data removed]",
      "text/plain": [
       "<Figure size 432x288 with 1 Axes>"
      ]
     },
     "metadata": {
      "needs_background": "light"
     },
     "output_type": "display_data"
    },
    {
     "data": {
      "image/png": "[encoded data removed]",
      "text/plain": [
       "<Figure size 432x288 with 1 Axes>"
      ]
     },
     "metadata": {
      "needs_background": "light"
     },
     "output_type": "display_data"
    }
   ],
   "source": [
    "plot_history(history)"
   ]
  },
  {
   "cell_type": "markdown",
   "metadata": {},
   "source": [
    "Quite overfitted. Training could stop after ~3 epochs and some regularizations (like dropout) could also make sense.  "
   ]
  },
  {
   "cell_type": "code",
   "execution_count": null,
   "metadata": {},
   "outputs": [],
   "source": []
  },
  {
   "cell_type": "markdown",
   "metadata": {},
   "source": [
    "**Node: Following output is from a build_model_rnn(...) run!**"
   ]
  },
  {
   "cell_type": "markdown",
   "metadata": {},
   "source": [
    "Let's see if it is possible to further improve the model by unfreezing the embedding layer.\n",
    "\n",
    "Also see https://www.tensorflow.org/guide/keras/transfer_learning"
   ]
  },
  {
   "cell_type": "code",
   "execution_count": 18,
   "metadata": {},
   "outputs": [
    {
     "name": "stdout",
     "output_type": "stream",
     "text": [
      "Model: \"rnn\"\n",
      "_________________________________________________________________\n",
      "Layer (type)                 Output Shape              Param #   \n",
      "=================================================================\n",
      "text_vectorization (TextVect (None, None)              0         \n",
      "_________________________________________________________________\n",
      "embedding (Embedding)        (None, None, 300)         61647900  \n",
      "_________________________________________________________________\n",
      "bidirectional (Bidirectional (None, 64)                85248     \n",
      "_________________________________________________________________\n",
      "dense (Dense)                (None, 16)                1040      \n",
      "_________________________________________________________________\n",
      "dense_dropout (Dropout)      (None, 16)                0         \n",
      "_________________________________________________________________\n",
      "prediction (Dense)           (None, 1)                 17        \n",
      "=================================================================\n",
      "Total params: 61,734,205\n",
      "Trainable params: 61,734,205\n",
      "Non-trainable params: 0\n",
      "_________________________________________________________________\n"
     ]
    }
   ],
   "source": [
    "# Unfreeze all layers (i.e. make embeddings trainable)\n",
    "model.trainable = True\n",
    "model.summary()"
   ]
  },
  {
   "cell_type": "code",
   "execution_count": 19,
   "metadata": {},
   "outputs": [],
   "source": [
    "re_compile_model(params, model)"
   ]
  },
  {
   "cell_type": "code",
   "execution_count": 20,
   "metadata": {},
   "outputs": [
    {
     "name": "stdout",
     "output_type": "stream",
     "text": [
      "Epoch 1/2\n",
      "3512/3512 [==============================] - 1638s 465ms/step - loss: 0.0385 - accuracy: 0.9883 - val_loss: 0.0364 - val_accuracy: 0.9896\n",
      "Epoch 2/2\n",
      "3512/3512 [==============================] - 1622s 462ms/step - loss: 0.0313 - accuracy: 0.9906 - val_loss: 0.0349 - val_accuracy: 0.9905\n"
     ]
    }
   ],
   "source": [
    "params[\"training_epochs\"] = 2\n",
    "history = train_model(params, model, dataset_train, dataset_val)"
   ]
  },
  {
   "cell_type": "code",
   "execution_count": 21,
   "metadata": {},
   "outputs": [
    {
     "name": "stderr",
     "output_type": "stream",
     "text": [
      "WARNING:absl:Found untraced functions such as lstm_cell_1_layer_call_fn, lstm_cell_1_layer_call_and_return_conditional_losses, lstm_cell_2_layer_call_fn, lstm_cell_2_layer_call_and_return_conditional_losses, lstm_cell_1_layer_call_fn while saving (showing 5 of 10). These functions will not be directly callable after loading.\n"
     ]
    },
    {
     "name": "stdout",
     "output_type": "stream",
     "text": [
      "INFO:tensorflow:Assets written to: models/rnn/20210918-164935/model_0.99048/assets\n"
     ]
    },
    {
     "name": "stderr",
     "output_type": "stream",
     "text": [
      "INFO:tensorflow:Assets written to: models/rnn/20210918-164935/model_0.99048/assets\n"
     ]
    }
   ],
   "source": [
    "save_model(params, model, history)"
   ]
  },
  {
   "cell_type": "code",
   "execution_count": 22,
   "metadata": {},
   "outputs": [],
   "source": [
    "#%tensorboard --logdir logs"
   ]
  },
  {
   "cell_type": "code",
   "execution_count": 23,
   "metadata": {},
   "outputs": [],
   "source": [
    "from fhnw.nlp.utils.ploting import report_classification_results"
   ]
  },
  {
   "cell_type": "markdown",
   "metadata": {},
   "source": [
    "Check performance on all data."
   ]
  },
  {
   "cell_type": "code",
   "execution_count": 24,
   "metadata": {},
   "outputs": [
    {
     "name": "stdout",
     "output_type": "stream",
     "text": [
      "Set Population: 331187\n",
      "Accuracy: 0.9872\n"
     ]
    },
    {
     "data": {
      "image/png": "[encoded data removed]",
      "text/plain": [
       "<Figure size 720x576 with 2 Axes>"
      ]
     },
     "metadata": {
      "needs_background": "light"
     },
     "output_type": "display_data"
    },
    {
     "name": "stdout",
     "output_type": "stream",
     "text": [
      "              precision    recall  f1-score   support\n",
      "\n",
      "    negative       0.89      1.00      0.94     33022\n",
      "    positive       1.00      0.99      0.99    298165\n",
      "\n",
      "    accuracy                           0.99    331187\n",
      "   macro avg       0.94      0.99      0.97    331187\n",
      "weighted avg       0.99      0.99      0.99    331187\n",
      "\n",
      "CPU times: user 1min 58s, sys: 1.54 s, total: 1min 59s\n",
      "Wall time: 49 s\n"
     ]
    }
   ],
   "source": [
    "%%time\n",
    "\n",
    "report_classification_results(params, data, model)"
   ]
  },
  {
   "cell_type": "markdown",
   "metadata": {},
   "source": [
    "Check performance on test data."
   ]
  },
  {
   "cell_type": "code",
   "execution_count": 25,
   "metadata": {},
   "outputs": [
    {
     "name": "stdout",
     "output_type": "stream",
     "text": [
      "Set Population: 66238\n",
      "Accuracy: 0.9822\n"
     ]
    },
    {
     "data": {
      "image/png": "[encoded data removed]",
      "text/plain": [
       "<Figure size 720x576 with 2 Axes>"
      ]
     },
     "metadata": {
      "needs_background": "light"
     },
     "output_type": "display_data"
    },
    {
     "name": "stdout",
     "output_type": "stream",
     "text": [
      "              precision    recall  f1-score   support\n",
      "\n",
      "    negative       0.85      1.00      0.92      6604\n",
      "    positive       1.00      0.98      0.99     59634\n",
      "\n",
      "    accuracy                           0.98     66238\n",
      "   macro avg       0.92      0.99      0.95     66238\n",
      "weighted avg       0.98      0.98      0.98     66238\n",
      "\n",
      "CPU times: user 23.2 s, sys: 243 ms, total: 23.4 s\n",
      "Wall time: 9.11 s\n"
     ]
    }
   ],
   "source": [
    "%%time\n",
    "\n",
    "report_classification_results(params, data_test, model)"
   ]
  },
  {
   "cell_type": "code",
   "execution_count": null,
   "metadata": {},
   "outputs": [],
   "source": []
  }
 ],
 "metadata": {
  "kernelspec": {
   "display_name": "Python 3",
   "language": "python",
   "name": "python3"
  },
  "language_info": {
   "codemirror_mode": {
    "name": "ipython",
    "version": 3
   },
   "file_extension": ".py",
   "mimetype": "text/x-python",
   "name": "python",
   "nbconvert_exporter": "python",
   "pygments_lexer": "ipython3",
   "version": "3.6.9"
  }
 },
 "nbformat": 4,
 "nbformat_minor": 2
}
