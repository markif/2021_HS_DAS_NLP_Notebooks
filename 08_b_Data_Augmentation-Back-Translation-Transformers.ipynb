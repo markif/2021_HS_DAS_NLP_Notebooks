{
 "cells": [
  {
   "cell_type": "markdown",
   "metadata": {},
   "source": [
    "<img align=\"right\" width=\"400\" src=\"https://www.fhnw.ch/de/++theme++web16theme/assets/media/img/fachhochschule-nordwestschweiz-fhnw-logo.svg\" alt=\"FHNW Logo\">\n",
    "\n",
    "\n",
    "# Data Augmentation Back Translation with Transformers\n",
    "\n",
    "by Fabian Märki\n",
    "\n",
    "## Summary\n",
    "The aim of this notebook is to show how Huggingface's model can be used for back translation.\n",
    "\n",
    "### Sources\n",
    "- https://amitness.com/back-translation/\n",
    "- https://github.com/huggingface/transformers/issues/9994\n",
    "\n",
    "### Libraries/Models\n",
    "- https://huggingface.co\n",
    "- https://huggingface.co/models?language=de&pipeline_tag=translation&sort=downloads&search=Helsinki-NLP\n",
    "\n",
    "<a href=\"https://colab.research.google.com/github/markif/2021_HS_DAS_NLP_Notebooks/blob/master/08_b_Data_Augmentation-Back-Translation-Transformers.ipynb\">\n",
    "  <img align=\"left\" src=\"https://colab.research.google.com/assets/colab-badge.svg\" alt=\"Open In Colab\"/>\n",
    "</a>"
   ]
  },
  {
   "cell_type": "code",
   "execution_count": 1,
   "metadata": {},
   "outputs": [
    {
     "name": "stdout",
     "output_type": "stream",
     "text": [
      "Requirement already satisfied: fhnw-nlp-utils>=0.1.3 in /usr/local/lib/python3.6/dist-packages (0.1.3)\n",
      "Requirement already satisfied: matplotlib in /usr/local/lib/python3.6/dist-packages (from fhnw-nlp-utils>=0.1.3) (3.3.4)\n",
      "Requirement already satisfied: numpy in /usr/local/lib/python3.6/dist-packages (from fhnw-nlp-utils>=0.1.3) (1.19.5)\n",
      "Requirement already satisfied: scikit-learn in /usr/local/lib/python3.6/dist-packages (from fhnw-nlp-utils>=0.1.3) (0.24.2)\n",
      "Requirement already satisfied: pandas in /usr/local/lib/python3.6/dist-packages (from fhnw-nlp-utils>=0.1.3) (1.1.5)\n",
      "Requirement already satisfied: wordcloud in /usr/local/lib/python3.6/dist-packages (from fhnw-nlp-utils>=0.1.3) (1.8.1)\n",
      "Requirement already satisfied: gdown in /usr/local/lib/python3.6/dist-packages (from fhnw-nlp-utils>=0.1.3) (3.13.1)\n",
      "Requirement already satisfied: multiprocess in /usr/local/lib/python3.6/dist-packages (from fhnw-nlp-utils>=0.1.3) (0.70.12.2)\n",
      "Requirement already satisfied: psutil in /usr/local/lib/python3.6/dist-packages (from fhnw-nlp-utils>=0.1.3) (5.8.0)\n",
      "Requirement already satisfied: nltk in /usr/local/lib/python3.6/dist-packages (from fhnw-nlp-utils>=0.1.3) (3.6.2)\n",
      "Requirement already satisfied: wget in /usr/local/lib/python3.6/dist-packages (from fhnw-nlp-utils>=0.1.3) (3.2)\n",
      "Requirement already satisfied: cycler>=0.10 in /usr/local/lib/python3.6/dist-packages (from matplotlib->fhnw-nlp-utils>=0.1.3) (0.10.0)\n",
      "Requirement already satisfied: pillow>=6.2.0 in /usr/local/lib/python3.6/dist-packages (from matplotlib->fhnw-nlp-utils>=0.1.3) (8.3.1)\n",
      "Requirement already satisfied: kiwisolver>=1.0.1 in /usr/local/lib/python3.6/dist-packages (from matplotlib->fhnw-nlp-utils>=0.1.3) (1.3.1)\n",
      "Requirement already satisfied: pyparsing!=2.0.4,!=2.1.2,!=2.1.6,>=2.0.3 in /usr/local/lib/python3.6/dist-packages (from matplotlib->fhnw-nlp-utils>=0.1.3) (2.4.7)\n",
      "Requirement already satisfied: python-dateutil>=2.1 in /usr/local/lib/python3.6/dist-packages (from matplotlib->fhnw-nlp-utils>=0.1.3) (2.8.2)\n",
      "Requirement already satisfied: joblib>=0.11 in /usr/local/lib/python3.6/dist-packages (from scikit-learn->fhnw-nlp-utils>=0.1.3) (1.0.1)\n",
      "Requirement already satisfied: scipy>=0.19.1 in /usr/local/lib/python3.6/dist-packages (from scikit-learn->fhnw-nlp-utils>=0.1.3) (1.5.4)\n",
      "Requirement already satisfied: threadpoolctl>=2.0.0 in /usr/local/lib/python3.6/dist-packages (from scikit-learn->fhnw-nlp-utils>=0.1.3) (2.2.0)\n",
      "Requirement already satisfied: pytz>=2017.2 in /usr/local/lib/python3.6/dist-packages (from pandas->fhnw-nlp-utils>=0.1.3) (2021.1)\n",
      "Requirement already satisfied: tqdm in /usr/local/lib/python3.6/dist-packages (from gdown->fhnw-nlp-utils>=0.1.3) (4.62.2)\n",
      "Requirement already satisfied: filelock in /usr/local/lib/python3.6/dist-packages (from gdown->fhnw-nlp-utils>=0.1.3) (3.0.12)\n",
      "Requirement already satisfied: six in /usr/local/lib/python3.6/dist-packages (from gdown->fhnw-nlp-utils>=0.1.3) (1.15.0)\n",
      "Requirement already satisfied: requests[socks]>=2.12.0 in /usr/local/lib/python3.6/dist-packages (from gdown->fhnw-nlp-utils>=0.1.3) (2.26.0)\n",
      "Requirement already satisfied: dill>=0.3.4 in /usr/local/lib/python3.6/dist-packages (from multiprocess->fhnw-nlp-utils>=0.1.3) (0.3.4)\n",
      "Requirement already satisfied: click in /usr/local/lib/python3.6/dist-packages (from nltk->fhnw-nlp-utils>=0.1.3) (7.1.2)\n",
      "Requirement already satisfied: regex in /usr/local/lib/python3.6/dist-packages (from nltk->fhnw-nlp-utils>=0.1.3) (2021.8.28)\n",
      "Requirement already satisfied: urllib3<1.27,>=1.21.1 in /usr/local/lib/python3.6/dist-packages (from requests[socks]>=2.12.0->gdown->fhnw-nlp-utils>=0.1.3) (1.26.6)\n",
      "Requirement already satisfied: certifi>=2017.4.17 in /usr/local/lib/python3.6/dist-packages (from requests[socks]>=2.12.0->gdown->fhnw-nlp-utils>=0.1.3) (2021.5.30)\n",
      "Requirement already satisfied: idna<4,>=2.5; python_version >= \"3\" in /usr/lib/python3/dist-packages (from requests[socks]>=2.12.0->gdown->fhnw-nlp-utils>=0.1.3) (2.6)\n",
      "Requirement already satisfied: charset-normalizer~=2.0.0; python_version >= \"3\" in /usr/local/lib/python3.6/dist-packages (from requests[socks]>=2.12.0->gdown->fhnw-nlp-utils>=0.1.3) (2.0.4)\n",
      "Requirement already satisfied: PySocks!=1.5.7,>=1.5.6; extra == \"socks\" in /usr/local/lib/python3.6/dist-packages (from requests[socks]>=2.12.0->gdown->fhnw-nlp-utils>=0.1.3) (1.7.1)\n",
      "\u001b[33mWARNING: You are using pip version 20.2.4; however, version 21.2.4 is available.\n",
      "You should consider upgrading via the '/usr/bin/python3 -m pip install --upgrade pip' command.\u001b[0m\n",
      "Tensorflow version: 2.5.1\n",
      "GPU is available\n"
     ]
    }
   ],
   "source": [
    "!pip install 'fhnw-nlp-utils>=0.1.6,<0.2'\n",
    "\n",
    "from fhnw.nlp.utils.processing import parallelize_dataframe\n",
    "from fhnw.nlp.utils.processing import is_iterable\n",
    "from fhnw.nlp.utils.storage import download\n",
    "from fhnw.nlp.utils.storage import save_dataframe\n",
    "from fhnw.nlp.utils.storage import load_dataframe\n",
    "\n",
    "import numpy as np\n",
    "import pandas as pd\n",
    "from datetime import datetime\n",
    "\n",
    "import tensorflow as tf\n",
    "\n",
    "print(\"Tensorflow version:\", tf.__version__)\n",
    "print(\"GPU is\", \"available\" if tf.config.list_physical_devices(\"GPU\") else \"NOT AVAILABLE\")"
   ]
  },
  {
   "cell_type": "code",
   "execution_count": null,
   "metadata": {},
   "outputs": [],
   "source": []
  },
  {
   "cell_type": "code",
   "execution_count": 2,
   "metadata": {},
   "outputs": [
    {
     "name": "stdout",
     "output_type": "stream",
     "text": [
      "CPU times: user 7.86 s, sys: 1.21 s, total: 9.07 s\n",
      "Wall time: 5.16 s\n"
     ]
    },
    {
     "data": {
      "text/plain": [
       "(350087, 10)"
      ]
     },
     "execution_count": 2,
     "metadata": {},
     "output_type": "execute_result"
    }
   ],
   "source": [
    "%%time\n",
    "download(\"https://drive.google.com/uc?id=19AFeVnOfX8WXU4_3rM7OFoNTWWog_sb_\", \"data/german_doctor_reviews_tokenized.parq\")\n",
    "data = load_dataframe(\"data/german_doctor_reviews_tokenized.parq\")\n",
    "data.shape"
   ]
  },
  {
   "cell_type": "code",
   "execution_count": 3,
   "metadata": {},
   "outputs": [
    {
     "data": {
      "text/html": [
       "<div>\n",
       "<style scoped>\n",
       "    .dataframe tbody tr th:only-of-type {\n",
       "        vertical-align: middle;\n",
       "    }\n",
       "\n",
       "    .dataframe tbody tr th {\n",
       "        vertical-align: top;\n",
       "    }\n",
       "\n",
       "    .dataframe thead th {\n",
       "        text-align: right;\n",
       "    }\n",
       "</style>\n",
       "<table border=\"1\" class=\"dataframe\">\n",
       "  <thead>\n",
       "    <tr style=\"text-align: right;\">\n",
       "      <th></th>\n",
       "      <th>text_original</th>\n",
       "      <th>rating</th>\n",
       "      <th>text</th>\n",
       "      <th>label</th>\n",
       "      <th>sentiment</th>\n",
       "      <th>token_clean</th>\n",
       "      <th>text_clean</th>\n",
       "      <th>token_lemma</th>\n",
       "      <th>token_stem</th>\n",
       "      <th>token_clean_stopwords</th>\n",
       "    </tr>\n",
       "  </thead>\n",
       "  <tbody>\n",
       "    <tr>\n",
       "      <th>0</th>\n",
       "      <td>Ich bin franzose und bin seit ein paar Wochen ...</td>\n",
       "      <td>2.0</td>\n",
       "      <td>Ich bin franzose und bin seit ein paar Wochen ...</td>\n",
       "      <td>positive</td>\n",
       "      <td>1</td>\n",
       "      <td>[ich, bin, franzose, und, bin, seit, ein, paar...</td>\n",
       "      <td>ich bin franzose und bin seit ein paar wochen ...</td>\n",
       "      <td>[franzose, seit, paar, wochen, muenchen, zahn,...</td>\n",
       "      <td>[franzos, seit, paar, woch, muench, ., zahn, s...</td>\n",
       "      <td>[franzose, seit, paar, wochen, muenchen, ., za...</td>\n",
       "    </tr>\n",
       "    <tr>\n",
       "      <th>1</th>\n",
       "      <td>Dieser Arzt ist das unmöglichste was mir in me...</td>\n",
       "      <td>6.0</td>\n",
       "      <td>Dieser Arzt ist das unmöglichste was mir in me...</td>\n",
       "      <td>negative</td>\n",
       "      <td>-1</td>\n",
       "      <td>[dieser, arzt, ist, das, unmöglichste, was, mi...</td>\n",
       "      <td>dieser arzt ist das unmöglichste was mir in me...</td>\n",
       "      <td>[arzt, unmöglichste, leben, je, begegnen, unfr...</td>\n",
       "      <td>[arzt, unmog, leb, je, begegnet, unfreund, ,, ...</td>\n",
       "      <td>[arzt, unmöglichste, leben, je, begegnet, unfr...</td>\n",
       "    </tr>\n",
       "    <tr>\n",
       "      <th>2</th>\n",
       "      <td>Hatte akute Beschwerden am Rücken. Herr Magura...</td>\n",
       "      <td>1.0</td>\n",
       "      <td>Hatte akute Beschwerden am Rücken. Herr Magura...</td>\n",
       "      <td>positive</td>\n",
       "      <td>1</td>\n",
       "      <td>[hatte, akute, beschwerden, am, rücken, ., her...</td>\n",
       "      <td>hatte akute beschwerden am rücken . herr magur...</td>\n",
       "      <td>[akut, beschwerden, rücken, magura, erste, arz...</td>\n",
       "      <td>[akut, beschwerd, ruck, ., magura, erst, arzt,...</td>\n",
       "      <td>[akute, beschwerden, rücken, ., magura, erste,...</td>\n",
       "    </tr>\n",
       "  </tbody>\n",
       "</table>\n",
       "</div>"
      ],
      "text/plain": [
       "                                       text_original  rating  \\\n",
       "0  Ich bin franzose und bin seit ein paar Wochen ...     2.0   \n",
       "1  Dieser Arzt ist das unmöglichste was mir in me...     6.0   \n",
       "2  Hatte akute Beschwerden am Rücken. Herr Magura...     1.0   \n",
       "\n",
       "                                                text     label  sentiment  \\\n",
       "0  Ich bin franzose und bin seit ein paar Wochen ...  positive          1   \n",
       "1  Dieser Arzt ist das unmöglichste was mir in me...  negative         -1   \n",
       "2  Hatte akute Beschwerden am Rücken. Herr Magura...  positive          1   \n",
       "\n",
       "                                         token_clean  \\\n",
       "0  [ich, bin, franzose, und, bin, seit, ein, paar...   \n",
       "1  [dieser, arzt, ist, das, unmöglichste, was, mi...   \n",
       "2  [hatte, akute, beschwerden, am, rücken, ., her...   \n",
       "\n",
       "                                          text_clean  \\\n",
       "0  ich bin franzose und bin seit ein paar wochen ...   \n",
       "1  dieser arzt ist das unmöglichste was mir in me...   \n",
       "2  hatte akute beschwerden am rücken . herr magur...   \n",
       "\n",
       "                                         token_lemma  \\\n",
       "0  [franzose, seit, paar, wochen, muenchen, zahn,...   \n",
       "1  [arzt, unmöglichste, leben, je, begegnen, unfr...   \n",
       "2  [akut, beschwerden, rücken, magura, erste, arz...   \n",
       "\n",
       "                                          token_stem  \\\n",
       "0  [franzos, seit, paar, woch, muench, ., zahn, s...   \n",
       "1  [arzt, unmog, leb, je, begegnet, unfreund, ,, ...   \n",
       "2  [akut, beschwerd, ruck, ., magura, erst, arzt,...   \n",
       "\n",
       "                               token_clean_stopwords  \n",
       "0  [franzose, seit, paar, wochen, muenchen, ., za...  \n",
       "1  [arzt, unmöglichste, leben, je, begegnet, unfr...  \n",
       "2  [akute, beschwerden, rücken, ., magura, erste,...  "
      ]
     },
     "execution_count": 3,
     "metadata": {},
     "output_type": "execute_result"
    }
   ],
   "source": [
    "data.head(3)"
   ]
  },
  {
   "cell_type": "code",
   "execution_count": 4,
   "metadata": {},
   "outputs": [],
   "source": [
    "data = data.drop([\"token_clean\", \"token_lemma\", \"token_stem\", \"token_clean_stopwords\", \"text_clean\"], axis=1)"
   ]
  },
  {
   "cell_type": "code",
   "execution_count": 5,
   "metadata": {},
   "outputs": [
    {
     "data": {
      "text/html": [
       "<div>\n",
       "<style scoped>\n",
       "    .dataframe tbody tr th:only-of-type {\n",
       "        vertical-align: middle;\n",
       "    }\n",
       "\n",
       "    .dataframe tbody tr th {\n",
       "        vertical-align: top;\n",
       "    }\n",
       "\n",
       "    .dataframe thead th {\n",
       "        text-align: right;\n",
       "    }\n",
       "</style>\n",
       "<table border=\"1\" class=\"dataframe\">\n",
       "  <thead>\n",
       "    <tr style=\"text-align: right;\">\n",
       "      <th></th>\n",
       "      <th>text_original</th>\n",
       "      <th>rating</th>\n",
       "      <th>text</th>\n",
       "      <th>label</th>\n",
       "      <th>sentiment</th>\n",
       "    </tr>\n",
       "  </thead>\n",
       "  <tbody>\n",
       "    <tr>\n",
       "      <th>0</th>\n",
       "      <td>Ich bin franzose und bin seit ein paar Wochen ...</td>\n",
       "      <td>2.0</td>\n",
       "      <td>Ich bin franzose und bin seit ein paar Wochen ...</td>\n",
       "      <td>positive</td>\n",
       "      <td>1</td>\n",
       "    </tr>\n",
       "    <tr>\n",
       "      <th>1</th>\n",
       "      <td>Dieser Arzt ist das unmöglichste was mir in me...</td>\n",
       "      <td>6.0</td>\n",
       "      <td>Dieser Arzt ist das unmöglichste was mir in me...</td>\n",
       "      <td>negative</td>\n",
       "      <td>-1</td>\n",
       "    </tr>\n",
       "    <tr>\n",
       "      <th>2</th>\n",
       "      <td>Hatte akute Beschwerden am Rücken. Herr Magura...</td>\n",
       "      <td>1.0</td>\n",
       "      <td>Hatte akute Beschwerden am Rücken. Herr Magura...</td>\n",
       "      <td>positive</td>\n",
       "      <td>1</td>\n",
       "    </tr>\n",
       "  </tbody>\n",
       "</table>\n",
       "</div>"
      ],
      "text/plain": [
       "                                       text_original  rating  \\\n",
       "0  Ich bin franzose und bin seit ein paar Wochen ...     2.0   \n",
       "1  Dieser Arzt ist das unmöglichste was mir in me...     6.0   \n",
       "2  Hatte akute Beschwerden am Rücken. Herr Magura...     1.0   \n",
       "\n",
       "                                                text     label  sentiment  \n",
       "0  Ich bin franzose und bin seit ein paar Wochen ...  positive          1  \n",
       "1  Dieser Arzt ist das unmöglichste was mir in me...  negative         -1  \n",
       "2  Hatte akute Beschwerden am Rücken. Herr Magura...  positive          1  "
      ]
     },
     "execution_count": 5,
     "metadata": {},
     "output_type": "execute_result"
    }
   ],
   "source": [
    "data.head(3)"
   ]
  },
  {
   "cell_type": "code",
   "execution_count": 6,
   "metadata": {},
   "outputs": [
    {
     "data": {
      "text/html": [
       "<div>\n",
       "<style scoped>\n",
       "    .dataframe tbody tr th:only-of-type {\n",
       "        vertical-align: middle;\n",
       "    }\n",
       "\n",
       "    .dataframe tbody tr th {\n",
       "        vertical-align: top;\n",
       "    }\n",
       "\n",
       "    .dataframe thead th {\n",
       "        text-align: right;\n",
       "    }\n",
       "</style>\n",
       "<table border=\"1\" class=\"dataframe\">\n",
       "  <thead>\n",
       "    <tr style=\"text-align: right;\">\n",
       "      <th></th>\n",
       "      <th>text_original</th>\n",
       "      <th>rating</th>\n",
       "      <th>text</th>\n",
       "      <th>label</th>\n",
       "      <th>sentiment</th>\n",
       "    </tr>\n",
       "  </thead>\n",
       "  <tbody>\n",
       "    <tr>\n",
       "      <th>1</th>\n",
       "      <td>Dieser Arzt ist das unmöglichste was mir in me...</td>\n",
       "      <td>6.0</td>\n",
       "      <td>Dieser Arzt ist das unmöglichste was mir in me...</td>\n",
       "      <td>negative</td>\n",
       "      <td>-1</td>\n",
       "    </tr>\n",
       "    <tr>\n",
       "      <th>13</th>\n",
       "      <td>1. Termin:&lt;br /&gt;\\n1 Stunde Wartezimmer + 2 min...</td>\n",
       "      <td>6.0</td>\n",
       "      <td>. Termin Stunde Wartezimmer minütige Behandlu...</td>\n",
       "      <td>negative</td>\n",
       "      <td>-1</td>\n",
       "    </tr>\n",
       "    <tr>\n",
       "      <th>19</th>\n",
       "      <td>Eine sehr unfreundliche Ärztin, so etwas habe ...</td>\n",
       "      <td>6.0</td>\n",
       "      <td>Eine sehr unfreundliche Ärztin, so etwas habe ...</td>\n",
       "      <td>negative</td>\n",
       "      <td>-1</td>\n",
       "    </tr>\n",
       "  </tbody>\n",
       "</table>\n",
       "</div>"
      ],
      "text/plain": [
       "                                        text_original  rating  \\\n",
       "1   Dieser Arzt ist das unmöglichste was mir in me...     6.0   \n",
       "13  1. Termin:<br />\\n1 Stunde Wartezimmer + 2 min...     6.0   \n",
       "19  Eine sehr unfreundliche Ärztin, so etwas habe ...     6.0   \n",
       "\n",
       "                                                 text     label  sentiment  \n",
       "1   Dieser Arzt ist das unmöglichste was mir in me...  negative         -1  \n",
       "13   . Termin Stunde Wartezimmer minütige Behandlu...  negative         -1  \n",
       "19  Eine sehr unfreundliche Ärztin, so etwas habe ...  negative         -1  "
      ]
     },
     "execution_count": 6,
     "metadata": {},
     "output_type": "execute_result"
    }
   ],
   "source": [
    "# only keep negative text (the class with fewer samples)\n",
    "data_augm = data[data[\"label\"] == \"negative\"]\n",
    "\n",
    "data_augm.head(3)"
   ]
  },
  {
   "cell_type": "code",
   "execution_count": 7,
   "metadata": {},
   "outputs": [],
   "source": [
    "#data_augm = data_augm.reset_index(drop=True)"
   ]
  },
  {
   "cell_type": "code",
   "execution_count": 8,
   "metadata": {},
   "outputs": [
    {
     "name": "stdout",
     "output_type": "stream",
     "text": [
      "Requirement already satisfied: torch in /usr/local/lib/python3.6/dist-packages (1.9.0)\n",
      "Requirement already satisfied: sentencepiece in /usr/local/lib/python3.6/dist-packages (0.1.96)\n",
      "Collecting mosestokenizer\n",
      "  Downloading mosestokenizer-1.1.0.tar.gz (37 kB)\n",
      "Requirement already satisfied: dataclasses; python_version < \"3.7\" in /usr/local/lib/python3.6/dist-packages (from torch) (0.8)\n",
      "Requirement already satisfied: typing-extensions in /usr/local/lib/python3.6/dist-packages (from torch) (3.7.4.3)\n",
      "Collecting docopt\n",
      "  Downloading docopt-0.6.2.tar.gz (25 kB)\n",
      "Collecting openfile\n",
      "  Downloading openfile-0.0.7-py3-none-any.whl (2.4 kB)\n",
      "Collecting uctools\n",
      "  Downloading uctools-1.3.0.tar.gz (4.6 kB)\n",
      "Collecting toolwrapper\n",
      "  Downloading toolwrapper-2.1.0.tar.gz (3.2 kB)\n",
      "Building wheels for collected packages: mosestokenizer, docopt, uctools, toolwrapper\n",
      "  Building wheel for mosestokenizer (setup.py) ... \u001b[?25ldone\n",
      "\u001b[?25h  Created wheel for mosestokenizer: filename=mosestokenizer-1.1.0-py3-none-any.whl size=49117 sha256=a57c65d1aa2b9dd6bf64a46e87cd44c91867d1a0ae92c2acc107a15801831b08\n",
      "  Stored in directory: /root/.cache/pip/wheels/66/2f/b1/451aa60031d370c81c754ed7b793d208e69a19b29c2376e6e4\n",
      "  Building wheel for docopt (setup.py) ... \u001b[?25ldone\n",
      "\u001b[?25h  Created wheel for docopt: filename=docopt-0.6.2-py2.py3-none-any.whl size=13724 sha256=8a30c05ac488cde24df8e0591600ef20788c8d16e9a23f5b2b4ae21812728859\n",
      "  Stored in directory: /root/.cache/pip/wheels/3f/2a/fa/4d7a888e69774d5e6e855d190a8a51b357d77cc05eb1c097c9\n",
      "  Building wheel for uctools (setup.py) ... \u001b[?25ldone\n",
      "\u001b[?25h  Created wheel for uctools: filename=uctools-1.3.0-py3-none-any.whl size=6163 sha256=93ee18c939ede2f2acd9c394fc7b9ab70f5bdc9e85763b757083141dfa4ef0b6\n",
      "  Stored in directory: /root/.cache/pip/wheels/22/cc/6d/f0197ba6334169f56f7f03e50190bc6e6be12a680d94f6c171\n",
      "  Building wheel for toolwrapper (setup.py) ... \u001b[?25ldone\n",
      "\u001b[?25h  Created wheel for toolwrapper: filename=toolwrapper-2.1.0-py3-none-any.whl size=3354 sha256=2ffabcf36f87cbddb6c46e5e248705259a3fde6c6e3886cf4b5832e438e6b47c\n",
      "  Stored in directory: /root/.cache/pip/wheels/fe/fe/d3/e07660b9bbcf584e855c142709ca143760935a0f4cfca7582f\n",
      "Successfully built mosestokenizer docopt uctools toolwrapper\n",
      "Installing collected packages: docopt, openfile, uctools, toolwrapper, mosestokenizer\n",
      "Successfully installed docopt-0.6.2 mosestokenizer-1.1.0 openfile-0.0.7 toolwrapper-2.1.0 uctools-1.3.0\n",
      "\u001b[33mWARNING: You are using pip version 20.2.4; however, version 21.2.4 is available.\n",
      "You should consider upgrading via the '/usr/bin/python3 -m pip install --upgrade pip' command.\u001b[0m\n"
     ]
    }
   ],
   "source": [
    "!pip install torch sentencepiece mosestokenizer"
   ]
  },
  {
   "cell_type": "code",
   "execution_count": 9,
   "metadata": {},
   "outputs": [],
   "source": [
    "def gpu_empty_cache():\n",
    "    \"\"\"Cleans the GPU cache which seems to fill up after a while\n",
    "    \n",
    "    \"\"\"\n",
    "        \n",
    "    import torch\n",
    "    import tensorflow as tf\n",
    "\n",
    "    if tf.config.list_physical_devices(\"GPU\"):\n",
    "        torch.cuda.empty_cache()\n",
    "    \n",
    "def get_gpu_device_number():\n",
    "    \"\"\"Provides the number of the GPU device\n",
    "    \n",
    "    Returns\n",
    "    -------\n",
    "    int\n",
    "        The GPU device number of -1 if none is installed\n",
    "    \"\"\"\n",
    "        \n",
    "    import tensorflow as tf\n",
    "    \n",
    "    return 0 if tf.config.list_physical_devices(\"GPU\") else -1\n",
    "\n",
    "def get_compute_device():\n",
    "    \"\"\"Provides the device for the computation\n",
    "    \n",
    "    Returns\n",
    "    -------\n",
    "    str\n",
    "        The GPU device with number (cuda:0) of cpu\n",
    "    \"\"\"\n",
    "        \n",
    "    import tensorflow as tf\n",
    "    \n",
    "    return \"cuda:0\" if tf.config.list_physical_devices(\"GPU\") else \"cpu\""
   ]
  },
  {
   "cell_type": "code",
   "execution_count": null,
   "metadata": {},
   "outputs": [],
   "source": []
  },
  {
   "cell_type": "markdown",
   "metadata": {},
   "source": [
    "### Back Translation\n",
    "\n",
    "You might repeate following steps for several languages."
   ]
  },
  {
   "cell_type": "code",
   "execution_count": 10,
   "metadata": {},
   "outputs": [
    {
     "data": {
      "application/vnd.jupyter.widget-view+json": {
       "model_id": "d9cf6963b5b54bb6b036699a7ce41470",
       "version_major": 2,
       "version_minor": 0
      },
      "text/plain": [
       "Downloading:   0%|          | 0.00/829k [00:00<?, ?B/s]"
      ]
     },
     "metadata": {},
     "output_type": "display_data"
    },
    {
     "data": {
      "application/vnd.jupyter.widget-view+json": {
       "model_id": "13e1358b91354e7bad6cc97586f5308d",
       "version_major": 2,
       "version_minor": 0
      },
      "text/plain": [
       "Downloading:   0%|          | 0.00/818k [00:00<?, ?B/s]"
      ]
     },
     "metadata": {},
     "output_type": "display_data"
    },
    {
     "data": {
      "application/vnd.jupyter.widget-view+json": {
       "model_id": "4523d2f6970c4c6cb89d367f6c0e68ae",
       "version_major": 2,
       "version_minor": 0
      },
      "text/plain": [
       "Downloading:   0%|          | 0.00/1.47M [00:00<?, ?B/s]"
      ]
     },
     "metadata": {},
     "output_type": "display_data"
    },
    {
     "data": {
      "application/vnd.jupyter.widget-view+json": {
       "model_id": "1454b23e4843466ead1936161edfb03f",
       "version_major": 2,
       "version_minor": 0
      },
      "text/plain": [
       "Downloading:   0%|          | 0.00/42.0 [00:00<?, ?B/s]"
      ]
     },
     "metadata": {},
     "output_type": "display_data"
    },
    {
     "data": {
      "application/vnd.jupyter.widget-view+json": {
       "model_id": "a6282eb0f41e475da10548cac13e877c",
       "version_major": 2,
       "version_minor": 0
      },
      "text/plain": [
       "Downloading:   0%|          | 0.00/1.13k [00:00<?, ?B/s]"
      ]
     },
     "metadata": {},
     "output_type": "display_data"
    },
    {
     "data": {
      "application/vnd.jupyter.widget-view+json": {
       "model_id": "1d4faff78f544ad7888e004ff93e7d1b",
       "version_major": 2,
       "version_minor": 0
      },
      "text/plain": [
       "Downloading:   0%|          | 0.00/304M [00:00<?, ?B/s]"
      ]
     },
     "metadata": {},
     "output_type": "display_data"
    },
    {
     "data": {
      "application/vnd.jupyter.widget-view+json": {
       "model_id": "f81aaa8b645745458e59db50fb016776",
       "version_major": 2,
       "version_minor": 0
      },
      "text/plain": [
       "Downloading:   0%|          | 0.00/818k [00:00<?, ?B/s]"
      ]
     },
     "metadata": {},
     "output_type": "display_data"
    },
    {
     "data": {
      "application/vnd.jupyter.widget-view+json": {
       "model_id": "8f2046c71bdc4afc9b785b656015ceeb",
       "version_major": 2,
       "version_minor": 0
      },
      "text/plain": [
       "Downloading:   0%|          | 0.00/829k [00:00<?, ?B/s]"
      ]
     },
     "metadata": {},
     "output_type": "display_data"
    },
    {
     "data": {
      "application/vnd.jupyter.widget-view+json": {
       "model_id": "6022fd0333524932846aa2438f77458a",
       "version_major": 2,
       "version_minor": 0
      },
      "text/plain": [
       "Downloading:   0%|          | 0.00/1.47M [00:00<?, ?B/s]"
      ]
     },
     "metadata": {},
     "output_type": "display_data"
    },
    {
     "data": {
      "application/vnd.jupyter.widget-view+json": {
       "model_id": "16b9250bf90f4696978d51c143f9d4ce",
       "version_major": 2,
       "version_minor": 0
      },
      "text/plain": [
       "Downloading:   0%|          | 0.00/42.0 [00:00<?, ?B/s]"
      ]
     },
     "metadata": {},
     "output_type": "display_data"
    },
    {
     "data": {
      "application/vnd.jupyter.widget-view+json": {
       "model_id": "f770becd120f42dbb931622af77f89c6",
       "version_major": 2,
       "version_minor": 0
      },
      "text/plain": [
       "Downloading:   0%|          | 0.00/1.13k [00:00<?, ?B/s]"
      ]
     },
     "metadata": {},
     "output_type": "display_data"
    },
    {
     "data": {
      "application/vnd.jupyter.widget-view+json": {
       "model_id": "23e57f5e8fbf48a7a395c72409eba0a9",
       "version_major": 2,
       "version_minor": 0
      },
      "text/plain": [
       "Downloading:   0%|          | 0.00/304M [00:00<?, ?B/s]"
      ]
     },
     "metadata": {},
     "output_type": "display_data"
    }
   ],
   "source": [
    "from transformers import FSMTForConditionalGeneration, FSMTTokenizer\n",
    "from transformers import MarianMTModel, MarianTokenizer\n",
    "\n",
    "lang_from = \"de\"\n",
    "lang_to = \"es\"\n",
    "compute_device = get_compute_device()\n",
    "\n",
    "#orig2dest_model_name = \"facebook/wmt19-\"+lang_from+\"-\"+lang_to\n",
    "#orig2dest_tokenizer = FSMTTokenizer.from_pretrained(orig2dest_model_name)\n",
    "#orig2dest_model = FSMTForConditionalGeneration.from_pretrained(orig2dest_model_name).to(device)\n",
    "\n",
    "#dest2orig_model_name = \"facebook/wmt19-\"+lang_to+\"-\"+lang_from\n",
    "#dest2orig_tokenizer = FSMTTokenizer.from_pretrained(dest2orig_model_name)\n",
    "#dest2orig_model = FSMTForConditionalGeneration.from_pretrained(dest2orig_model_name).to(device)\n",
    "\n",
    "\n",
    "orig2dest_model_name = \"Helsinki-NLP/opus-mt-\"+lang_from+\"-\"+lang_to\n",
    "orig2dest_tokenizer = MarianTokenizer.from_pretrained(orig2dest_model_name)\n",
    "orig2dest_model = MarianMTModel.from_pretrained(orig2dest_model_name).to(compute_device)\n",
    "\n",
    "dest2orig_model_name = \"Helsinki-NLP/opus-mt-\"+lang_to+\"-\"+lang_from\n",
    "dest2orig_tokenizer = MarianTokenizer.from_pretrained(dest2orig_model_name)\n",
    "dest2orig_model = MarianMTModel.from_pretrained(dest2orig_model_name).to(compute_device)"
   ]
  },
  {
   "cell_type": "code",
   "execution_count": 11,
   "metadata": {},
   "outputs": [],
   "source": [
    "# see: https://github.com/huggingface/transformers/issues/9994\n",
    "\n",
    "def back_translate_transformers(texts):\n",
    "    #tokenized_texts = orig2dest_tokenizer.prepare_seq2seq_batch(texts, return_tensors=\"pt\").to(compute_device)\n",
    "    tokenized_texts = orig2dest_tokenizer(texts, return_tensors=\"pt\", padding=True, truncation=True).to(compute_device)\n",
    "    back_translations = [set() for _ in range(len(texts))]\n",
    "\n",
    "    # Translate texts to German and back to English\n",
    "    generate_kwargs = {\"num_beams\": 1, \"do_sample\": True, \"num_return_sequences\": 2}\n",
    "    tokenized_de_texts = orig2dest_model.generate(tokenized_texts[\"input_ids\"], attention_mask=tokenized_texts[\"attention_mask\"], top_p=0.7, **generate_kwargs)\n",
    "    tokenized_en_texts = dest2orig_model.generate(tokenized_de_texts, top_p=0.8, **generate_kwargs)\n",
    "\n",
    "    # Decode and deduplicate back-translations and assign to original text indices\n",
    "    for i, t in enumerate(tokenized_en_texts):\n",
    "        back_translations[i // 4].add(dest2orig_tokenizer.decode(t, skip_special_tokens=True).lower())\n",
    "\n",
    "    # Remove back translations that are empty or equal to the original text\n",
    "    return [[bt for bt in s if bt and bt != t] for s, t in zip(back_translations, map(str.lower, texts))]"
   ]
  },
  {
   "cell_type": "markdown",
   "metadata": {},
   "source": [
    "Give it a try..."
   ]
  },
  {
   "cell_type": "code",
   "execution_count": 12,
   "metadata": {},
   "outputs": [
    {
     "data": {
      "text/plain": [
       "[['hallo, ihr. wie geht es ihnen heute?',\n",
       "  '- hi allerseits.',\n",
       "  'hallo, wie geht es ihnen heute?',\n",
       "  \"hallo, wie geht's euch heute?\"],\n",
       " ['der nip ist cool, was?',\n",
       "  '- ist die nlp toll?',\n",
       "  '- ist die nlp cool?',\n",
       "  '- die ntp ist toll, oder?']]"
      ]
     },
     "execution_count": 12,
     "metadata": {},
     "output_type": "execute_result"
    }
   ],
   "source": [
    "back_translate_transformers([\"Hallo zusammen! Wie geht es euch heute?\", \"NLP ist grossartig, oder?\"])"
   ]
  },
  {
   "cell_type": "markdown",
   "metadata": {},
   "source": [
    "Do the actual back translation. Following code allows for recovery in case of a crash..."
   ]
  },
  {
   "cell_type": "code",
   "execution_count": 13,
   "metadata": {},
   "outputs": [
    {
     "name": "stdout",
     "output_type": "stream",
     "text": [
      "2021-09-30 16:14:28.581990 save  9 199\n",
      "2021-09-30 16:15:27.466250 save  19 398\n",
      "2021-09-30 16:16:09.477912 save  29 598\n",
      "2021-09-30 16:16:43.926394 save  39 795\n",
      "2021-09-30 16:17:29.490674 save  49 994\n",
      "2021-09-30 16:18:11.488057 save  59 1193\n",
      "2021-09-30 16:18:56.427819 save  69 1392\n",
      "2021-09-30 16:19:32.898552 save  79 1591\n",
      "2021-09-30 16:20:17.333373 save  89 1791\n",
      "2021-09-30 16:21:08.328024 save  99 1991\n",
      "2021-09-30 16:21:52.241590 save  109 2191\n",
      "2021-09-30 16:22:36.931620 save  119 2390\n",
      "2021-09-30 16:23:21.854317 save  129 2590\n",
      "2021-09-30 16:24:10.502879 save  139 2790\n",
      "2021-09-30 16:24:53.395143 save  149 2990\n",
      "2021-09-30 16:25:46.638448 save  159 3188\n",
      "2021-09-30 16:26:25.059373 save  169 3388\n",
      "2021-09-30 16:27:10.109560 save  179 3588\n",
      "2021-09-30 16:27:55.302234 save  189 3786\n",
      "2021-09-30 16:28:36.984998 save  199 3985\n",
      "2021-09-30 16:29:26.156602 save  209 4185\n",
      "2021-09-30 16:30:25.026910 save  219 4383\n",
      "2021-09-30 16:31:11.615555 save  229 4582\n",
      "2021-09-30 16:32:01.401634 save  239 4780\n",
      "2021-09-30 16:32:47.129299 save  249 4979\n",
      "2021-09-30 16:33:30.968797 save  259 5179\n",
      "2021-09-30 16:34:20.458213 save  269 5379\n",
      "2021-09-30 16:34:59.266811 save  279 5579\n",
      "2021-09-30 16:35:54.181222 save  289 5777\n",
      "2021-09-30 16:36:47.069662 save  299 5976\n",
      "2021-09-30 16:37:26.089460 save  309 6176\n",
      "2021-09-30 16:38:03.452177 save  319 6374\n",
      "2021-09-30 16:38:40.845927 save  329 6574\n",
      "2021-09-30 16:39:18.523387 save  339 6774\n",
      "2021-09-30 16:40:05.844827 save  349 6973\n",
      "2021-09-30 16:40:50.324731 save  359 7171\n",
      "2021-09-30 16:41:28.544770 save  369 7369\n",
      "2021-09-30 16:42:05.345669 save  379 7567\n",
      "2021-09-30 16:42:50.483339 save  389 7767\n",
      "2021-09-30 16:43:36.049437 save  399 7967\n",
      "2021-09-30 16:44:14.066436 save  409 8166\n",
      "2021-09-30 16:44:58.474226 save  419 8364\n",
      "2021-09-30 16:45:47.338046 save  429 8564\n",
      "2021-09-30 16:46:28.637355 save  439 8763\n",
      "2021-09-30 16:47:20.221896 save  449 8963\n",
      "2021-09-30 16:48:03.480103 save  459 9163\n",
      "2021-09-30 16:48:46.930202 save  469 9363\n",
      "2021-09-30 16:49:27.375560 save  479 9563\n",
      "2021-09-30 16:50:08.239578 save  489 9763\n",
      "2021-09-30 16:50:53.445539 save  499 9963\n",
      "2021-09-30 16:51:38.261249 save  509 10163\n",
      "2021-09-30 16:52:17.851174 save  519 10362\n",
      "2021-09-30 16:53:01.762297 save  529 10562\n",
      "2021-09-30 16:53:44.313714 save  539 10762\n",
      "2021-09-30 16:54:24.643901 save  549 10962\n",
      "2021-09-30 16:55:14.631248 save  559 11162\n",
      "2021-09-30 16:55:57.809631 save  569 11362\n",
      "2021-09-30 16:56:37.142294 save  579 11561\n",
      "2021-09-30 16:57:21.590354 save  589 11761\n",
      "2021-09-30 16:58:08.372081 save  599 11960\n",
      "2021-09-30 16:58:52.142788 save  609 12160\n",
      "2021-09-30 16:59:39.715979 save  619 12360\n",
      "2021-09-30 17:00:43.154776 save  629 12556\n",
      "2021-09-30 17:01:24.123272 save  639 12755\n",
      "2021-09-30 17:02:06.346489 save  649 12955\n",
      "2021-09-30 17:02:47.450218 save  659 13155\n",
      "2021-09-30 17:03:29.010269 save  669 13354\n",
      "2021-09-30 17:04:14.278158 save  679 13553\n",
      "2021-09-30 17:04:57.378944 save  689 13753\n",
      "2021-09-30 17:05:34.970899 save  699 13953\n",
      "2021-09-30 17:06:17.993453 save  709 14153\n",
      "2021-09-30 17:06:56.905372 save  719 14353\n",
      "2021-09-30 17:07:40.818132 save  729 14553\n",
      "2021-09-30 17:08:29.746943 save  739 14753\n",
      "2021-09-30 17:09:17.862195 save  749 14949\n",
      "2021-09-30 17:10:10.255425 save  759 15149\n",
      "2021-09-30 17:10:46.519576 save  769 15349\n",
      "2021-09-30 17:11:29.902989 save  779 15547\n",
      "2021-09-30 17:12:09.971762 save  789 15746\n",
      "2021-09-30 17:12:53.470796 save  799 15944\n",
      "2021-09-30 17:13:35.306972 save  809 16144\n",
      "2021-09-30 17:14:24.818470 save  819 16344\n",
      "2021-09-30 17:15:04.801270 save  829 16542\n",
      "2021-09-30 17:15:49.409044 save  839 16740\n",
      "2021-09-30 17:16:38.958286 save  849 16940\n",
      "2021-09-30 17:17:27.511249 save  859 17140\n",
      "2021-09-30 17:18:08.717550 save  869 17340\n",
      "2021-09-30 17:18:54.263636 save  879 17539\n",
      "2021-09-30 17:19:42.468556 save  889 17739\n",
      "2021-09-30 17:20:28.495856 save  899 17939\n",
      "2021-09-30 17:21:15.810376 save  909 18137\n",
      "2021-09-30 17:21:57.281313 save  919 18337\n",
      "2021-09-30 17:22:42.123703 save  929 18537\n",
      "2021-09-30 17:23:29.634827 save  939 18736\n",
      "2021-09-30 17:24:17.392647 save  949 18935\n",
      "2021-09-30 17:25:03.412915 save  959 19133\n",
      "2021-09-30 17:25:49.158051 save  969 19331\n",
      "2021-09-30 17:26:30.434334 save  979 19531\n",
      "2021-09-30 17:27:19.523646 save  989 19731\n",
      "2021-09-30 17:28:09.466131 save  999 19930\n",
      "2021-09-30 17:28:53.481965 save  1009 20130\n",
      "2021-09-30 17:29:40.499899 save  1019 20330\n",
      "2021-09-30 17:30:22.840962 save  1029 20530\n",
      "2021-09-30 17:31:12.339414 save  1039 20728\n",
      "2021-09-30 17:31:50.083143 save  1049 20926\n",
      "2021-09-30 17:32:41.679267 save  1059 21125\n",
      "2021-09-30 17:33:26.121624 save  1069 21325\n",
      "2021-09-30 17:34:18.802484 save  1079 21523\n",
      "2021-09-30 17:35:07.411748 save  1089 21719\n",
      "2021-09-30 17:35:53.666394 save  1099 21915\n",
      "2021-09-30 17:36:39.504779 save  1109 22115\n",
      "2021-09-30 17:37:26.626480 save  1119 22314\n",
      "2021-09-30 17:38:11.071713 save  1129 22514\n",
      "2021-09-30 17:39:06.278890 save  1139 22711\n",
      "2021-09-30 17:39:44.091851 save  1149 22908\n",
      "2021-09-30 17:40:29.555725 save  1159 23106\n",
      "2021-09-30 17:41:13.063427 save  1169 23306\n",
      "2021-09-30 17:41:59.997912 save  1179 23506\n",
      "2021-09-30 17:42:58.385712 save  1189 23704\n",
      "2021-09-30 17:43:39.063055 save  1199 23901\n",
      "2021-09-30 17:44:24.711019 save  1209 24101\n",
      "2021-09-30 17:45:08.232825 save  1219 24299\n",
      "2021-09-30 17:45:54.132441 save  1229 24498\n",
      "2021-09-30 17:46:40.253109 save  1239 24698\n",
      "2021-09-30 17:47:28.638432 save  1249 24898\n",
      "2021-09-30 17:48:14.612946 save  1259 25097\n",
      "2021-09-30 17:48:57.215245 save  1269 25297\n",
      "2021-09-30 17:49:41.380454 save  1279 25497\n",
      "2021-09-30 17:50:22.669690 save  1289 25697\n",
      "2021-09-30 17:51:09.839996 save  1299 25897\n",
      "2021-09-30 17:51:52.143368 save  1309 26095\n",
      "2021-09-30 17:52:33.277753 save  1319 26294\n",
      "2021-09-30 17:53:17.408900 save  1329 26493\n",
      "2021-09-30 17:53:58.791320 save  1339 26693\n",
      "2021-09-30 17:54:42.091142 save  1349 26893\n",
      "2021-09-30 17:55:41.231714 save  1359 27091\n",
      "2021-09-30 17:56:33.630228 save  1369 27290\n",
      "2021-09-30 17:57:15.485547 save  1379 27490\n",
      "2021-09-30 17:57:58.003114 save  1389 27690\n",
      "2021-09-30 17:58:45.187475 save  1399 27888\n",
      "2021-09-30 17:59:30.215868 save  1409 28088\n",
      "2021-09-30 18:00:13.844177 save  1419 28288\n",
      "2021-09-30 18:00:59.926532 save  1429 28488\n",
      "2021-09-30 18:01:40.857148 save  1439 28687\n",
      "2021-09-30 18:02:31.600075 save  1449 28887\n",
      "2021-09-30 18:03:14.852185 save  1459 29087\n",
      "2021-09-30 18:04:02.570268 save  1469 29287\n",
      "2021-09-30 18:04:47.961104 save  1479 29487\n",
      "2021-09-30 18:05:41.231318 save  1489 29686\n",
      "2021-09-30 18:06:35.207328 save  1499 29885\n",
      "2021-09-30 18:07:28.827391 save  1509 30084\n",
      "2021-09-30 18:08:19.800526 save  1519 30283\n",
      "2021-09-30 18:09:03.911529 save  1529 30483\n",
      "2021-09-30 18:09:47.996589 save  1539 30681\n",
      "2021-09-30 18:10:42.132345 save  1549 30881\n",
      "2021-09-30 18:11:23.779704 save  1559 31079\n",
      "2021-09-30 18:12:08.483953 save  1569 31279\n",
      "2021-09-30 18:12:54.337477 save  1579 31476\n",
      "2021-09-30 18:13:38.949303 save  1589 31676\n",
      "2021-09-30 18:14:25.801491 save  1599 31875\n",
      "2021-09-30 18:15:12.791193 save  1609 32075\n",
      "2021-09-30 18:15:56.224871 save  1619 32273\n",
      "2021-09-30 18:16:40.685017 save  1629 32473\n",
      "2021-09-30 18:17:23.538577 save  1639 32673\n",
      "2021-09-30 18:18:15.947793 save  1649 32872\n",
      "2021-09-30 18:18:56.361165 save  1659 33072\n",
      "2021-09-30 18:19:48.545998 save  1669 33269\n",
      "2021-09-30 18:20:33.981651 save  1679 33469\n",
      "2021-09-30 18:21:32.778193 save  1689 33668\n",
      "2021-09-30 18:22:24.576875 save  1699 33867\n",
      "2021-09-30 18:23:07.737091 save  1709 34067\n",
      "2021-09-30 18:23:55.103868 save  1719 34267\n",
      "2021-09-30 18:24:43.410575 save  1729 34467\n",
      "2021-09-30 18:25:25.783124 save  1739 34667\n",
      "2021-09-30 18:26:11.634160 save  1749 34867\n",
      "2021-09-30 18:27:19.674134 save  1759 35066\n",
      "2021-09-30 18:28:04.727613 save  1769 35264\n",
      "2021-09-30 18:28:54.471807 save  1779 35463\n",
      "2021-09-30 18:29:39.490325 save  1789 35663\n",
      "2021-09-30 18:30:24.082670 save  1799 35863\n",
      "2021-09-30 18:31:13.656218 save  1809 36062\n",
      "2021-09-30 18:32:00.964311 save  1819 36262\n",
      "2021-09-30 18:32:46.732015 save  1829 36461\n",
      "2021-09-30 18:33:34.728880 save  1839 36660\n",
      "2021-09-30 18:34:20.192081 save  1849 36857\n",
      "2021-09-30 18:35:09.324868 save  1859 37057\n",
      "2021-09-30 18:35:57.624835 save  1869 37257\n",
      "2021-09-30 18:36:41.059702 save  1879 37457\n",
      "2021-09-30 18:37:28.944995 save  1889 37653\n",
      "2021-09-30 18:38:18.084981 save  1899 37853\n"
     ]
    },
    {
     "name": "stdout",
     "output_type": "stream",
     "text": [
      "2021-09-30 18:39:06.346339 save  1909 38053\n",
      "2021-09-30 18:39:57.109840 save  1919 38250\n",
      "2021-09-30 18:40:41.954329 save  1929 38449\n",
      "2021-09-30 18:41:28.670173 save  1939 38648\n",
      "2021-09-30 18:42:14.958391 save  1949 38848\n",
      "2021-09-30 18:43:09.035417 save  1959 39048\n",
      "2021-09-30 18:44:01.762429 save  1969 39245\n",
      "2021-09-30 18:44:54.184229 save  1979 39444\n",
      "2021-09-30 18:45:36.878488 save  1989 39644\n",
      "2021-09-30 18:46:15.549642 save  1999 39844\n",
      "2021-09-30 18:47:14.063875 save  2009 40043\n",
      "2021-09-30 18:47:54.741755 save  2019 40243\n",
      "2021-09-30 18:48:43.455659 save  2029 40443\n",
      "2021-09-30 18:49:34.293123 save  2039 40643\n",
      "2021-09-30 18:50:16.677172 save  2049 40842\n",
      "2021-09-30 18:50:58.932706 save  2059 41042\n",
      "2021-09-30 18:51:45.110636 save  2069 41242\n",
      "2021-09-30 18:52:31.293945 save  2079 41442\n",
      "2021-09-30 18:53:21.071741 save  2089 41642\n",
      "2021-09-30 18:54:02.232859 save  2099 41842\n",
      "2021-09-30 18:54:51.160808 save  2109 42042\n",
      "2021-09-30 18:55:25.335439 save  2119 42242\n",
      "2021-09-30 18:56:06.727222 save  2129 42439\n",
      "2021-09-30 18:56:48.111214 save  2139 42639\n",
      "2021-09-30 18:57:29.717744 save  2149 42839\n",
      "2021-09-30 18:58:11.734467 save  2159 43037\n",
      "2021-09-30 18:58:59.739341 save  2169 43237\n",
      "2021-09-30 18:59:54.970843 save  2179 43437\n",
      "2021-09-30 19:00:38.403123 save  2189 43637\n",
      "2021-09-30 19:01:21.339227 save  2199 43833\n",
      "2021-09-30 19:02:04.785902 save  2209 44033\n",
      "2021-09-30 19:02:51.074297 save  2219 44232\n",
      "2021-09-30 19:03:33.187371 save  2229 44432\n",
      "2021-09-30 19:04:27.135702 save  2239 44631\n",
      "2021-09-30 19:05:14.734074 save  2249 44831\n",
      "2021-09-30 19:05:58.282589 save  2259 45031\n",
      "2021-09-30 19:06:43.194483 save  2269 45231\n",
      "2021-09-30 19:07:35.100118 save  2279 45430\n",
      "2021-09-30 19:08:14.817741 save  2289 45627\n",
      "2021-09-30 19:08:55.660736 save  2299 45825\n",
      "2021-09-30 19:09:36.087720 save  2309 46024\n",
      "2021-09-30 19:10:16.556356 save  2319 46223\n",
      "2021-09-30 19:11:10.234394 save  2329 46422\n",
      "2021-09-30 19:11:56.299786 save  2339 46619\n",
      "2021-09-30 19:12:40.765727 save  2349 46818\n",
      "2021-09-30 19:13:28.512047 save  2359 47017\n",
      "2021-09-30 19:14:16.378696 save  2369 47216\n",
      "2021-09-30 19:15:10.032674 save  2379 47415\n",
      "2021-09-30 19:15:48.271622 save  2389 47615\n",
      "2021-09-30 19:16:26.305365 save  2399 47814\n",
      "2021-09-30 19:17:13.297848 save  2409 48014\n",
      "2021-09-30 19:17:51.312459 save  2419 48213\n",
      "2021-09-30 19:18:35.671795 save  2429 48412\n",
      "2021-09-30 19:19:18.556777 save  2439 48611\n",
      "2021-09-30 19:20:01.526010 save  2449 48811\n",
      "2021-09-30 19:20:45.393179 save  2459 49011\n",
      "2021-09-30 19:21:30.436292 save  2469 49211\n",
      "2021-09-30 19:22:10.797813 save  2479 49411\n",
      "2021-09-30 19:22:59.819888 save  2489 49606\n",
      "2021-09-30 19:23:35.445229 save  2499 49806\n",
      "2021-09-30 19:24:24.802900 save  2509 50006\n",
      "2021-09-30 19:25:10.828685 save  2519 50206\n",
      "2021-09-30 19:25:56.515826 save  2529 50406\n",
      "2021-09-30 19:26:42.248529 save  2539 50606\n",
      "2021-09-30 19:27:23.962521 save  2549 50806\n",
      "2021-09-30 19:28:05.481936 save  2559 51005\n",
      "2021-09-30 19:29:01.716594 save  2569 51205\n",
      "2021-09-30 19:29:39.087772 save  2579 51405\n",
      "2021-09-30 19:30:24.252656 save  2589 51605\n",
      "2021-09-30 19:31:05.872532 save  2599 51805\n",
      "2021-09-30 19:31:51.045734 save  2609 52004\n",
      "2021-09-30 19:32:37.280063 save  2619 52203\n",
      "2021-09-30 19:33:19.509124 save  2629 52403\n",
      "2021-09-30 19:33:56.453246 save  2639 52603\n",
      "2021-09-30 19:34:33.860249 save  2649 52802\n",
      "2021-09-30 19:35:13.809844 save  2659 53002\n",
      "2021-09-30 19:35:59.462637 save  2669 53202\n",
      "2021-09-30 19:36:39.534412 save  2679 53401\n",
      "2021-09-30 19:37:28.232510 save  2689 53601\n",
      "2021-09-30 19:38:13.820242 save  2699 53801\n",
      "2021-09-30 19:38:56.801556 save  2709 54001\n",
      "2021-09-30 19:39:42.573354 save  2719 54201\n",
      "2021-09-30 19:40:23.195072 save  2729 54399\n",
      "2021-09-30 19:41:10.349855 save  2739 54598\n",
      "2021-09-30 19:41:50.925287 save  2749 54797\n",
      "2021-09-30 19:42:37.029445 save  2759 54996\n",
      "2021-09-30 19:43:11.788330 save  2769 55195\n",
      "2021-09-30 19:44:07.502147 save  2779 55394\n",
      "2021-09-30 19:44:47.178568 save  2789 55594\n",
      "2021-09-30 19:45:36.509676 save  2799 55794\n",
      "2021-09-30 19:46:21.201699 save  2809 55994\n",
      "2021-09-30 19:47:02.992271 save  2819 56193\n",
      "2021-09-30 19:47:40.496520 save  2829 56393\n",
      "2021-09-30 19:48:24.761074 save  2839 56593\n",
      "2021-09-30 19:49:10.805844 save  2849 56792\n",
      "2021-09-30 19:49:46.245906 save  2859 56992\n",
      "2021-09-30 19:50:30.266444 save  2869 57192\n",
      "2021-09-30 19:51:15.794648 save  2879 57392\n",
      "2021-09-30 19:52:00.630822 save  2889 57592\n",
      "2021-09-30 19:52:50.434646 save  2899 57792\n",
      "2021-09-30 19:53:33.615852 save  2909 57992\n",
      "2021-09-30 19:54:16.226194 save  2919 58191\n",
      "2021-09-30 19:54:58.862091 save  2929 58390\n",
      "2021-09-30 19:55:41.152510 save  2939 58590\n",
      "2021-09-30 19:56:25.687616 save  2949 58788\n",
      "2021-09-30 19:57:02.396359 save  2959 58988\n",
      "2021-09-30 19:57:40.233652 save  2969 59187\n",
      "2021-09-30 19:58:17.679610 save  2979 59387\n",
      "2021-09-30 19:58:58.509992 save  2989 59587\n",
      "2021-09-30 19:59:35.673680 save  2999 59787\n",
      "2021-09-30 20:00:18.438442 save  3009 59987\n",
      "2021-09-30 20:00:53.895461 save  3019 60187\n",
      "2021-09-30 20:01:34.141888 save  3029 60386\n",
      "2021-09-30 20:02:20.620404 save  3039 60586\n",
      "2021-09-30 20:03:10.924435 save  3049 60784\n",
      "2021-09-30 20:04:01.857995 save  3059 60984\n",
      "2021-09-30 20:04:48.238060 save  3069 61184\n",
      "2021-09-30 20:05:34.123463 save  3079 61383\n",
      "2021-09-30 20:06:20.264237 save  3089 61583\n",
      "2021-09-30 20:07:07.731407 save  3099 61782\n",
      "2021-09-30 20:07:56.162305 save  3109 61982\n",
      "2021-09-30 20:08:34.808081 save  3119 62179\n",
      "2021-09-30 20:09:19.425433 save  3129 62377\n",
      "2021-09-30 20:10:03.120239 save  3139 62576\n",
      "2021-09-30 20:10:47.210305 save  3149 62774\n",
      "2021-09-30 20:11:35.262683 save  3159 62974\n",
      "2021-09-30 20:12:16.637807 save  3169 63171\n",
      "2021-09-30 20:12:58.928392 save  3179 63371\n",
      "2021-09-30 20:13:46.299857 save  3189 63571\n",
      "2021-09-30 20:14:27.494718 save  3199 63771\n",
      "2021-09-30 20:15:09.677024 save  3209 63971\n",
      "2021-09-30 20:15:52.977301 save  3219 64171\n",
      "2021-09-30 20:16:44.212484 save  3229 64370\n",
      "2021-09-30 20:17:28.479487 save  3239 64568\n",
      "2021-09-30 20:18:10.058070 save  3249 64768\n",
      "2021-09-30 20:18:52.736361 save  3259 64968\n",
      "2021-09-30 20:19:35.106318 save  3269 65168\n",
      "2021-09-30 20:20:19.521415 save  3279 65367\n",
      "2021-09-30 20:21:03.696073 save  3289 65565\n",
      "2021-09-30 20:21:46.209673 save  3299 65765\n",
      "2021-09-30 20:22:34.349798 save  3309 65964\n",
      "2021-09-30 20:23:19.808512 save  3319 66164\n",
      "2021-09-30 20:24:05.883892 save  3329 66364\n",
      "2021-09-30 20:24:52.672949 save  3339 66561\n",
      "2021-09-30 20:25:37.426161 save  3349 66760\n",
      "2021-09-30 20:26:26.896813 save  3359 66960\n",
      "2021-09-30 20:27:10.805603 save  3369 67160\n",
      "2021-09-30 20:27:57.459127 save  3379 67359\n",
      "2021-09-30 20:28:38.259420 save  3389 67558\n",
      "2021-09-30 20:29:26.531867 save  3399 67758\n",
      "2021-09-30 20:30:11.245621 save  3409 67958\n",
      "2021-09-30 20:30:52.697071 save  3419 68158\n",
      "2021-09-30 20:31:35.889934 save  3429 68357\n",
      "2021-09-30 20:32:09.042776 save  3439 68555\n",
      "2021-09-30 20:32:53.523413 save  3449 68755\n",
      "2021-09-30 20:33:37.292204 save  3459 68954\n",
      "2021-09-30 20:34:12.548725 save  3469 69154\n",
      "2021-09-30 20:34:55.002053 save  3479 69353\n",
      "2021-09-30 20:35:42.732359 save  3489 69552\n",
      "2021-09-30 20:36:25.326296 save  3499 69751\n",
      "2021-09-30 20:37:02.099829 save  3509 69951\n",
      "2021-09-30 20:37:49.722551 save  3519 70151\n",
      "2021-09-30 20:38:39.655833 save  3529 70350\n",
      "2021-09-30 20:39:24.757393 save  3539 70550\n",
      "2021-09-30 20:40:03.837293 save  3549 70749\n",
      "2021-09-30 20:40:42.589304 save  3559 70949\n",
      "2021-09-30 20:41:29.971267 save  3569 71148\n",
      "2021-09-30 20:42:13.831990 save  3579 71348\n",
      "2021-09-30 20:43:01.842368 save  3589 71548\n",
      "2021-09-30 20:43:43.675862 save  3599 71745\n",
      "2021-09-30 20:44:30.458886 save  3609 71944\n",
      "2021-09-30 20:45:11.263534 save  3619 72144\n",
      "2021-09-30 20:45:49.973938 save  3629 72344\n",
      "2021-09-30 20:46:31.597692 save  3639 72543\n",
      "2021-09-30 20:47:12.049735 save  3649 72741\n",
      "2021-09-30 20:48:00.058748 save  3659 72941\n",
      "2021-09-30 20:48:42.228085 save  3669 73141\n",
      "2021-09-30 20:49:30.841197 save  3679 73341\n",
      "2021-09-30 20:50:14.771562 save  3689 73540\n",
      "2021-09-30 20:50:55.740710 save  3699 73739\n",
      "2021-09-30 20:51:34.317184 save  3709 73939\n",
      "2021-09-30 20:52:17.568704 save  3719 74138\n",
      "2021-09-30 20:53:03.519568 save  3729 74338\n",
      "2021-09-30 20:53:43.122404 save  3739 74535\n",
      "2021-09-30 20:54:30.858480 save  3749 74734\n",
      "2021-09-30 20:55:10.531705 save  3759 74933\n",
      "2021-09-30 20:55:44.637624 save  3769 75133\n"
     ]
    },
    {
     "name": "stdout",
     "output_type": "stream",
     "text": [
      "2021-09-30 20:56:24.851881 save  3779 75333\n",
      "2021-09-30 20:57:09.037428 save  3789 75532\n",
      "2021-09-30 20:57:43.227928 save  3799 75729\n",
      "2021-09-30 20:58:24.623654 save  3809 75927\n",
      "2021-09-30 20:59:02.765248 save  3819 76126\n",
      "2021-09-30 20:59:46.589289 save  3829 76326\n",
      "2021-09-30 21:00:37.486070 save  3839 76526\n",
      "2021-09-30 21:01:14.095785 save  3849 76725\n",
      "2021-09-30 21:02:01.980156 save  3859 76924\n",
      "2021-09-30 21:02:39.746068 save  3869 77124\n",
      "2021-09-30 21:03:21.514918 save  3879 77324\n",
      "2021-09-30 21:04:03.151929 save  3889 77524\n",
      "2021-09-30 21:04:50.331329 save  3899 77721\n",
      "2021-09-30 21:05:23.015141 save  3909 77921\n",
      "2021-09-30 21:05:57.540023 save  3919 78120\n",
      "2021-09-30 21:06:39.737192 save  3929 78320\n",
      "2021-09-30 21:07:21.753547 save  3939 78520\n",
      "2021-09-30 21:08:09.140478 save  3949 78720\n",
      "2021-09-30 21:08:54.659712 save  3959 78920\n",
      "2021-09-30 21:09:36.719817 save  3969 79120\n",
      "2021-09-30 21:10:23.147968 save  3979 79320\n",
      "2021-09-30 21:11:08.736805 save  3989 79520\n",
      "2021-09-30 21:11:50.835074 save  3999 79720\n",
      "2021-09-30 21:12:40.394483 save  4009 79919\n",
      "2021-09-30 21:13:22.699046 save  4019 80117\n",
      "2021-09-30 21:14:03.350790 save  4029 80317\n",
      "2021-09-30 21:14:43.442543 save  4039 80516\n",
      "2021-09-30 21:15:25.439650 save  4049 80716\n",
      "2021-09-30 21:16:09.590015 save  4059 80914\n",
      "2021-09-30 21:17:00.606013 save  4069 81112\n",
      "2021-09-30 21:17:44.969309 save  4079 81311\n",
      "2021-09-30 21:18:25.826890 save  4089 81511\n",
      "2021-09-30 21:18:59.973283 save  4099 81709\n",
      "2021-09-30 21:19:50.452870 save  4109 81909\n",
      "2021-09-30 21:20:31.253735 save  4119 82106\n",
      "2021-09-30 21:21:23.942516 save  4129 82305\n",
      "2021-09-30 21:22:01.144231 save  4139 82505\n",
      "2021-09-30 21:22:57.470176 save  4149 82704\n",
      "2021-09-30 21:23:38.069507 save  4159 82904\n",
      "2021-09-30 21:24:20.307800 save  4169 83104\n",
      "2021-09-30 21:25:03.661365 save  4179 83303\n",
      "2021-09-30 21:25:45.511330 save  4189 83503\n",
      "2021-09-30 21:26:28.863666 save  4199 83703\n",
      "2021-09-30 21:27:03.395406 save  4209 83903\n",
      "2021-09-30 21:27:49.048586 save  4219 84102\n",
      "2021-09-30 21:28:32.902882 save  4229 84302\n",
      "2021-09-30 21:29:14.244659 save  4239 84502\n",
      "2021-09-30 21:29:54.842769 save  4249 84702\n",
      "2021-09-30 21:30:37.329137 save  4259 84902\n",
      "2021-09-30 21:31:17.275659 save  4269 85097\n",
      "2021-09-30 21:31:52.707074 save  4279 85295\n",
      "2021-09-30 21:32:31.373593 save  4289 85495\n",
      "2021-09-30 21:33:12.096406 save  4299 85695\n",
      "2021-09-30 21:33:48.497164 save  4309 85894\n",
      "2021-09-30 21:34:29.521775 save  4319 86093\n",
      "2021-09-30 21:35:18.393704 save  4329 86292\n",
      "2021-09-30 21:35:59.443590 save  4339 86492\n",
      "2021-09-30 21:36:40.159505 save  4349 86692\n",
      "2021-09-30 21:37:26.756232 save  4359 86892\n",
      "2021-09-30 21:38:03.096596 save  4369 87092\n",
      "2021-09-30 21:38:58.851094 save  4379 87292\n",
      "2021-09-30 21:39:43.118724 save  4389 87492\n",
      "2021-09-30 21:40:26.519297 save  4399 87692\n",
      "2021-09-30 21:41:15.273984 save  4409 87888\n",
      "2021-09-30 21:41:58.185163 save  4419 88088\n",
      "2021-09-30 21:42:39.679811 save  4429 88288\n",
      "2021-09-30 21:43:31.673930 save  4439 88488\n",
      "2021-09-30 21:44:19.817482 save  4449 88688\n",
      "2021-09-30 21:45:08.746530 save  4459 88888\n",
      "2021-09-30 21:45:50.135097 save  4469 89087\n",
      "2021-09-30 21:46:33.234419 save  4479 89285\n",
      "2021-09-30 21:47:18.194651 save  4489 89485\n",
      "2021-09-30 21:47:58.612705 save  4499 89685\n",
      "2021-09-30 21:48:44.687274 save  4509 89885\n",
      "2021-09-30 21:49:23.485761 save  4519 90085\n",
      "2021-09-30 21:50:11.671777 save  4529 90285\n",
      "2021-09-30 21:51:01.309037 save  4539 90485\n",
      "2021-09-30 21:51:42.493025 save  4549 90684\n",
      "2021-09-30 21:52:29.814000 save  4559 90884\n",
      "2021-09-30 21:53:16.223684 save  4569 91084\n",
      "2021-09-30 21:53:54.041262 save  4579 91284\n",
      "2021-09-30 21:54:34.038571 save  4589 91484\n",
      "2021-09-30 21:55:17.023583 save  4599 91684\n",
      "2021-09-30 21:56:07.230584 save  4609 91883\n",
      "2021-09-30 21:56:44.689675 save  4619 92082\n",
      "2021-09-30 21:57:17.959274 save  4629 92282\n",
      "2021-09-30 21:58:03.777351 save  4639 92482\n",
      "2021-09-30 21:58:50.729114 save  4649 92681\n",
      "2021-09-30 21:59:31.086406 save  4659 92881\n",
      "2021-09-30 22:00:10.928474 save  4669 93080\n",
      "2021-09-30 22:00:57.003024 save  4679 93280\n",
      "2021-09-30 22:01:45.494838 save  4689 93479\n",
      "2021-09-30 22:02:28.805576 save  4699 93679\n",
      "2021-09-30 22:03:20.693636 save  4709 93878\n",
      "2021-09-30 22:03:59.028188 save  4719 94077\n",
      "2021-09-30 22:04:38.373456 save  4729 94276\n",
      "2021-09-30 22:05:23.102848 save  4739 94476\n",
      "2021-09-30 22:06:07.654172 save  4749 94675\n",
      "2021-09-30 22:06:50.874470 save  4759 94875\n",
      "2021-09-30 22:07:38.556844 save  4769 95075\n",
      "2021-09-30 22:08:23.697521 save  4779 95272\n",
      "2021-09-30 22:09:14.707178 save  4789 95472\n",
      "2021-09-30 22:10:00.724345 save  4799 95671\n",
      "2021-09-30 22:10:38.195739 save  4809 95870\n",
      "2021-09-30 22:11:27.149248 save  4819 96070\n",
      "2021-09-30 22:12:07.095678 save  4829 96270\n",
      "2021-09-30 22:12:44.552357 save  4839 96468\n",
      "2021-09-30 22:13:27.758802 save  4849 96668\n",
      "2021-09-30 22:14:17.339511 save  4859 96868\n",
      "2021-09-30 22:14:51.379788 save  4869 97068\n",
      "2021-09-30 22:15:35.239393 save  4879 97268\n",
      "2021-09-30 22:16:08.182373 save  4889 97465\n",
      "2021-09-30 22:16:46.674863 save  4899 97664\n",
      "2021-09-30 22:17:30.737420 save  4909 97864\n",
      "2021-09-30 22:18:12.553856 save  4919 98064\n",
      "2021-09-30 22:18:49.878004 save  4929 98263\n",
      "2021-09-30 22:19:43.667348 save  4939 98463\n",
      "2021-09-30 22:20:28.220360 save  4949 98661\n",
      "2021-09-30 22:21:05.417791 save  4959 98861\n",
      "2021-09-30 22:21:46.271365 save  4969 99061\n",
      "2021-09-30 22:22:36.396980 save  4979 99261\n",
      "2021-09-30 22:23:20.410306 save  4989 99461\n",
      "2021-09-30 22:24:00.008763 save  4999 99661\n",
      "2021-09-30 22:24:59.020116 save  5009 99859\n",
      "2021-09-30 22:25:42.271037 save  5019 100059\n",
      "2021-09-30 22:26:20.973311 save  5029 100258\n",
      "2021-09-30 22:27:04.332958 save  5039 100457\n",
      "2021-09-30 22:27:52.021813 save  5049 100656\n",
      "2021-09-30 22:28:32.143168 save  5059 100855\n",
      "2021-09-30 22:29:13.800077 save  5069 101055\n",
      "2021-09-30 22:30:01.379130 save  5079 101254\n",
      "2021-09-30 22:30:44.713336 save  5089 101454\n",
      "2021-09-30 22:31:24.592678 save  5099 101654\n",
      "2021-09-30 22:32:15.000250 save  5109 101853\n",
      "2021-09-30 22:32:58.304962 save  5119 102052\n",
      "2021-09-30 22:33:40.372656 save  5129 102252\n",
      "2021-09-30 22:34:24.306174 save  5139 102450\n",
      "2021-09-30 22:35:10.739731 save  5149 102649\n",
      "2021-09-30 22:35:54.795645 save  5159 102849\n",
      "2021-09-30 22:36:35.215525 save  5169 103049\n",
      "2021-09-30 22:37:20.387680 save  5179 103248\n",
      "2021-09-30 22:38:09.013142 save  5189 103447\n",
      "2021-09-30 22:38:54.645646 save  5199 103646\n",
      "2021-09-30 22:39:40.621000 save  5209 103846\n",
      "2021-09-30 22:40:15.072682 save  5219 104045\n",
      "2021-09-30 22:41:03.680751 save  5229 104245\n",
      "2021-09-30 22:41:50.884226 save  5239 104444\n",
      "2021-09-30 22:42:52.955337 save  5249 104641\n",
      "2021-09-30 22:43:39.495534 save  5259 104840\n",
      "2021-09-30 22:44:18.415041 save  5269 105040\n",
      "2021-09-30 22:45:09.706791 save  5279 105240\n",
      "2021-09-30 22:45:55.849529 save  5289 105440\n",
      "2021-09-30 22:46:37.226159 save  5299 105639\n",
      "2021-09-30 22:47:22.068575 save  5309 105839\n",
      "2021-09-30 22:48:04.762890 save  5319 106039\n",
      "2021-09-30 22:48:49.528494 save  5329 106238\n",
      "2021-09-30 22:49:34.012539 save  5339 106435\n",
      "2021-09-30 22:50:14.864568 save  5349 106635\n",
      "2021-09-30 22:51:04.848233 save  5359 106835\n",
      "2021-09-30 22:52:01.263336 save  5369 107034\n",
      "2021-09-30 22:52:47.832649 save  5379 107233\n",
      "2021-09-30 22:53:28.994935 save  5389 107433\n",
      "2021-09-30 22:54:11.868693 save  5399 107633\n",
      "2021-09-30 22:54:54.460336 save  5409 107832\n",
      "2021-09-30 22:55:35.766057 save  5419 108032\n",
      "2021-09-30 22:56:12.095260 save  5429 108232\n",
      "2021-09-30 22:56:57.955891 save  5439 108431\n",
      "2021-09-30 22:57:36.925669 save  5449 108631\n",
      "2021-09-30 22:58:23.999237 save  5459 108831\n",
      "2021-09-30 22:59:00.088813 save  5469 109030\n",
      "2021-09-30 22:59:44.586959 save  5479 109230\n",
      "2021-09-30 23:00:30.922729 save  5489 109430\n",
      "2021-09-30 23:01:18.153761 save  5499 109626\n",
      "2021-09-30 23:02:09.897042 save  5509 109824\n",
      "2021-09-30 23:02:58.259010 save  5519 110023\n",
      "2021-09-30 23:03:34.863662 save  5529 110223\n",
      "2021-09-30 23:04:23.838141 save  5539 110420\n",
      "2021-09-30 23:05:11.969432 save  5549 110619\n",
      "2021-09-30 23:05:59.015610 save  5559 110819\n",
      "2021-09-30 23:07:00.537668 save  5569 111016\n",
      "2021-09-30 23:07:46.453342 save  5579 111216\n",
      "2021-09-30 23:08:42.884664 save  5589 111414\n",
      "2021-09-30 23:09:33.238162 save  5599 111614\n",
      "2021-09-30 23:10:19.264170 save  5609 111814\n",
      "2021-09-30 23:11:04.340913 save  5619 112013\n"
     ]
    },
    {
     "name": "stdout",
     "output_type": "stream",
     "text": [
      "2021-09-30 23:11:45.126091 save  5629 112213\n",
      "2021-09-30 23:12:34.985776 save  5639 112412\n",
      "2021-09-30 23:13:20.037377 save  5649 112612\n",
      "2021-09-30 23:14:03.288232 save  5659 112812\n",
      "2021-09-30 23:14:45.681058 save  5669 113012\n",
      "2021-09-30 23:15:37.469963 save  5679 113212\n",
      "2021-09-30 23:16:37.050771 save  5689 113411\n",
      "2021-09-30 23:17:11.315244 save  5699 113608\n",
      "2021-09-30 23:17:52.832229 save  5709 113808\n",
      "2021-09-30 23:18:41.298598 save  5719 114004\n",
      "2021-09-30 23:19:27.865085 save  5729 114204\n",
      "2021-09-30 23:20:21.590696 save  5739 114404\n",
      "2021-09-30 23:21:21.007563 save  5749 114603\n",
      "2021-09-30 23:22:04.696356 save  5759 114803\n",
      "2021-09-30 23:22:51.526262 save  5769 115002\n",
      "2021-09-30 23:23:37.535647 save  5779 115202\n",
      "2021-09-30 23:24:27.508904 save  5789 115399\n",
      "2021-09-30 23:25:15.037610 save  5799 115599\n",
      "2021-09-30 23:26:01.409787 save  5809 115799\n",
      "2021-09-30 23:26:41.011530 save  5819 115998\n",
      "2021-09-30 23:27:29.521209 save  5829 116198\n",
      "2021-09-30 23:28:22.947242 save  5839 116398\n",
      "2021-09-30 23:29:13.597585 save  5849 116598\n",
      "2021-09-30 23:30:07.481649 save  5859 116797\n",
      "2021-09-30 23:30:55.483357 save  5869 116996\n",
      "2021-09-30 23:31:39.605335 save  5879 117196\n",
      "2021-09-30 23:32:27.121081 save  5889 117395\n",
      "2021-09-30 23:33:12.999264 save  5899 117595\n",
      "2021-09-30 23:33:53.665407 save  5909 117794\n",
      "2021-09-30 23:34:32.688584 save  5919 117993\n",
      "2021-09-30 23:35:21.452260 save  5929 118193\n",
      "2021-09-30 23:36:03.941563 save  5939 118393\n",
      "2021-09-30 23:36:55.542776 save  5949 118592\n",
      "2021-09-30 23:37:44.169447 save  5959 118792\n",
      "2021-09-30 23:38:24.966805 save  5969 118992\n",
      "2021-09-30 23:39:19.302917 save  5979 119192\n",
      "2021-09-30 23:40:11.944900 save  5989 119390\n",
      "2021-09-30 23:41:10.833854 save  5999 119588\n",
      "2021-09-30 23:41:56.245423 save  6009 119784\n",
      "2021-09-30 23:42:42.296017 save  6019 119984\n",
      "2021-09-30 23:43:32.159472 save  6029 120182\n",
      "2021-09-30 23:44:29.358864 save  6039 120381\n",
      "2021-09-30 23:45:16.798450 save  6049 120579\n",
      "2021-09-30 23:46:03.602304 save  6059 120779\n",
      "2021-09-30 23:46:44.826971 save  6069 120979\n",
      "2021-09-30 23:47:28.915070 save  6079 121177\n",
      "2021-09-30 23:48:15.863971 save  6089 121377\n",
      "2021-09-30 23:48:59.606730 save  6099 121574\n",
      "2021-09-30 23:49:45.976625 save  6109 121774\n",
      "2021-09-30 23:50:34.323399 save  6119 121973\n",
      "2021-09-30 23:51:21.405960 save  6129 122173\n",
      "2021-09-30 23:52:09.441070 save  6139 122373\n",
      "2021-09-30 23:53:06.844372 save  6149 122570\n",
      "2021-09-30 23:53:50.383546 save  6159 122768\n",
      "2021-09-30 23:54:37.400534 save  6169 122967\n",
      "2021-09-30 23:55:20.075286 save  6179 123167\n",
      "2021-09-30 23:56:03.308257 save  6189 123366\n",
      "2021-09-30 23:56:48.447070 save  6199 123566\n",
      "2021-09-30 23:57:30.022341 save  6209 123766\n",
      "2021-09-30 23:58:09.114910 save  6219 123965\n",
      "2021-09-30 23:58:56.384641 save  6229 124165\n",
      "2021-09-30 23:59:39.738419 save  6239 124365\n",
      "2021-10-01 00:00:22.927866 save  6249 124563\n",
      "2021-10-01 00:01:08.116032 save  6259 124763\n",
      "2021-10-01 00:01:56.958055 save  6269 124961\n",
      "2021-10-01 00:02:45.244837 save  6279 125161\n",
      "2021-10-01 00:03:33.871972 save  6289 125361\n",
      "2021-10-01 00:04:14.131516 save  6299 125560\n",
      "2021-10-01 00:05:01.018531 save  6309 125759\n",
      "2021-10-01 00:06:01.915347 save  6319 125958\n",
      "2021-10-01 00:06:49.286109 save  6329 126157\n",
      "2021-10-01 00:07:35.784289 save  6339 126357\n",
      "2021-10-01 00:08:33.522858 save  6349 126556\n",
      "2021-10-01 00:09:21.922236 save  6359 126755\n",
      "2021-10-01 00:10:10.867973 save  6369 126955\n",
      "2021-10-01 00:10:46.947504 save  6379 127154\n",
      "2021-10-01 00:11:29.527727 save  6389 127354\n",
      "2021-10-01 00:12:15.067375 save  6399 127554\n",
      "2021-10-01 00:12:50.278551 save  6409 127754\n",
      "2021-10-01 00:13:30.310158 save  6419 127954\n",
      "2021-10-01 00:14:24.367174 save  6429 128152\n",
      "2021-10-01 00:15:09.971244 save  6439 128352\n",
      "2021-10-01 00:15:57.201735 save  6449 128552\n",
      "2021-10-01 00:16:40.930030 save  6459 128752\n",
      "2021-10-01 00:17:25.665605 save  6469 128951\n",
      "2021-10-01 00:18:17.400590 save  6479 129147\n",
      "2021-10-01 00:18:55.907162 save  6489 129347\n",
      "2021-10-01 00:19:35.024728 save  6499 129547\n",
      "2021-10-01 00:20:23.107686 save  6509 129747\n",
      "2021-10-01 00:21:10.743259 save  6519 129946\n",
      "2021-10-01 00:22:00.158131 save  6529 130144\n",
      "2021-10-01 00:22:46.674762 save  6539 130343\n",
      "2021-10-01 00:23:26.914396 save  6549 130543\n",
      "2021-10-01 00:24:12.947192 save  6559 130743\n",
      "2021-10-01 00:24:58.104280 save  6569 130943\n",
      "2021-10-01 00:25:48.347196 save  6579 131141\n",
      "2021-10-01 00:26:35.532971 save  6589 131341\n",
      "2021-10-01 00:27:18.912618 save  6599 131541\n",
      "CPU times: user 1d 21h 33min 45s, sys: 1min 50s, total: 1d 21h 35min 36s\n",
      "Wall time: 8h 14min 19s\n"
     ]
    }
   ],
   "source": [
    "%%time\n",
    "\n",
    "batch_size = 5\n",
    "save_every_n_elements = 50\n",
    "translations = []\n",
    "last_stored = -1 #8409\n",
    "\n",
    "# set to the last stored index for recovery\n",
    "if last_stored >= 0:\n",
    "    data_trans = load_dataframe(\"data/german_doctor_reviews_augmented_tmp.parq\")\n",
    "    translations = [row.to_dict() for index, row in data_trans.iterrows()]\n",
    "    print(\"Loaded\", len(translations))\n",
    "\n",
    "for g, df in data_augm.groupby(np.arange(len(data_augm)) // batch_size):\n",
    "    if g > last_stored:\n",
    "        gpu_empty_cache()\n",
    "        back_trans = back_translate_transformers(df[\"text_original\"].to_list())\n",
    "    \n",
    "        i = 0\n",
    "        for index, row in df.iterrows():\n",
    "            \n",
    "            for trans in back_trans[i]:\n",
    "                row_dict = row.to_dict()\n",
    "                row_dict[\"text\"] = trans\n",
    "                translations.append(row_dict)\n",
    "           \n",
    "            i += 1\n",
    "    \n",
    "        if (g + 1) % (save_every_n_elements // batch_size) == 0:\n",
    "            print(datetime.now(), \"save \", g, len(translations))\n",
    "        \n",
    "            save_dataframe(pd.DataFrame(translations), \"data/german_doctor_reviews_augmented_tmp.parq\")\n",
    "            \n",
    "    else:\n",
    "        print(\"Skip\", g)\n",
    "              \n",
    "    \n",
    "save_dataframe(pd.DataFrame(translations), \"data/german_doctor_reviews_augmented_tmp.parq\")"
   ]
  },
  {
   "cell_type": "code",
   "execution_count": 14,
   "metadata": {},
   "outputs": [],
   "source": [
    "save_data = pd.DataFrame(translations)"
   ]
  },
  {
   "cell_type": "code",
   "execution_count": 15,
   "metadata": {},
   "outputs": [
    {
     "data": {
      "text/html": [
       "<div>\n",
       "<style scoped>\n",
       "    .dataframe tbody tr th:only-of-type {\n",
       "        vertical-align: middle;\n",
       "    }\n",
       "\n",
       "    .dataframe tbody tr th {\n",
       "        vertical-align: top;\n",
       "    }\n",
       "\n",
       "    .dataframe thead th {\n",
       "        text-align: right;\n",
       "    }\n",
       "</style>\n",
       "<table border=\"1\" class=\"dataframe\">\n",
       "  <thead>\n",
       "    <tr style=\"text-align: right;\">\n",
       "      <th></th>\n",
       "      <th>text_original</th>\n",
       "      <th>rating</th>\n",
       "      <th>text</th>\n",
       "      <th>label</th>\n",
       "      <th>sentiment</th>\n",
       "    </tr>\n",
       "  </thead>\n",
       "  <tbody>\n",
       "    <tr>\n",
       "      <th>0</th>\n",
       "      <td>Dieser Arzt ist das unmöglichste was mir in me...</td>\n",
       "      <td>6.0</td>\n",
       "      <td>dieser arzt ist das unmöglichste, das ich je i...</td>\n",
       "      <td>negative</td>\n",
       "      <td>-1</td>\n",
       "    </tr>\n",
       "    <tr>\n",
       "      <th>1</th>\n",
       "      <td>Dieser Arzt ist das unmöglichste was mir in me...</td>\n",
       "      <td>6.0</td>\n",
       "      <td>dieser arzt ist das unmöglichste, was ich jema...</td>\n",
       "      <td>negative</td>\n",
       "      <td>-1</td>\n",
       "    </tr>\n",
       "    <tr>\n",
       "      <th>2</th>\n",
       "      <td>Dieser Arzt ist das unmöglichste was mir in me...</td>\n",
       "      <td>6.0</td>\n",
       "      <td>dieser arzt ist am wenigsten unmöglich in mein...</td>\n",
       "      <td>negative</td>\n",
       "      <td>-1</td>\n",
       "    </tr>\n",
       "  </tbody>\n",
       "</table>\n",
       "</div>"
      ],
      "text/plain": [
       "                                       text_original  rating  \\\n",
       "0  Dieser Arzt ist das unmöglichste was mir in me...     6.0   \n",
       "1  Dieser Arzt ist das unmöglichste was mir in me...     6.0   \n",
       "2  Dieser Arzt ist das unmöglichste was mir in me...     6.0   \n",
       "\n",
       "                                                text     label  sentiment  \n",
       "0  dieser arzt ist das unmöglichste, das ich je i...  negative         -1  \n",
       "1  dieser arzt ist das unmöglichste, was ich jema...  negative         -1  \n",
       "2  dieser arzt ist am wenigsten unmöglich in mein...  negative         -1  "
      ]
     },
     "execution_count": 15,
     "metadata": {},
     "output_type": "execute_result"
    }
   ],
   "source": [
    "save_data.head(3)"
   ]
  },
  {
   "cell_type": "code",
   "execution_count": 16,
   "metadata": {},
   "outputs": [],
   "source": [
    "save_dataframe(save_data, \"data/german_doctor_reviews_augmented_translated_\"+lang_to+\".parq\")"
   ]
  },
  {
   "cell_type": "code",
   "execution_count": null,
   "metadata": {},
   "outputs": [],
   "source": []
  },
  {
   "cell_type": "markdown",
   "metadata": {},
   "source": [
    "Load all the back translated text and perform normalization of the augmented data."
   ]
  },
  {
   "cell_type": "code",
   "execution_count": 17,
   "metadata": {},
   "outputs": [
    {
     "name": "stdout",
     "output_type": "stream",
     "text": [
      "['data/german_doctor_reviews_augmented_translated_es.parq']\n"
     ]
    }
   ],
   "source": [
    "import glob\n",
    "files = glob.glob(\"data/german_doctor_reviews*augmented_trans*_[a-z][a-z].parq\")\n",
    "print(files)\n",
    "\n",
    "dataframes = []\n",
    "for file in files:\n",
    "    data_aug = load_dataframe(file)\n",
    "    dataframes.append(data_aug)\n",
    "    \n",
    "data_aug = pd.concat(dataframes)"
   ]
  },
  {
   "cell_type": "code",
   "execution_count": 18,
   "metadata": {},
   "outputs": [
    {
     "data": {
      "text/plain": [
       "(131629, 5)"
      ]
     },
     "execution_count": 18,
     "metadata": {},
     "output_type": "execute_result"
    }
   ],
   "source": [
    "data_aug.shape"
   ]
  },
  {
   "cell_type": "code",
   "execution_count": 19,
   "metadata": {},
   "outputs": [
    {
     "data": {
      "text/html": [
       "<div>\n",
       "<style scoped>\n",
       "    .dataframe tbody tr th:only-of-type {\n",
       "        vertical-align: middle;\n",
       "    }\n",
       "\n",
       "    .dataframe tbody tr th {\n",
       "        vertical-align: top;\n",
       "    }\n",
       "\n",
       "    .dataframe thead th {\n",
       "        text-align: right;\n",
       "    }\n",
       "</style>\n",
       "<table border=\"1\" class=\"dataframe\">\n",
       "  <thead>\n",
       "    <tr style=\"text-align: right;\">\n",
       "      <th></th>\n",
       "      <th>text_original</th>\n",
       "      <th>rating</th>\n",
       "      <th>text</th>\n",
       "      <th>label</th>\n",
       "      <th>sentiment</th>\n",
       "    </tr>\n",
       "  </thead>\n",
       "  <tbody>\n",
       "    <tr>\n",
       "      <th>0</th>\n",
       "      <td>Dieser Arzt ist das unmöglichste was mir in me...</td>\n",
       "      <td>6.0</td>\n",
       "      <td>dieser arzt ist das unmöglichste, das ich je i...</td>\n",
       "      <td>negative</td>\n",
       "      <td>-1</td>\n",
       "    </tr>\n",
       "    <tr>\n",
       "      <th>1</th>\n",
       "      <td>Dieser Arzt ist das unmöglichste was mir in me...</td>\n",
       "      <td>6.0</td>\n",
       "      <td>dieser arzt ist das unmöglichste, was ich jema...</td>\n",
       "      <td>negative</td>\n",
       "      <td>-1</td>\n",
       "    </tr>\n",
       "    <tr>\n",
       "      <th>2</th>\n",
       "      <td>Dieser Arzt ist das unmöglichste was mir in me...</td>\n",
       "      <td>6.0</td>\n",
       "      <td>dieser arzt ist am wenigsten unmöglich in mein...</td>\n",
       "      <td>negative</td>\n",
       "      <td>-1</td>\n",
       "    </tr>\n",
       "  </tbody>\n",
       "</table>\n",
       "</div>"
      ],
      "text/plain": [
       "                                       text_original  rating  \\\n",
       "0  Dieser Arzt ist das unmöglichste was mir in me...     6.0   \n",
       "1  Dieser Arzt ist das unmöglichste was mir in me...     6.0   \n",
       "2  Dieser Arzt ist das unmöglichste was mir in me...     6.0   \n",
       "\n",
       "                                                text     label  sentiment  \n",
       "0  dieser arzt ist das unmöglichste, das ich je i...  negative         -1  \n",
       "1  dieser arzt ist das unmöglichste, was ich jema...  negative         -1  \n",
       "2  dieser arzt ist am wenigsten unmöglich in mein...  negative         -1  "
      ]
     },
     "execution_count": 19,
     "metadata": {},
     "output_type": "execute_result"
    }
   ],
   "source": [
    "data_aug.head(3)"
   ]
  },
  {
   "cell_type": "code",
   "execution_count": null,
   "metadata": {},
   "outputs": [],
   "source": []
  },
  {
   "cell_type": "code",
   "execution_count": 20,
   "metadata": {},
   "outputs": [],
   "source": [
    "from fhnw.nlp.utils.normalize import tokenize\n",
    "from fhnw.nlp.utils.normalize import tokenize_stem\n",
    "from fhnw.nlp.utils.normalize import tokenize_lemma\n",
    "from fhnw.nlp.utils.normalize import normalize\n",
    "from fhnw.nlp.utils.normalize import normalize_df\n",
    "from fhnw.nlp.utils.text import clean_text_df\n",
    "from fhnw.nlp.utils.text import join_tokens_df"
   ]
  },
  {
   "cell_type": "code",
   "execution_count": 21,
   "metadata": {},
   "outputs": [
    {
     "name": "stdout",
     "output_type": "stream",
     "text": [
      "Requirement already satisfied: spacy>=3.0.5 in /usr/local/lib/python3.6/dist-packages (3.1.2)\n",
      "Requirement already satisfied: pydantic!=1.8,!=1.8.1,<1.9.0,>=1.7.4 in /usr/local/lib/python3.6/dist-packages (from spacy>=3.0.5) (1.8.2)\n",
      "Requirement already satisfied: numpy>=1.15.0 in /usr/local/lib/python3.6/dist-packages (from spacy>=3.0.5) (1.19.5)\n",
      "Requirement already satisfied: packaging>=20.0 in /usr/local/lib/python3.6/dist-packages (from spacy>=3.0.5) (21.0)\n",
      "Requirement already satisfied: jinja2 in /usr/local/lib/python3.6/dist-packages (from spacy>=3.0.5) (3.0.1)\n",
      "Requirement already satisfied: setuptools in /usr/local/lib/python3.6/dist-packages (from spacy>=3.0.5) (57.4.0)\n",
      "Requirement already satisfied: cymem<2.1.0,>=2.0.2 in /usr/local/lib/python3.6/dist-packages (from spacy>=3.0.5) (2.0.5)\n",
      "Requirement already satisfied: blis<0.8.0,>=0.4.0 in /usr/local/lib/python3.6/dist-packages (from spacy>=3.0.5) (0.7.4)\n",
      "Requirement already satisfied: catalogue<2.1.0,>=2.0.4 in /usr/local/lib/python3.6/dist-packages (from spacy>=3.0.5) (2.0.6)\n",
      "Requirement already satisfied: pathy>=0.3.5 in /usr/local/lib/python3.6/dist-packages (from spacy>=3.0.5) (0.6.0)\n",
      "Requirement already satisfied: murmurhash<1.1.0,>=0.28.0 in /usr/local/lib/python3.6/dist-packages (from spacy>=3.0.5) (1.0.5)\n",
      "Requirement already satisfied: typing-extensions<4.0.0.0,>=3.7.4; python_version < \"3.8\" in /usr/local/lib/python3.6/dist-packages (from spacy>=3.0.5) (3.7.4.3)\n",
      "Requirement already satisfied: tqdm<5.0.0,>=4.38.0 in /usr/local/lib/python3.6/dist-packages (from spacy>=3.0.5) (4.62.2)\n",
      "Requirement already satisfied: spacy-legacy<3.1.0,>=3.0.7 in /usr/local/lib/python3.6/dist-packages (from spacy>=3.0.5) (3.0.8)\n",
      "Requirement already satisfied: wasabi<1.1.0,>=0.8.1 in /usr/local/lib/python3.6/dist-packages (from spacy>=3.0.5) (0.8.2)\n",
      "Requirement already satisfied: typer<0.4.0,>=0.3.0 in /usr/local/lib/python3.6/dist-packages (from spacy>=3.0.5) (0.3.2)\n",
      "Requirement already satisfied: preshed<3.1.0,>=3.0.2 in /usr/local/lib/python3.6/dist-packages (from spacy>=3.0.5) (3.0.5)\n",
      "Requirement already satisfied: thinc<8.1.0,>=8.0.8 in /usr/local/lib/python3.6/dist-packages (from spacy>=3.0.5) (8.0.10)\n",
      "Requirement already satisfied: requests<3.0.0,>=2.13.0 in /usr/local/lib/python3.6/dist-packages (from spacy>=3.0.5) (2.26.0)\n",
      "Requirement already satisfied: srsly<3.0.0,>=2.4.1 in /usr/local/lib/python3.6/dist-packages (from spacy>=3.0.5) (2.4.1)\n",
      "Requirement already satisfied: dataclasses>=0.6; python_version < \"3.7\" in /usr/local/lib/python3.6/dist-packages (from pydantic!=1.8,!=1.8.1,<1.9.0,>=1.7.4->spacy>=3.0.5) (0.8)\n",
      "Requirement already satisfied: pyparsing>=2.0.2 in /usr/local/lib/python3.6/dist-packages (from packaging>=20.0->spacy>=3.0.5) (2.4.7)\n",
      "Requirement already satisfied: MarkupSafe>=2.0 in /usr/local/lib/python3.6/dist-packages (from jinja2->spacy>=3.0.5) (2.0.1)\n",
      "Requirement already satisfied: zipp>=0.5; python_version < \"3.8\" in /usr/local/lib/python3.6/dist-packages (from catalogue<2.1.0,>=2.0.4->spacy>=3.0.5) (3.5.0)\n",
      "Requirement already satisfied: smart-open<6.0.0,>=5.0.0 in /usr/local/lib/python3.6/dist-packages (from pathy>=0.3.5->spacy>=3.0.5) (5.2.1)\n",
      "Requirement already satisfied: click<7.2.0,>=7.1.1 in /usr/local/lib/python3.6/dist-packages (from typer<0.4.0,>=0.3.0->spacy>=3.0.5) (7.1.2)\n",
      "Requirement already satisfied: contextvars<3,>=2.4; python_version < \"3.7\" in /usr/local/lib/python3.6/dist-packages (from thinc<8.1.0,>=8.0.8->spacy>=3.0.5) (2.4)\n",
      "Requirement already satisfied: idna<4,>=2.5; python_version >= \"3\" in /usr/lib/python3/dist-packages (from requests<3.0.0,>=2.13.0->spacy>=3.0.5) (2.6)\n",
      "Requirement already satisfied: charset-normalizer~=2.0.0; python_version >= \"3\" in /usr/local/lib/python3.6/dist-packages (from requests<3.0.0,>=2.13.0->spacy>=3.0.5) (2.0.4)\n",
      "Requirement already satisfied: urllib3<1.27,>=1.21.1 in /usr/local/lib/python3.6/dist-packages (from requests<3.0.0,>=2.13.0->spacy>=3.0.5) (1.26.6)\n",
      "Requirement already satisfied: certifi>=2017.4.17 in /usr/local/lib/python3.6/dist-packages (from requests<3.0.0,>=2.13.0->spacy>=3.0.5) (2021.5.30)\n",
      "Requirement already satisfied: immutables>=0.9 in /usr/local/lib/python3.6/dist-packages (from contextvars<3,>=2.4; python_version < \"3.7\"->thinc<8.1.0,>=8.0.8->spacy>=3.0.5) (0.16)\n",
      "\u001b[33mWARNING: You are using pip version 20.2.4; however, version 21.2.4 is available.\n",
      "You should consider upgrading via the '/usr/bin/python3 -m pip install --upgrade pip' command.\u001b[0m\n",
      "Requirement already satisfied: nltk in /usr/local/lib/python3.6/dist-packages (3.6.2)\n",
      "Requirement already satisfied: joblib in /usr/local/lib/python3.6/dist-packages (from nltk) (1.0.1)\n",
      "Requirement already satisfied: regex in /usr/local/lib/python3.6/dist-packages (from nltk) (2021.8.28)\n",
      "Requirement already satisfied: tqdm in /usr/local/lib/python3.6/dist-packages (from nltk) (4.62.2)\n",
      "Requirement already satisfied: click in /usr/local/lib/python3.6/dist-packages (from nltk) (7.1.2)\n",
      "\u001b[33mWARNING: You are using pip version 20.2.4; however, version 21.2.4 is available.\n",
      "You should consider upgrading via the '/usr/bin/python3 -m pip install --upgrade pip' command.\u001b[0m\n"
     ]
    },
    {
     "name": "stderr",
     "output_type": "stream",
     "text": [
      "[nltk_data] Downloading package punkt to /root/nltk_data...\n",
      "[nltk_data]   Package punkt is already up-to-date!\n",
      "[nltk_data] Downloading package stopwords to /root/nltk_data...\n",
      "[nltk_data]   Package stopwords is already up-to-date!\n"
     ]
    },
    {
     "name": "stdout",
     "output_type": "stream",
     "text": [
      "2021-10-01 00:28:04.728499: I tensorflow/stream_executor/platform/default/dso_loader.cc:53] Successfully opened dynamic library libcudart.so.11.0\n",
      "Requirement already satisfied: de-core-news-lg==3.1.0 from https://github.com/explosion/spacy-models/releases/download/de_core_news_lg-3.1.0/de_core_news_lg-3.1.0-py3-none-any.whl#egg=de_core_news_lg==3.1.0 in /usr/local/lib/python3.6/dist-packages (3.1.0)\n",
      "Requirement already satisfied: spacy<3.2.0,>=3.1.0 in /usr/local/lib/python3.6/dist-packages (from de-core-news-lg==3.1.0) (3.1.2)\n",
      "Requirement already satisfied: typing-extensions<4.0.0.0,>=3.7.4; python_version < \"3.8\" in /usr/local/lib/python3.6/dist-packages (from spacy<3.2.0,>=3.1.0->de-core-news-lg==3.1.0) (3.7.4.3)\n",
      "Requirement already satisfied: setuptools in /usr/local/lib/python3.6/dist-packages (from spacy<3.2.0,>=3.1.0->de-core-news-lg==3.1.0) (57.4.0)\n",
      "Requirement already satisfied: murmurhash<1.1.0,>=0.28.0 in /usr/local/lib/python3.6/dist-packages (from spacy<3.2.0,>=3.1.0->de-core-news-lg==3.1.0) (1.0.5)\n",
      "Requirement already satisfied: preshed<3.1.0,>=3.0.2 in /usr/local/lib/python3.6/dist-packages (from spacy<3.2.0,>=3.1.0->de-core-news-lg==3.1.0) (3.0.5)\n",
      "Requirement already satisfied: requests<3.0.0,>=2.13.0 in /usr/local/lib/python3.6/dist-packages (from spacy<3.2.0,>=3.1.0->de-core-news-lg==3.1.0) (2.26.0)\n",
      "Requirement already satisfied: spacy-legacy<3.1.0,>=3.0.7 in /usr/local/lib/python3.6/dist-packages (from spacy<3.2.0,>=3.1.0->de-core-news-lg==3.1.0) (3.0.8)\n",
      "Requirement already satisfied: wasabi<1.1.0,>=0.8.1 in /usr/local/lib/python3.6/dist-packages (from spacy<3.2.0,>=3.1.0->de-core-news-lg==3.1.0) (0.8.2)\n",
      "Requirement already satisfied: srsly<3.0.0,>=2.4.1 in /usr/local/lib/python3.6/dist-packages (from spacy<3.2.0,>=3.1.0->de-core-news-lg==3.1.0) (2.4.1)\n",
      "Requirement already satisfied: typer<0.4.0,>=0.3.0 in /usr/local/lib/python3.6/dist-packages (from spacy<3.2.0,>=3.1.0->de-core-news-lg==3.1.0) (0.3.2)\n",
      "Requirement already satisfied: cymem<2.1.0,>=2.0.2 in /usr/local/lib/python3.6/dist-packages (from spacy<3.2.0,>=3.1.0->de-core-news-lg==3.1.0) (2.0.5)\n",
      "Requirement already satisfied: numpy>=1.15.0 in /usr/local/lib/python3.6/dist-packages (from spacy<3.2.0,>=3.1.0->de-core-news-lg==3.1.0) (1.19.5)\n",
      "Requirement already satisfied: thinc<8.1.0,>=8.0.8 in /usr/local/lib/python3.6/dist-packages (from spacy<3.2.0,>=3.1.0->de-core-news-lg==3.1.0) (8.0.10)\n",
      "Requirement already satisfied: tqdm<5.0.0,>=4.38.0 in /usr/local/lib/python3.6/dist-packages (from spacy<3.2.0,>=3.1.0->de-core-news-lg==3.1.0) (4.62.2)\n",
      "Requirement already satisfied: pydantic!=1.8,!=1.8.1,<1.9.0,>=1.7.4 in /usr/local/lib/python3.6/dist-packages (from spacy<3.2.0,>=3.1.0->de-core-news-lg==3.1.0) (1.8.2)\n",
      "Requirement already satisfied: jinja2 in /usr/local/lib/python3.6/dist-packages (from spacy<3.2.0,>=3.1.0->de-core-news-lg==3.1.0) (3.0.1)\n",
      "Requirement already satisfied: packaging>=20.0 in /usr/local/lib/python3.6/dist-packages (from spacy<3.2.0,>=3.1.0->de-core-news-lg==3.1.0) (21.0)\n",
      "Requirement already satisfied: catalogue<2.1.0,>=2.0.4 in /usr/local/lib/python3.6/dist-packages (from spacy<3.2.0,>=3.1.0->de-core-news-lg==3.1.0) (2.0.6)\n",
      "Requirement already satisfied: pathy>=0.3.5 in /usr/local/lib/python3.6/dist-packages (from spacy<3.2.0,>=3.1.0->de-core-news-lg==3.1.0) (0.6.0)\n",
      "Requirement already satisfied: blis<0.8.0,>=0.4.0 in /usr/local/lib/python3.6/dist-packages (from spacy<3.2.0,>=3.1.0->de-core-news-lg==3.1.0) (0.7.4)\n",
      "Requirement already satisfied: charset-normalizer~=2.0.0; python_version >= \"3\" in /usr/local/lib/python3.6/dist-packages (from requests<3.0.0,>=2.13.0->spacy<3.2.0,>=3.1.0->de-core-news-lg==3.1.0) (2.0.4)\n",
      "Requirement already satisfied: idna<4,>=2.5; python_version >= \"3\" in /usr/lib/python3/dist-packages (from requests<3.0.0,>=2.13.0->spacy<3.2.0,>=3.1.0->de-core-news-lg==3.1.0) (2.6)\n",
      "Requirement already satisfied: urllib3<1.27,>=1.21.1 in /usr/local/lib/python3.6/dist-packages (from requests<3.0.0,>=2.13.0->spacy<3.2.0,>=3.1.0->de-core-news-lg==3.1.0) (1.26.6)\n",
      "Requirement already satisfied: certifi>=2017.4.17 in /usr/local/lib/python3.6/dist-packages (from requests<3.0.0,>=2.13.0->spacy<3.2.0,>=3.1.0->de-core-news-lg==3.1.0) (2021.5.30)\n",
      "Requirement already satisfied: click<7.2.0,>=7.1.1 in /usr/local/lib/python3.6/dist-packages (from typer<0.4.0,>=0.3.0->spacy<3.2.0,>=3.1.0->de-core-news-lg==3.1.0) (7.1.2)\n",
      "Requirement already satisfied: contextvars<3,>=2.4; python_version < \"3.7\" in /usr/local/lib/python3.6/dist-packages (from thinc<8.1.0,>=8.0.8->spacy<3.2.0,>=3.1.0->de-core-news-lg==3.1.0) (2.4)\n",
      "Requirement already satisfied: dataclasses<1.0,>=0.6; python_version < \"3.7\" in /usr/local/lib/python3.6/dist-packages (from thinc<8.1.0,>=8.0.8->spacy<3.2.0,>=3.1.0->de-core-news-lg==3.1.0) (0.8)\n",
      "Requirement already satisfied: MarkupSafe>=2.0 in /usr/local/lib/python3.6/dist-packages (from jinja2->spacy<3.2.0,>=3.1.0->de-core-news-lg==3.1.0) (2.0.1)\n",
      "Requirement already satisfied: pyparsing>=2.0.2 in /usr/local/lib/python3.6/dist-packages (from packaging>=20.0->spacy<3.2.0,>=3.1.0->de-core-news-lg==3.1.0) (2.4.7)\n",
      "Requirement already satisfied: zipp>=0.5; python_version < \"3.8\" in /usr/local/lib/python3.6/dist-packages (from catalogue<2.1.0,>=2.0.4->spacy<3.2.0,>=3.1.0->de-core-news-lg==3.1.0) (3.5.0)\n",
      "Requirement already satisfied: smart-open<6.0.0,>=5.0.0 in /usr/local/lib/python3.6/dist-packages (from pathy>=0.3.5->spacy<3.2.0,>=3.1.0->de-core-news-lg==3.1.0) (5.2.1)\n",
      "Requirement already satisfied: immutables>=0.9 in /usr/local/lib/python3.6/dist-packages (from contextvars<3,>=2.4; python_version < \"3.7\"->thinc<8.1.0,>=8.0.8->spacy<3.2.0,>=3.1.0->de-core-news-lg==3.1.0) (0.16)\n",
      "\u001b[33mWARNING: You are using pip version 20.2.4; however, version 21.2.4 is available.\n",
      "You should consider upgrading via the '/usr/bin/python3 -m pip install --upgrade pip' command.\u001b[0m\n",
      "\u001b[38;5;2m✔ Download and installation successful\u001b[0m\n",
      "You can now load the package via spacy.load('de_core_news_lg')\n"
     ]
    }
   ],
   "source": [
    "!pip install 'spacy>=3.0.5'\n",
    "!pip install nltk\n",
    "\n",
    "import nltk\n",
    "from nltk.corpus import stopwords\n",
    "from nltk.stem.snowball import SnowballStemmer\n",
    "nltk.download('punkt')\n",
    "nltk.download('stopwords')\n",
    "\n",
    "import spacy\n",
    "!python3 -m spacy download de_core_news_lg\n",
    "\n",
    "nlp = spacy.load(\"de_core_news_lg\")\n",
    "\n",
    "stemmer = SnowballStemmer(\"german\")\n",
    "empty_stopwords = set()\n",
    "stopwords = set(stopwords.words(\"german\"))\n",
    "n_cores = 4"
   ]
  },
  {
   "cell_type": "code",
   "execution_count": 22,
   "metadata": {},
   "outputs": [
    {
     "name": "stdout",
     "output_type": "stream",
     "text": [
      "CPU times: user 725 ms, sys: 416 ms, total: 1.14 s\n",
      "Wall time: 2.82 s\n"
     ]
    }
   ],
   "source": [
    "%%time\n",
    "\n",
    "# make sure we did not introduce maleformated stuff\n",
    "data_aug = data_aug.rename(columns={\"text\": \"text_tmp\"})\n",
    "data_aug = parallelize_dataframe(data_aug, clean_text_df, n_cores=n_cores, field_read=\"text_tmp\", field_write=\"text\", keep_punctuation=True)\n",
    "data_aug = data_aug.drop(columns=[\"text_tmp\"], errors=\"ignore\")"
   ]
  },
  {
   "cell_type": "code",
   "execution_count": 23,
   "metadata": {},
   "outputs": [
    {
     "name": "stdout",
     "output_type": "stream",
     "text": [
      "CPU times: user 6.1 s, sys: 112 ms, total: 6.21 s\n",
      "Wall time: 6.2 s\n"
     ]
    }
   ],
   "source": [
    "%%time\n",
    "save_dataframe(data_aug, \"data/german_doctor_reviews_augmented_tokenized_tmp.parq\")"
   ]
  },
  {
   "cell_type": "code",
   "execution_count": 24,
   "metadata": {},
   "outputs": [
    {
     "name": "stdout",
     "output_type": "stream",
     "text": [
      "CPU times: user 4.29 s, sys: 656 ms, total: 4.95 s\n",
      "Wall time: 31 s\n"
     ]
    }
   ],
   "source": [
    "%%time\n",
    "data_aug = parallelize_dataframe(data_aug, normalize_df, n_cores=n_cores, field_read=\"text\", field_write=\"token_clean\", stopwords=empty_stopwords, stemmer=None, lemmanizer=None, lemma_with_ner=False)"
   ]
  },
  {
   "cell_type": "code",
   "execution_count": 25,
   "metadata": {},
   "outputs": [
    {
     "name": "stdout",
     "output_type": "stream",
     "text": [
      "CPU times: user 10.3 s, sys: 204 ms, total: 10.5 s\n",
      "Wall time: 10.5 s\n"
     ]
    }
   ],
   "source": [
    "%%time\n",
    "save_dataframe(data_aug, \"data/german_doctor_reviews_augmented_tokenized_tmp.parq\")"
   ]
  },
  {
   "cell_type": "code",
   "execution_count": 26,
   "metadata": {},
   "outputs": [
    {
     "name": "stdout",
     "output_type": "stream",
     "text": [
      "CPU times: user 31.2 s, sys: 1.18 s, total: 32.4 s\n",
      "Wall time: 33.7 s\n"
     ]
    }
   ],
   "source": [
    "%%time\n",
    "data_aug = parallelize_dataframe(data_aug, join_tokens_df, n_cores=n_cores, field_read=\"token_clean\", field_write=\"text_clean\", stopwords=empty_stopwords)"
   ]
  },
  {
   "cell_type": "code",
   "execution_count": 27,
   "metadata": {},
   "outputs": [
    {
     "name": "stdout",
     "output_type": "stream",
     "text": [
      "CPU times: user 14.7 s, sys: 312 ms, total: 15 s\n",
      "Wall time: 14.9 s\n"
     ]
    }
   ],
   "source": [
    "%%time\n",
    "save_dataframe(data_aug, \"data/german_doctor_reviews_augmented_tokenized_tmp.parq\")"
   ]
  },
  {
   "cell_type": "code",
   "execution_count": 28,
   "metadata": {},
   "outputs": [
    {
     "name": "stdout",
     "output_type": "stream",
     "text": [
      "CPU times: user 1min, sys: 6.34 s, total: 1min 6s\n",
      "Wall time: 3min 47s\n"
     ]
    }
   ],
   "source": [
    "%%time\n",
    "data_aug = parallelize_dataframe(data_aug, normalize_df, n_cores=n_cores, field_read=\"token_clean\", field_write=\"token_lemma\", stopwords=stopwords, stemmer=None, lemmanizer=nlp, lemma_with_ner=False)"
   ]
  },
  {
   "cell_type": "code",
   "execution_count": 29,
   "metadata": {},
   "outputs": [
    {
     "name": "stdout",
     "output_type": "stream",
     "text": [
      "CPU times: user 15.9 s, sys: 308 ms, total: 16.2 s\n",
      "Wall time: 16.2 s\n"
     ]
    }
   ],
   "source": [
    "%%time\n",
    "save_dataframe(data_aug, \"data/german_doctor_reviews_augmented_tokenized_tmp.parq\")"
   ]
  },
  {
   "cell_type": "code",
   "execution_count": 30,
   "metadata": {},
   "outputs": [
    {
     "name": "stdout",
     "output_type": "stream",
     "text": [
      "CPU times: user 33 s, sys: 1.59 s, total: 34.6 s\n",
      "Wall time: 47.5 s\n"
     ]
    }
   ],
   "source": [
    "%%time\n",
    "data_aug = parallelize_dataframe(data_aug, normalize_df, n_cores=n_cores, field_read=\"token_clean\", field_write=\"token_stem\", stopwords=stopwords, stemmer=stemmer, lemmanizer=None, lemma_with_ner=False)"
   ]
  },
  {
   "cell_type": "code",
   "execution_count": 31,
   "metadata": {},
   "outputs": [
    {
     "name": "stdout",
     "output_type": "stream",
     "text": [
      "CPU times: user 18.4 s, sys: 384 ms, total: 18.7 s\n",
      "Wall time: 18.7 s\n"
     ]
    }
   ],
   "source": [
    "%%time\n",
    "save_dataframe(data_aug, \"data/german_doctor_reviews_augmented_tokenized_tmp.parq\")"
   ]
  },
  {
   "cell_type": "code",
   "execution_count": 32,
   "metadata": {},
   "outputs": [
    {
     "name": "stdout",
     "output_type": "stream",
     "text": [
      "CPU times: user 34.2 s, sys: 1.45 s, total: 35.6 s\n",
      "Wall time: 42.1 s\n"
     ]
    }
   ],
   "source": [
    "%%time\n",
    "data_aug = parallelize_dataframe(data_aug, normalize_df, n_cores=n_cores, field_read=\"token_clean\", field_write=\"token_clean_stopwords\", stopwords=stopwords, stemmer=None, lemmanizer=None, lemma_with_ner=False)"
   ]
  },
  {
   "cell_type": "code",
   "execution_count": 33,
   "metadata": {},
   "outputs": [
    {
     "name": "stdout",
     "output_type": "stream",
     "text": [
      "CPU times: user 20.8 s, sys: 396 ms, total: 21.1 s\n",
      "Wall time: 21.1 s\n"
     ]
    }
   ],
   "source": [
    "%%time\n",
    "save_dataframe(data_aug, \"data/german_doctor_reviews_augmented_tokenized_tmp.parq\")"
   ]
  },
  {
   "cell_type": "code",
   "execution_count": 34,
   "metadata": {},
   "outputs": [],
   "source": [
    "data_aug = data_aug[data_aug[\"token_lemma\"].map(len) > 1 ]"
   ]
  },
  {
   "cell_type": "code",
   "execution_count": 35,
   "metadata": {},
   "outputs": [
    {
     "data": {
      "text/html": [
       "<div>\n",
       "<style scoped>\n",
       "    .dataframe tbody tr th:only-of-type {\n",
       "        vertical-align: middle;\n",
       "    }\n",
       "\n",
       "    .dataframe tbody tr th {\n",
       "        vertical-align: top;\n",
       "    }\n",
       "\n",
       "    .dataframe thead th {\n",
       "        text-align: right;\n",
       "    }\n",
       "</style>\n",
       "<table border=\"1\" class=\"dataframe\">\n",
       "  <thead>\n",
       "    <tr style=\"text-align: right;\">\n",
       "      <th></th>\n",
       "      <th>text_original</th>\n",
       "      <th>rating</th>\n",
       "      <th>label</th>\n",
       "      <th>sentiment</th>\n",
       "      <th>text</th>\n",
       "      <th>token_clean</th>\n",
       "      <th>text_clean</th>\n",
       "      <th>token_lemma</th>\n",
       "      <th>token_stem</th>\n",
       "      <th>token_clean_stopwords</th>\n",
       "    </tr>\n",
       "  </thead>\n",
       "  <tbody>\n",
       "    <tr>\n",
       "      <th>0</th>\n",
       "      <td>Dieser Arzt ist das unmöglichste was mir in me...</td>\n",
       "      <td>6.0</td>\n",
       "      <td>negative</td>\n",
       "      <td>-1</td>\n",
       "      <td>dieser arzt ist das unmöglichste, das ich je i...</td>\n",
       "      <td>[dieser, arzt, ist, das, unmöglichste, ,, das,...</td>\n",
       "      <td>dieser arzt ist das unmöglichste , das ich je ...</td>\n",
       "      <td>[arzt, unmöglichste, je, leben, triefen, böswi...</td>\n",
       "      <td>[arzt, unmog, ,, je, leb, getroff, ,, boswill,...</td>\n",
       "      <td>[arzt, unmöglichste, ,, je, leben, getroffen, ...</td>\n",
       "    </tr>\n",
       "    <tr>\n",
       "      <th>1</th>\n",
       "      <td>Dieser Arzt ist das unmöglichste was mir in me...</td>\n",
       "      <td>6.0</td>\n",
       "      <td>negative</td>\n",
       "      <td>-1</td>\n",
       "      <td>dieser arzt ist das unmöglichste, was ich jema...</td>\n",
       "      <td>[dieser, arzt, ist, das, unmöglichste, ,, was,...</td>\n",
       "      <td>dieser arzt ist das unmöglichste , was ich jem...</td>\n",
       "      <td>[arzt, unmöglichste, jemals, leben, kennen, ve...</td>\n",
       "      <td>[arzt, unmog, ,, jemal, leb, kannt, ,, versaut...</td>\n",
       "      <td>[arzt, unmöglichste, ,, jemals, leben, kannte,...</td>\n",
       "    </tr>\n",
       "    <tr>\n",
       "      <th>2</th>\n",
       "      <td>Dieser Arzt ist das unmöglichste was mir in me...</td>\n",
       "      <td>6.0</td>\n",
       "      <td>negative</td>\n",
       "      <td>-1</td>\n",
       "      <td>dieser arzt ist am wenigsten unmöglich in mein...</td>\n",
       "      <td>[dieser, arzt, ist, am, wenigsten, unmöglich, ...</td>\n",
       "      <td>dieser arzt ist am wenigsten unmöglich in mein...</td>\n",
       "      <td>[arzt, wenig, unmöglich, leben, finden, unfreu...</td>\n",
       "      <td>[arzt, wenig, unmog, leb, find, ,, unfreund, ,...</td>\n",
       "      <td>[arzt, wenigsten, unmöglich, leben, finden, ,,...</td>\n",
       "    </tr>\n",
       "  </tbody>\n",
       "</table>\n",
       "</div>"
      ],
      "text/plain": [
       "                                       text_original  rating     label  \\\n",
       "0  Dieser Arzt ist das unmöglichste was mir in me...     6.0  negative   \n",
       "1  Dieser Arzt ist das unmöglichste was mir in me...     6.0  negative   \n",
       "2  Dieser Arzt ist das unmöglichste was mir in me...     6.0  negative   \n",
       "\n",
       "   sentiment                                               text  \\\n",
       "0         -1  dieser arzt ist das unmöglichste, das ich je i...   \n",
       "1         -1  dieser arzt ist das unmöglichste, was ich jema...   \n",
       "2         -1  dieser arzt ist am wenigsten unmöglich in mein...   \n",
       "\n",
       "                                         token_clean  \\\n",
       "0  [dieser, arzt, ist, das, unmöglichste, ,, das,...   \n",
       "1  [dieser, arzt, ist, das, unmöglichste, ,, was,...   \n",
       "2  [dieser, arzt, ist, am, wenigsten, unmöglich, ...   \n",
       "\n",
       "                                          text_clean  \\\n",
       "0  dieser arzt ist das unmöglichste , das ich je ...   \n",
       "1  dieser arzt ist das unmöglichste , was ich jem...   \n",
       "2  dieser arzt ist am wenigsten unmöglich in mein...   \n",
       "\n",
       "                                         token_lemma  \\\n",
       "0  [arzt, unmöglichste, je, leben, triefen, böswi...   \n",
       "1  [arzt, unmöglichste, jemals, leben, kennen, ve...   \n",
       "2  [arzt, wenig, unmöglich, leben, finden, unfreu...   \n",
       "\n",
       "                                          token_stem  \\\n",
       "0  [arzt, unmog, ,, je, leb, getroff, ,, boswill,...   \n",
       "1  [arzt, unmog, ,, jemal, leb, kannt, ,, versaut...   \n",
       "2  [arzt, wenig, unmog, leb, find, ,, unfreund, ,...   \n",
       "\n",
       "                               token_clean_stopwords  \n",
       "0  [arzt, unmöglichste, ,, je, leben, getroffen, ...  \n",
       "1  [arzt, unmöglichste, ,, jemals, leben, kannte,...  \n",
       "2  [arzt, wenigsten, unmöglich, leben, finden, ,,...  "
      ]
     },
     "execution_count": 35,
     "metadata": {},
     "output_type": "execute_result"
    }
   ],
   "source": [
    "data_aug.head(3)"
   ]
  },
  {
   "cell_type": "code",
   "execution_count": 37,
   "metadata": {},
   "outputs": [],
   "source": [
    "#%%time\n",
    "#save_dataframe(data_aug, \"data/german_doctor_reviews_augmented_tokenized.parq\")"
   ]
  },
  {
   "cell_type": "code",
   "execution_count": null,
   "metadata": {},
   "outputs": [],
   "source": []
  }
 ],
 "metadata": {
  "kernelspec": {
   "display_name": "Python 3",
   "language": "python",
   "name": "python3"
  },
  "language_info": {
   "codemirror_mode": {
    "name": "ipython",
    "version": 3
   },
   "file_extension": ".py",
   "mimetype": "text/x-python",
   "name": "python",
   "nbconvert_exporter": "python",
   "pygments_lexer": "ipython3",
   "version": "3.6.9"
  }
 },
 "nbformat": 4,
 "nbformat_minor": 2
}
